{
  "cells": [
    {
      "cell_type": "markdown",
      "metadata": {
        "id": "9naUTbZ-SZIX"
      },
      "source": [
        "# 1 - Perkenalan"
      ]
    },
    {
      "cell_type": "markdown",
      "metadata": {
        "id": "p0Ey4d4DSZIY"
      },
      "source": [
        "Nama : Husain Tsabit Abdur Rahim\n",
        "\n",
        "Batch : FTDS H8 016 - RMT"
      ]
    },
    {
      "cell_type": "markdown",
      "metadata": {
        "id": "kPWfJmUGSZIZ"
      },
      "source": [
        "# 2 - Import Libraries"
      ]
    },
    {
      "cell_type": "code",
      "execution_count": 1,
      "metadata": {
        "id": "84D8QRSOSZIZ"
      },
      "outputs": [
        {
          "name": "stderr",
          "output_type": "stream",
          "text": [
            "2022-12-02 15:53:18.254389: I tensorflow/core/platform/cpu_feature_guard.cc:193] This TensorFlow binary is optimized with oneAPI Deep Neural Network Library (oneDNN) to use the following CPU instructions in performance-critical operations:  AVX2 FMA\n",
            "To enable them in other operations, rebuild TensorFlow with the appropriate compiler flags.\n"
          ]
        }
      ],
      "source": [
        "# libraries\n",
        "import pandas as pd\n",
        "import numpy as np\n",
        "\n",
        "# Visualization\n",
        "import matplotlib.pyplot as plt\n",
        "import seaborn as sns\n",
        "\n",
        "# Splitting Data\n",
        "from sklearn.model_selection import train_test_split\n",
        "\n",
        "# Scaling and Encoding\n",
        "from sklearn.preprocessing import StandardScaler, OrdinalEncoder \n",
        "\n",
        "# imbalance handling\n",
        "from imblearn.over_sampling import SMOTENC\n",
        "\n",
        "# metrics\n",
        "from sklearn.metrics import classification_report\n",
        "\n",
        "# Model\n",
        "from tensorflow.keras.models import Sequential\n",
        "from tensorflow.keras.layers import Dense\n",
        "import tensorflow as tf\n",
        "from tensorflow.keras.layers import Input\n",
        "from tensorflow.keras import Model\n",
        "\n",
        "# saving and load model\n",
        "import joblib\n",
        "import json\n",
        "from tensorflow.keras.models import load_model\n",
        "\n",
        "\n",
        "import warnings\n",
        "warnings.filterwarnings(\"ignore\")"
      ]
    },
    {
      "cell_type": "markdown",
      "metadata": {
        "id": "e9h6oqCmSZIa"
      },
      "source": [
        "# 3 - Data Loading"
      ]
    },
    {
      "cell_type": "markdown",
      "metadata": {
        "id": "GRc3kK2LSZIa"
      },
      "source": [
        "## 3.1 Import Dataset"
      ]
    },
    {
      "cell_type": "code",
      "execution_count": 2,
      "metadata": {
        "colab": {
          "base_uri": "https://localhost:8080/",
          "height": 1000
        },
        "id": "hRnL7h7nSZIb",
        "outputId": "b6d39bf1-e8ae-4272-82f1-da2062946023"
      },
      "outputs": [
        {
          "data": {
            "text/html": [
              "<div>\n",
              "<style scoped>\n",
              "    .dataframe tbody tr th:only-of-type {\n",
              "        vertical-align: middle;\n",
              "    }\n",
              "\n",
              "    .dataframe tbody tr th {\n",
              "        vertical-align: top;\n",
              "    }\n",
              "\n",
              "    .dataframe thead th {\n",
              "        text-align: right;\n",
              "    }\n",
              "</style>\n",
              "<table border=\"1\" class=\"dataframe\">\n",
              "  <thead>\n",
              "    <tr style=\"text-align: right;\">\n",
              "      <th></th>\n",
              "      <th>0</th>\n",
              "      <th>1</th>\n",
              "      <th>2</th>\n",
              "      <th>3</th>\n",
              "      <th>4</th>\n",
              "      <th>5</th>\n",
              "      <th>6</th>\n",
              "      <th>7</th>\n",
              "      <th>8</th>\n",
              "      <th>9</th>\n",
              "      <th>...</th>\n",
              "      <th>7033</th>\n",
              "      <th>7034</th>\n",
              "      <th>7035</th>\n",
              "      <th>7036</th>\n",
              "      <th>7037</th>\n",
              "      <th>7038</th>\n",
              "      <th>7039</th>\n",
              "      <th>7040</th>\n",
              "      <th>7041</th>\n",
              "      <th>7042</th>\n",
              "    </tr>\n",
              "  </thead>\n",
              "  <tbody>\n",
              "    <tr>\n",
              "      <th>customerID</th>\n",
              "      <td>7590-VHVEG</td>\n",
              "      <td>5575-GNVDE</td>\n",
              "      <td>3668-QPYBK</td>\n",
              "      <td>7795-CFOCW</td>\n",
              "      <td>9237-HQITU</td>\n",
              "      <td>9305-CDSKC</td>\n",
              "      <td>1452-KIOVK</td>\n",
              "      <td>6713-OKOMC</td>\n",
              "      <td>7892-POOKP</td>\n",
              "      <td>6388-TABGU</td>\n",
              "      <td>...</td>\n",
              "      <td>9767-FFLEM</td>\n",
              "      <td>0639-TSIQW</td>\n",
              "      <td>8456-QDAVC</td>\n",
              "      <td>7750-EYXWZ</td>\n",
              "      <td>2569-WGERO</td>\n",
              "      <td>6840-RESVB</td>\n",
              "      <td>2234-XADUH</td>\n",
              "      <td>4801-JZAZL</td>\n",
              "      <td>8361-LTMKD</td>\n",
              "      <td>3186-AJIEK</td>\n",
              "    </tr>\n",
              "    <tr>\n",
              "      <th>gender</th>\n",
              "      <td>Female</td>\n",
              "      <td>Male</td>\n",
              "      <td>Male</td>\n",
              "      <td>Male</td>\n",
              "      <td>Female</td>\n",
              "      <td>Female</td>\n",
              "      <td>Male</td>\n",
              "      <td>Female</td>\n",
              "      <td>Female</td>\n",
              "      <td>Male</td>\n",
              "      <td>...</td>\n",
              "      <td>Male</td>\n",
              "      <td>Female</td>\n",
              "      <td>Male</td>\n",
              "      <td>Female</td>\n",
              "      <td>Female</td>\n",
              "      <td>Male</td>\n",
              "      <td>Female</td>\n",
              "      <td>Female</td>\n",
              "      <td>Male</td>\n",
              "      <td>Male</td>\n",
              "    </tr>\n",
              "    <tr>\n",
              "      <th>SeniorCitizen</th>\n",
              "      <td>0</td>\n",
              "      <td>0</td>\n",
              "      <td>0</td>\n",
              "      <td>0</td>\n",
              "      <td>0</td>\n",
              "      <td>0</td>\n",
              "      <td>0</td>\n",
              "      <td>0</td>\n",
              "      <td>0</td>\n",
              "      <td>0</td>\n",
              "      <td>...</td>\n",
              "      <td>0</td>\n",
              "      <td>0</td>\n",
              "      <td>0</td>\n",
              "      <td>0</td>\n",
              "      <td>0</td>\n",
              "      <td>0</td>\n",
              "      <td>0</td>\n",
              "      <td>0</td>\n",
              "      <td>1</td>\n",
              "      <td>0</td>\n",
              "    </tr>\n",
              "    <tr>\n",
              "      <th>Partner</th>\n",
              "      <td>Yes</td>\n",
              "      <td>No</td>\n",
              "      <td>No</td>\n",
              "      <td>No</td>\n",
              "      <td>No</td>\n",
              "      <td>No</td>\n",
              "      <td>No</td>\n",
              "      <td>No</td>\n",
              "      <td>Yes</td>\n",
              "      <td>No</td>\n",
              "      <td>...</td>\n",
              "      <td>No</td>\n",
              "      <td>No</td>\n",
              "      <td>No</td>\n",
              "      <td>No</td>\n",
              "      <td>No</td>\n",
              "      <td>Yes</td>\n",
              "      <td>Yes</td>\n",
              "      <td>Yes</td>\n",
              "      <td>Yes</td>\n",
              "      <td>No</td>\n",
              "    </tr>\n",
              "    <tr>\n",
              "      <th>Dependents</th>\n",
              "      <td>No</td>\n",
              "      <td>No</td>\n",
              "      <td>No</td>\n",
              "      <td>No</td>\n",
              "      <td>No</td>\n",
              "      <td>No</td>\n",
              "      <td>Yes</td>\n",
              "      <td>No</td>\n",
              "      <td>No</td>\n",
              "      <td>Yes</td>\n",
              "      <td>...</td>\n",
              "      <td>No</td>\n",
              "      <td>No</td>\n",
              "      <td>No</td>\n",
              "      <td>No</td>\n",
              "      <td>No</td>\n",
              "      <td>Yes</td>\n",
              "      <td>Yes</td>\n",
              "      <td>Yes</td>\n",
              "      <td>No</td>\n",
              "      <td>No</td>\n",
              "    </tr>\n",
              "    <tr>\n",
              "      <th>tenure</th>\n",
              "      <td>1</td>\n",
              "      <td>34</td>\n",
              "      <td>2</td>\n",
              "      <td>45</td>\n",
              "      <td>2</td>\n",
              "      <td>8</td>\n",
              "      <td>22</td>\n",
              "      <td>10</td>\n",
              "      <td>28</td>\n",
              "      <td>62</td>\n",
              "      <td>...</td>\n",
              "      <td>38</td>\n",
              "      <td>67</td>\n",
              "      <td>19</td>\n",
              "      <td>12</td>\n",
              "      <td>72</td>\n",
              "      <td>24</td>\n",
              "      <td>72</td>\n",
              "      <td>11</td>\n",
              "      <td>4</td>\n",
              "      <td>66</td>\n",
              "    </tr>\n",
              "    <tr>\n",
              "      <th>PhoneService</th>\n",
              "      <td>No</td>\n",
              "      <td>Yes</td>\n",
              "      <td>Yes</td>\n",
              "      <td>No</td>\n",
              "      <td>Yes</td>\n",
              "      <td>Yes</td>\n",
              "      <td>Yes</td>\n",
              "      <td>No</td>\n",
              "      <td>Yes</td>\n",
              "      <td>Yes</td>\n",
              "      <td>...</td>\n",
              "      <td>Yes</td>\n",
              "      <td>Yes</td>\n",
              "      <td>Yes</td>\n",
              "      <td>No</td>\n",
              "      <td>Yes</td>\n",
              "      <td>Yes</td>\n",
              "      <td>Yes</td>\n",
              "      <td>No</td>\n",
              "      <td>Yes</td>\n",
              "      <td>Yes</td>\n",
              "    </tr>\n",
              "    <tr>\n",
              "      <th>MultipleLines</th>\n",
              "      <td>No phone service</td>\n",
              "      <td>No</td>\n",
              "      <td>No</td>\n",
              "      <td>No phone service</td>\n",
              "      <td>No</td>\n",
              "      <td>Yes</td>\n",
              "      <td>Yes</td>\n",
              "      <td>No phone service</td>\n",
              "      <td>Yes</td>\n",
              "      <td>No</td>\n",
              "      <td>...</td>\n",
              "      <td>No</td>\n",
              "      <td>Yes</td>\n",
              "      <td>No</td>\n",
              "      <td>No phone service</td>\n",
              "      <td>No</td>\n",
              "      <td>Yes</td>\n",
              "      <td>Yes</td>\n",
              "      <td>No phone service</td>\n",
              "      <td>Yes</td>\n",
              "      <td>No</td>\n",
              "    </tr>\n",
              "    <tr>\n",
              "      <th>InternetService</th>\n",
              "      <td>DSL</td>\n",
              "      <td>DSL</td>\n",
              "      <td>DSL</td>\n",
              "      <td>DSL</td>\n",
              "      <td>Fiber optic</td>\n",
              "      <td>Fiber optic</td>\n",
              "      <td>Fiber optic</td>\n",
              "      <td>DSL</td>\n",
              "      <td>Fiber optic</td>\n",
              "      <td>DSL</td>\n",
              "      <td>...</td>\n",
              "      <td>Fiber optic</td>\n",
              "      <td>Fiber optic</td>\n",
              "      <td>Fiber optic</td>\n",
              "      <td>DSL</td>\n",
              "      <td>No</td>\n",
              "      <td>DSL</td>\n",
              "      <td>Fiber optic</td>\n",
              "      <td>DSL</td>\n",
              "      <td>Fiber optic</td>\n",
              "      <td>Fiber optic</td>\n",
              "    </tr>\n",
              "    <tr>\n",
              "      <th>OnlineSecurity</th>\n",
              "      <td>No</td>\n",
              "      <td>Yes</td>\n",
              "      <td>Yes</td>\n",
              "      <td>Yes</td>\n",
              "      <td>No</td>\n",
              "      <td>No</td>\n",
              "      <td>No</td>\n",
              "      <td>Yes</td>\n",
              "      <td>No</td>\n",
              "      <td>Yes</td>\n",
              "      <td>...</td>\n",
              "      <td>No</td>\n",
              "      <td>Yes</td>\n",
              "      <td>No</td>\n",
              "      <td>No</td>\n",
              "      <td>No internet service</td>\n",
              "      <td>Yes</td>\n",
              "      <td>No</td>\n",
              "      <td>Yes</td>\n",
              "      <td>No</td>\n",
              "      <td>Yes</td>\n",
              "    </tr>\n",
              "    <tr>\n",
              "      <th>OnlineBackup</th>\n",
              "      <td>Yes</td>\n",
              "      <td>No</td>\n",
              "      <td>Yes</td>\n",
              "      <td>No</td>\n",
              "      <td>No</td>\n",
              "      <td>No</td>\n",
              "      <td>Yes</td>\n",
              "      <td>No</td>\n",
              "      <td>No</td>\n",
              "      <td>Yes</td>\n",
              "      <td>...</td>\n",
              "      <td>No</td>\n",
              "      <td>Yes</td>\n",
              "      <td>No</td>\n",
              "      <td>Yes</td>\n",
              "      <td>No internet service</td>\n",
              "      <td>No</td>\n",
              "      <td>Yes</td>\n",
              "      <td>No</td>\n",
              "      <td>No</td>\n",
              "      <td>No</td>\n",
              "    </tr>\n",
              "    <tr>\n",
              "      <th>DeviceProtection</th>\n",
              "      <td>No</td>\n",
              "      <td>Yes</td>\n",
              "      <td>No</td>\n",
              "      <td>Yes</td>\n",
              "      <td>No</td>\n",
              "      <td>Yes</td>\n",
              "      <td>No</td>\n",
              "      <td>No</td>\n",
              "      <td>Yes</td>\n",
              "      <td>No</td>\n",
              "      <td>...</td>\n",
              "      <td>No</td>\n",
              "      <td>Yes</td>\n",
              "      <td>No</td>\n",
              "      <td>Yes</td>\n",
              "      <td>No internet service</td>\n",
              "      <td>Yes</td>\n",
              "      <td>Yes</td>\n",
              "      <td>No</td>\n",
              "      <td>No</td>\n",
              "      <td>Yes</td>\n",
              "    </tr>\n",
              "    <tr>\n",
              "      <th>TechSupport</th>\n",
              "      <td>No</td>\n",
              "      <td>No</td>\n",
              "      <td>No</td>\n",
              "      <td>Yes</td>\n",
              "      <td>No</td>\n",
              "      <td>No</td>\n",
              "      <td>No</td>\n",
              "      <td>No</td>\n",
              "      <td>Yes</td>\n",
              "      <td>No</td>\n",
              "      <td>...</td>\n",
              "      <td>No</td>\n",
              "      <td>No</td>\n",
              "      <td>No</td>\n",
              "      <td>Yes</td>\n",
              "      <td>No internet service</td>\n",
              "      <td>Yes</td>\n",
              "      <td>No</td>\n",
              "      <td>No</td>\n",
              "      <td>No</td>\n",
              "      <td>Yes</td>\n",
              "    </tr>\n",
              "    <tr>\n",
              "      <th>StreamingTV</th>\n",
              "      <td>No</td>\n",
              "      <td>No</td>\n",
              "      <td>No</td>\n",
              "      <td>No</td>\n",
              "      <td>No</td>\n",
              "      <td>Yes</td>\n",
              "      <td>Yes</td>\n",
              "      <td>No</td>\n",
              "      <td>Yes</td>\n",
              "      <td>No</td>\n",
              "      <td>...</td>\n",
              "      <td>No</td>\n",
              "      <td>Yes</td>\n",
              "      <td>Yes</td>\n",
              "      <td>Yes</td>\n",
              "      <td>No internet service</td>\n",
              "      <td>Yes</td>\n",
              "      <td>Yes</td>\n",
              "      <td>No</td>\n",
              "      <td>No</td>\n",
              "      <td>Yes</td>\n",
              "    </tr>\n",
              "    <tr>\n",
              "      <th>StreamingMovies</th>\n",
              "      <td>No</td>\n",
              "      <td>No</td>\n",
              "      <td>No</td>\n",
              "      <td>No</td>\n",
              "      <td>No</td>\n",
              "      <td>Yes</td>\n",
              "      <td>No</td>\n",
              "      <td>No</td>\n",
              "      <td>Yes</td>\n",
              "      <td>No</td>\n",
              "      <td>...</td>\n",
              "      <td>No</td>\n",
              "      <td>No</td>\n",
              "      <td>No</td>\n",
              "      <td>Yes</td>\n",
              "      <td>No internet service</td>\n",
              "      <td>Yes</td>\n",
              "      <td>Yes</td>\n",
              "      <td>No</td>\n",
              "      <td>No</td>\n",
              "      <td>Yes</td>\n",
              "    </tr>\n",
              "    <tr>\n",
              "      <th>Contract</th>\n",
              "      <td>Month-to-month</td>\n",
              "      <td>One year</td>\n",
              "      <td>Month-to-month</td>\n",
              "      <td>One year</td>\n",
              "      <td>Month-to-month</td>\n",
              "      <td>Month-to-month</td>\n",
              "      <td>Month-to-month</td>\n",
              "      <td>Month-to-month</td>\n",
              "      <td>Month-to-month</td>\n",
              "      <td>One year</td>\n",
              "      <td>...</td>\n",
              "      <td>Month-to-month</td>\n",
              "      <td>Month-to-month</td>\n",
              "      <td>Month-to-month</td>\n",
              "      <td>One year</td>\n",
              "      <td>Two year</td>\n",
              "      <td>One year</td>\n",
              "      <td>One year</td>\n",
              "      <td>Month-to-month</td>\n",
              "      <td>Month-to-month</td>\n",
              "      <td>Two year</td>\n",
              "    </tr>\n",
              "    <tr>\n",
              "      <th>PaperlessBilling</th>\n",
              "      <td>Yes</td>\n",
              "      <td>No</td>\n",
              "      <td>Yes</td>\n",
              "      <td>No</td>\n",
              "      <td>Yes</td>\n",
              "      <td>Yes</td>\n",
              "      <td>Yes</td>\n",
              "      <td>No</td>\n",
              "      <td>Yes</td>\n",
              "      <td>No</td>\n",
              "      <td>...</td>\n",
              "      <td>Yes</td>\n",
              "      <td>Yes</td>\n",
              "      <td>Yes</td>\n",
              "      <td>No</td>\n",
              "      <td>Yes</td>\n",
              "      <td>Yes</td>\n",
              "      <td>Yes</td>\n",
              "      <td>Yes</td>\n",
              "      <td>Yes</td>\n",
              "      <td>Yes</td>\n",
              "    </tr>\n",
              "    <tr>\n",
              "      <th>PaymentMethod</th>\n",
              "      <td>Electronic check</td>\n",
              "      <td>Mailed check</td>\n",
              "      <td>Mailed check</td>\n",
              "      <td>Bank transfer (automatic)</td>\n",
              "      <td>Electronic check</td>\n",
              "      <td>Electronic check</td>\n",
              "      <td>Credit card (automatic)</td>\n",
              "      <td>Mailed check</td>\n",
              "      <td>Electronic check</td>\n",
              "      <td>Bank transfer (automatic)</td>\n",
              "      <td>...</td>\n",
              "      <td>Credit card (automatic)</td>\n",
              "      <td>Credit card (automatic)</td>\n",
              "      <td>Bank transfer (automatic)</td>\n",
              "      <td>Electronic check</td>\n",
              "      <td>Bank transfer (automatic)</td>\n",
              "      <td>Mailed check</td>\n",
              "      <td>Credit card (automatic)</td>\n",
              "      <td>Electronic check</td>\n",
              "      <td>Mailed check</td>\n",
              "      <td>Bank transfer (automatic)</td>\n",
              "    </tr>\n",
              "    <tr>\n",
              "      <th>MonthlyCharges</th>\n",
              "      <td>29.85</td>\n",
              "      <td>56.95</td>\n",
              "      <td>53.85</td>\n",
              "      <td>42.3</td>\n",
              "      <td>70.7</td>\n",
              "      <td>99.65</td>\n",
              "      <td>89.1</td>\n",
              "      <td>29.75</td>\n",
              "      <td>104.8</td>\n",
              "      <td>56.15</td>\n",
              "      <td>...</td>\n",
              "      <td>69.5</td>\n",
              "      <td>102.95</td>\n",
              "      <td>78.7</td>\n",
              "      <td>60.65</td>\n",
              "      <td>21.15</td>\n",
              "      <td>84.8</td>\n",
              "      <td>103.2</td>\n",
              "      <td>29.6</td>\n",
              "      <td>74.4</td>\n",
              "      <td>105.65</td>\n",
              "    </tr>\n",
              "    <tr>\n",
              "      <th>TotalCharges</th>\n",
              "      <td>29.85</td>\n",
              "      <td>1889.5</td>\n",
              "      <td>108.15</td>\n",
              "      <td>1840.75</td>\n",
              "      <td>151.65</td>\n",
              "      <td>820.5</td>\n",
              "      <td>1949.4</td>\n",
              "      <td>301.9</td>\n",
              "      <td>3046.05</td>\n",
              "      <td>3487.95</td>\n",
              "      <td>...</td>\n",
              "      <td>2625.25</td>\n",
              "      <td>6886.25</td>\n",
              "      <td>1495.1</td>\n",
              "      <td>743.3</td>\n",
              "      <td>1419.4</td>\n",
              "      <td>1990.5</td>\n",
              "      <td>7362.9</td>\n",
              "      <td>346.45</td>\n",
              "      <td>306.6</td>\n",
              "      <td>6844.5</td>\n",
              "    </tr>\n",
              "    <tr>\n",
              "      <th>Churn</th>\n",
              "      <td>No</td>\n",
              "      <td>No</td>\n",
              "      <td>Yes</td>\n",
              "      <td>No</td>\n",
              "      <td>Yes</td>\n",
              "      <td>Yes</td>\n",
              "      <td>No</td>\n",
              "      <td>No</td>\n",
              "      <td>Yes</td>\n",
              "      <td>No</td>\n",
              "      <td>...</td>\n",
              "      <td>No</td>\n",
              "      <td>Yes</td>\n",
              "      <td>No</td>\n",
              "      <td>No</td>\n",
              "      <td>No</td>\n",
              "      <td>No</td>\n",
              "      <td>No</td>\n",
              "      <td>No</td>\n",
              "      <td>Yes</td>\n",
              "      <td>No</td>\n",
              "    </tr>\n",
              "  </tbody>\n",
              "</table>\n",
              "<p>21 rows × 7043 columns</p>\n",
              "</div>"
            ],
            "text/plain": [
              "                              0             1               2     \\\n",
              "customerID              7590-VHVEG    5575-GNVDE      3668-QPYBK   \n",
              "gender                      Female          Male            Male   \n",
              "SeniorCitizen                    0             0               0   \n",
              "Partner                        Yes            No              No   \n",
              "Dependents                      No            No              No   \n",
              "tenure                           1            34               2   \n",
              "PhoneService                    No           Yes             Yes   \n",
              "MultipleLines     No phone service            No              No   \n",
              "InternetService                DSL           DSL             DSL   \n",
              "OnlineSecurity                  No           Yes             Yes   \n",
              "OnlineBackup                   Yes            No             Yes   \n",
              "DeviceProtection                No           Yes              No   \n",
              "TechSupport                     No            No              No   \n",
              "StreamingTV                     No            No              No   \n",
              "StreamingMovies                 No            No              No   \n",
              "Contract            Month-to-month      One year  Month-to-month   \n",
              "PaperlessBilling               Yes            No             Yes   \n",
              "PaymentMethod     Electronic check  Mailed check    Mailed check   \n",
              "MonthlyCharges               29.85         56.95           53.85   \n",
              "TotalCharges                 29.85        1889.5          108.15   \n",
              "Churn                           No            No             Yes   \n",
              "\n",
              "                                       3                 4     \\\n",
              "customerID                       7795-CFOCW        9237-HQITU   \n",
              "gender                                 Male            Female   \n",
              "SeniorCitizen                             0                 0   \n",
              "Partner                                  No                No   \n",
              "Dependents                               No                No   \n",
              "tenure                                   45                 2   \n",
              "PhoneService                             No               Yes   \n",
              "MultipleLines              No phone service                No   \n",
              "InternetService                         DSL       Fiber optic   \n",
              "OnlineSecurity                          Yes                No   \n",
              "OnlineBackup                             No                No   \n",
              "DeviceProtection                        Yes                No   \n",
              "TechSupport                             Yes                No   \n",
              "StreamingTV                              No                No   \n",
              "StreamingMovies                          No                No   \n",
              "Contract                           One year    Month-to-month   \n",
              "PaperlessBilling                         No               Yes   \n",
              "PaymentMethod     Bank transfer (automatic)  Electronic check   \n",
              "MonthlyCharges                         42.3              70.7   \n",
              "TotalCharges                        1840.75            151.65   \n",
              "Churn                                    No               Yes   \n",
              "\n",
              "                              5                        6                 7     \\\n",
              "customerID              9305-CDSKC               1452-KIOVK        6713-OKOMC   \n",
              "gender                      Female                     Male            Female   \n",
              "SeniorCitizen                    0                        0                 0   \n",
              "Partner                         No                       No                No   \n",
              "Dependents                      No                      Yes                No   \n",
              "tenure                           8                       22                10   \n",
              "PhoneService                   Yes                      Yes                No   \n",
              "MultipleLines                  Yes                      Yes  No phone service   \n",
              "InternetService        Fiber optic              Fiber optic               DSL   \n",
              "OnlineSecurity                  No                       No               Yes   \n",
              "OnlineBackup                    No                      Yes                No   \n",
              "DeviceProtection               Yes                       No                No   \n",
              "TechSupport                     No                       No                No   \n",
              "StreamingTV                    Yes                      Yes                No   \n",
              "StreamingMovies                Yes                       No                No   \n",
              "Contract            Month-to-month           Month-to-month    Month-to-month   \n",
              "PaperlessBilling               Yes                      Yes                No   \n",
              "PaymentMethod     Electronic check  Credit card (automatic)      Mailed check   \n",
              "MonthlyCharges               99.65                     89.1             29.75   \n",
              "TotalCharges                 820.5                   1949.4             301.9   \n",
              "Churn                          Yes                       No                No   \n",
              "\n",
              "                              8                          9     ...  \\\n",
              "customerID              7892-POOKP                 6388-TABGU  ...   \n",
              "gender                      Female                       Male  ...   \n",
              "SeniorCitizen                    0                          0  ...   \n",
              "Partner                        Yes                         No  ...   \n",
              "Dependents                      No                        Yes  ...   \n",
              "tenure                          28                         62  ...   \n",
              "PhoneService                   Yes                        Yes  ...   \n",
              "MultipleLines                  Yes                         No  ...   \n",
              "InternetService        Fiber optic                        DSL  ...   \n",
              "OnlineSecurity                  No                        Yes  ...   \n",
              "OnlineBackup                    No                        Yes  ...   \n",
              "DeviceProtection               Yes                         No  ...   \n",
              "TechSupport                    Yes                         No  ...   \n",
              "StreamingTV                    Yes                         No  ...   \n",
              "StreamingMovies                Yes                         No  ...   \n",
              "Contract            Month-to-month                   One year  ...   \n",
              "PaperlessBilling               Yes                         No  ...   \n",
              "PaymentMethod     Electronic check  Bank transfer (automatic)  ...   \n",
              "MonthlyCharges               104.8                      56.15  ...   \n",
              "TotalCharges               3046.05                    3487.95  ...   \n",
              "Churn                          Yes                         No  ...   \n",
              "\n",
              "                                     7033                     7034  \\\n",
              "customerID                     9767-FFLEM               0639-TSIQW   \n",
              "gender                               Male                   Female   \n",
              "SeniorCitizen                           0                        0   \n",
              "Partner                                No                       No   \n",
              "Dependents                             No                       No   \n",
              "tenure                                 38                       67   \n",
              "PhoneService                          Yes                      Yes   \n",
              "MultipleLines                          No                      Yes   \n",
              "InternetService               Fiber optic              Fiber optic   \n",
              "OnlineSecurity                         No                      Yes   \n",
              "OnlineBackup                           No                      Yes   \n",
              "DeviceProtection                       No                      Yes   \n",
              "TechSupport                            No                       No   \n",
              "StreamingTV                            No                      Yes   \n",
              "StreamingMovies                        No                       No   \n",
              "Contract                   Month-to-month           Month-to-month   \n",
              "PaperlessBilling                      Yes                      Yes   \n",
              "PaymentMethod     Credit card (automatic)  Credit card (automatic)   \n",
              "MonthlyCharges                       69.5                   102.95   \n",
              "TotalCharges                      2625.25                  6886.25   \n",
              "Churn                                  No                      Yes   \n",
              "\n",
              "                                       7035              7036  \\\n",
              "customerID                       8456-QDAVC        7750-EYXWZ   \n",
              "gender                                 Male            Female   \n",
              "SeniorCitizen                             0                 0   \n",
              "Partner                                  No                No   \n",
              "Dependents                               No                No   \n",
              "tenure                                   19                12   \n",
              "PhoneService                            Yes                No   \n",
              "MultipleLines                            No  No phone service   \n",
              "InternetService                 Fiber optic               DSL   \n",
              "OnlineSecurity                           No                No   \n",
              "OnlineBackup                             No               Yes   \n",
              "DeviceProtection                         No               Yes   \n",
              "TechSupport                              No               Yes   \n",
              "StreamingTV                             Yes               Yes   \n",
              "StreamingMovies                          No               Yes   \n",
              "Contract                     Month-to-month          One year   \n",
              "PaperlessBilling                        Yes                No   \n",
              "PaymentMethod     Bank transfer (automatic)  Electronic check   \n",
              "MonthlyCharges                         78.7             60.65   \n",
              "TotalCharges                         1495.1             743.3   \n",
              "Churn                                    No                No   \n",
              "\n",
              "                                       7037          7038  \\\n",
              "customerID                       2569-WGERO    6840-RESVB   \n",
              "gender                               Female          Male   \n",
              "SeniorCitizen                             0             0   \n",
              "Partner                                  No           Yes   \n",
              "Dependents                               No           Yes   \n",
              "tenure                                   72            24   \n",
              "PhoneService                            Yes           Yes   \n",
              "MultipleLines                            No           Yes   \n",
              "InternetService                          No           DSL   \n",
              "OnlineSecurity          No internet service           Yes   \n",
              "OnlineBackup            No internet service            No   \n",
              "DeviceProtection        No internet service           Yes   \n",
              "TechSupport             No internet service           Yes   \n",
              "StreamingTV             No internet service           Yes   \n",
              "StreamingMovies         No internet service           Yes   \n",
              "Contract                           Two year      One year   \n",
              "PaperlessBilling                        Yes           Yes   \n",
              "PaymentMethod     Bank transfer (automatic)  Mailed check   \n",
              "MonthlyCharges                        21.15          84.8   \n",
              "TotalCharges                         1419.4        1990.5   \n",
              "Churn                                    No            No   \n",
              "\n",
              "                                     7039              7040            7041  \\\n",
              "customerID                     2234-XADUH        4801-JZAZL      8361-LTMKD   \n",
              "gender                             Female            Female            Male   \n",
              "SeniorCitizen                           0                 0               1   \n",
              "Partner                               Yes               Yes             Yes   \n",
              "Dependents                            Yes               Yes              No   \n",
              "tenure                                 72                11               4   \n",
              "PhoneService                          Yes                No             Yes   \n",
              "MultipleLines                         Yes  No phone service             Yes   \n",
              "InternetService               Fiber optic               DSL     Fiber optic   \n",
              "OnlineSecurity                         No               Yes              No   \n",
              "OnlineBackup                          Yes                No              No   \n",
              "DeviceProtection                      Yes                No              No   \n",
              "TechSupport                            No                No              No   \n",
              "StreamingTV                           Yes                No              No   \n",
              "StreamingMovies                       Yes                No              No   \n",
              "Contract                         One year    Month-to-month  Month-to-month   \n",
              "PaperlessBilling                      Yes               Yes             Yes   \n",
              "PaymentMethod     Credit card (automatic)  Electronic check    Mailed check   \n",
              "MonthlyCharges                      103.2              29.6            74.4   \n",
              "TotalCharges                       7362.9            346.45           306.6   \n",
              "Churn                                  No                No             Yes   \n",
              "\n",
              "                                       7042  \n",
              "customerID                       3186-AJIEK  \n",
              "gender                                 Male  \n",
              "SeniorCitizen                             0  \n",
              "Partner                                  No  \n",
              "Dependents                               No  \n",
              "tenure                                   66  \n",
              "PhoneService                            Yes  \n",
              "MultipleLines                            No  \n",
              "InternetService                 Fiber optic  \n",
              "OnlineSecurity                          Yes  \n",
              "OnlineBackup                             No  \n",
              "DeviceProtection                        Yes  \n",
              "TechSupport                             Yes  \n",
              "StreamingTV                             Yes  \n",
              "StreamingMovies                         Yes  \n",
              "Contract                           Two year  \n",
              "PaperlessBilling                        Yes  \n",
              "PaymentMethod     Bank transfer (automatic)  \n",
              "MonthlyCharges                       105.65  \n",
              "TotalCharges                         6844.5  \n",
              "Churn                                    No  \n",
              "\n",
              "[21 rows x 7043 columns]"
            ]
          },
          "execution_count": 2,
          "metadata": {},
          "output_type": "execute_result"
        }
      ],
      "source": [
        "# import dataset\n",
        "data = pd.read_csv('WA_Fn-UseC_-Telco-Customer-Churn.csv')\n",
        "data.T #showing dataset"
      ]
    },
    {
      "cell_type": "markdown",
      "metadata": {
        "id": "HXP3_ZrMSZIc"
      },
      "source": [
        "## 3.2 Dataset Description"
      ]
    },
    {
      "cell_type": "markdown",
      "metadata": {
        "id": "CJ8vNLLhSZIc"
      },
      "source": [
        "Each row represents a customer, each column contains customer’s attributes described on the column Metadata.\n",
        "\n",
        "The data set includes information about:\n",
        "\n",
        "- Customers who left within the last month – the column is called Churn\n",
        "Services that each customer has signed up for – phone, multiple lines, internet, online security, online backup, device protection, tech support, and streaming TV and movies.\n",
        "\n",
        "- Customer account information – how long they’ve been a customer, contract, payment method, paperless billing, monthly charges, and total charges.\n",
        "\n",
        "- Demographic info about customers – gender, age range, and if they have partners and dependents.\n",
        "\n",
        "The description of each columns:\n",
        "\n",
        "1. customerID : Customer ID\n",
        "2. gender : Whether the customer is a male or a female\n",
        "3. SeniorCitizen : Whether the customer is a senior citizen or not (1, 0)\n",
        "4. Partner : Whether the customer has a partner or not (Yes, No)\n",
        "5. Dependents : Whether the customer has dependents or not (Yes, No)\n",
        "6. tenure : Number of months the customer has stayed with the company\n",
        "7. PhoneService : Whether the customer has a phone service or not (Yes, No)\n",
        "8. MultipleLines : Whether the customer has multiple lines or not (Yes, No, No phone service)\n",
        "9. InternetService : Customer’s internet service provider (DSL, Fiber optic, No)\n",
        "10. OnlineSecurity : Whether the customer has online security or not (Yes, No, No internet service)\n",
        "11. OnlineBackup : Whether the customer has online backup or not (Yes, No, No internet service)\n",
        "12. DeviceProtection : Whether the customer has device protection or not (Yes, No, No internet service)\n",
        "13. TechSupport : Whether the customer has tech support or not (Yes, No, No internet service)\n",
        "14. StreamingTV : Whether the customer has streaming TV or not (Yes, No, No internet service)\n",
        "15. StreamingMovies : Whether the customer has streaming movies or not (Yes, No, No internet service)\n",
        "16. Contract : The contract term of the customer (Month-to-month, One year, Two year)\n",
        "17. PaperlessBilling : Whether the customer has paperless billing or not (Yes, No)\n",
        "18. PaymentMethod : The customer’s payment method (Electronic check, Mailed check, Bank transfer (automatic), Credit card (automatic))\n",
        "19. MonthlyCharges : The amount charged to the customer monthly\n",
        "20. TotalCharges : The total amount charged to the customer\n",
        "21. Churn : Whether the customer churned or not (Yes or No)\n",
        " "
      ]
    },
    {
      "cell_type": "markdown",
      "metadata": {
        "id": "IvRXGPI2SZIe"
      },
      "source": [
        "## 3.3 Duplicate Dataset "
      ]
    },
    {
      "cell_type": "code",
      "execution_count": 3,
      "metadata": {
        "id": "5jZBkcICSZIe"
      },
      "outputs": [],
      "source": [
        "# Duplicate dataset\n",
        "data_copy = data.copy()"
      ]
    },
    {
      "cell_type": "markdown",
      "metadata": {
        "id": "8bNwoFnMSZIe"
      },
      "source": [
        "## 3.4 Data Information"
      ]
    },
    {
      "cell_type": "code",
      "execution_count": 4,
      "metadata": {
        "colab": {
          "base_uri": "https://localhost:8080/"
        },
        "id": "vC5RFWj6SZIe",
        "outputId": "8f5f41e0-3cdd-4f57-a424-d0e5b6ca5338"
      },
      "outputs": [
        {
          "name": "stdout",
          "output_type": "stream",
          "text": [
            "<class 'pandas.core.frame.DataFrame'>\n",
            "RangeIndex: 7043 entries, 0 to 7042\n",
            "Data columns (total 21 columns):\n",
            " #   Column            Non-Null Count  Dtype  \n",
            "---  ------            --------------  -----  \n",
            " 0   customerID        7043 non-null   object \n",
            " 1   gender            7043 non-null   object \n",
            " 2   SeniorCitizen     7043 non-null   int64  \n",
            " 3   Partner           7043 non-null   object \n",
            " 4   Dependents        7043 non-null   object \n",
            " 5   tenure            7043 non-null   int64  \n",
            " 6   PhoneService      7043 non-null   object \n",
            " 7   MultipleLines     7043 non-null   object \n",
            " 8   InternetService   7043 non-null   object \n",
            " 9   OnlineSecurity    7043 non-null   object \n",
            " 10  OnlineBackup      7043 non-null   object \n",
            " 11  DeviceProtection  7043 non-null   object \n",
            " 12  TechSupport       7043 non-null   object \n",
            " 13  StreamingTV       7043 non-null   object \n",
            " 14  StreamingMovies   7043 non-null   object \n",
            " 15  Contract          7043 non-null   object \n",
            " 16  PaperlessBilling  7043 non-null   object \n",
            " 17  PaymentMethod     7043 non-null   object \n",
            " 18  MonthlyCharges    7043 non-null   float64\n",
            " 19  TotalCharges      7043 non-null   object \n",
            " 20  Churn             7043 non-null   object \n",
            "dtypes: float64(1), int64(2), object(18)\n",
            "memory usage: 1.1+ MB\n"
          ]
        }
      ],
      "source": [
        "# check information of dataset\n",
        "data.info()"
      ]
    },
    {
      "cell_type": "markdown",
      "metadata": {
        "id": "3KhyWY5USZIe"
      },
      "source": [
        "the data consists of 7043 rows and 21 columns, the data consists of numeric and categorical data. Because the `total charges` column contains numeric values ​​but in Data type is object, so I will change the data type into float.\n"
      ]
    },
    {
      "cell_type": "code",
      "execution_count": 5,
      "metadata": {
        "id": "q4ZV5eNLSZIf"
      },
      "outputs": [],
      "source": [
        "data['TotalCharges'] = pd.to_numeric(data['TotalCharges'], errors='coerce')"
      ]
    },
    {
      "cell_type": "code",
      "execution_count": 6,
      "metadata": {
        "colab": {
          "base_uri": "https://localhost:8080/"
        },
        "id": "qflFpFzeSZIf",
        "outputId": "9fe16c2d-1660-4a81-cb48-288ec01391c0"
      },
      "outputs": [
        {
          "name": "stdout",
          "output_type": "stream",
          "text": [
            "<class 'pandas.core.frame.DataFrame'>\n",
            "RangeIndex: 7043 entries, 0 to 7042\n",
            "Data columns (total 21 columns):\n",
            " #   Column            Non-Null Count  Dtype  \n",
            "---  ------            --------------  -----  \n",
            " 0   customerID        7043 non-null   object \n",
            " 1   gender            7043 non-null   object \n",
            " 2   SeniorCitizen     7043 non-null   int64  \n",
            " 3   Partner           7043 non-null   object \n",
            " 4   Dependents        7043 non-null   object \n",
            " 5   tenure            7043 non-null   int64  \n",
            " 6   PhoneService      7043 non-null   object \n",
            " 7   MultipleLines     7043 non-null   object \n",
            " 8   InternetService   7043 non-null   object \n",
            " 9   OnlineSecurity    7043 non-null   object \n",
            " 10  OnlineBackup      7043 non-null   object \n",
            " 11  DeviceProtection  7043 non-null   object \n",
            " 12  TechSupport       7043 non-null   object \n",
            " 13  StreamingTV       7043 non-null   object \n",
            " 14  StreamingMovies   7043 non-null   object \n",
            " 15  Contract          7043 non-null   object \n",
            " 16  PaperlessBilling  7043 non-null   object \n",
            " 17  PaymentMethod     7043 non-null   object \n",
            " 18  MonthlyCharges    7043 non-null   float64\n",
            " 19  TotalCharges      7032 non-null   float64\n",
            " 20  Churn             7043 non-null   object \n",
            "dtypes: float64(2), int64(2), object(17)\n",
            "memory usage: 1.1+ MB\n"
          ]
        }
      ],
      "source": [
        "# check information of dataset after change the data type\n",
        "data.info()"
      ]
    },
    {
      "cell_type": "markdown",
      "metadata": {
        "id": "hOBhzmZzSZIf"
      },
      "source": [
        "## 3.5 Data Statistic"
      ]
    },
    {
      "cell_type": "code",
      "execution_count": 7,
      "metadata": {
        "colab": {
          "base_uri": "https://localhost:8080/",
          "height": 300
        },
        "id": "qxMz_3zeSZIf",
        "outputId": "f0bc1203-2229-499c-d6ef-88afbe919071"
      },
      "outputs": [
        {
          "data": {
            "text/html": [
              "<div>\n",
              "<style scoped>\n",
              "    .dataframe tbody tr th:only-of-type {\n",
              "        vertical-align: middle;\n",
              "    }\n",
              "\n",
              "    .dataframe tbody tr th {\n",
              "        vertical-align: top;\n",
              "    }\n",
              "\n",
              "    .dataframe thead th {\n",
              "        text-align: right;\n",
              "    }\n",
              "</style>\n",
              "<table border=\"1\" class=\"dataframe\">\n",
              "  <thead>\n",
              "    <tr style=\"text-align: right;\">\n",
              "      <th></th>\n",
              "      <th>SeniorCitizen</th>\n",
              "      <th>tenure</th>\n",
              "      <th>MonthlyCharges</th>\n",
              "      <th>TotalCharges</th>\n",
              "    </tr>\n",
              "  </thead>\n",
              "  <tbody>\n",
              "    <tr>\n",
              "      <th>count</th>\n",
              "      <td>7043.000000</td>\n",
              "      <td>7043.000000</td>\n",
              "      <td>7043.000000</td>\n",
              "      <td>7032.000000</td>\n",
              "    </tr>\n",
              "    <tr>\n",
              "      <th>mean</th>\n",
              "      <td>0.162147</td>\n",
              "      <td>32.371149</td>\n",
              "      <td>64.761692</td>\n",
              "      <td>2283.300441</td>\n",
              "    </tr>\n",
              "    <tr>\n",
              "      <th>std</th>\n",
              "      <td>0.368612</td>\n",
              "      <td>24.559481</td>\n",
              "      <td>30.090047</td>\n",
              "      <td>2266.771362</td>\n",
              "    </tr>\n",
              "    <tr>\n",
              "      <th>min</th>\n",
              "      <td>0.000000</td>\n",
              "      <td>0.000000</td>\n",
              "      <td>18.250000</td>\n",
              "      <td>18.800000</td>\n",
              "    </tr>\n",
              "    <tr>\n",
              "      <th>25%</th>\n",
              "      <td>0.000000</td>\n",
              "      <td>9.000000</td>\n",
              "      <td>35.500000</td>\n",
              "      <td>401.450000</td>\n",
              "    </tr>\n",
              "    <tr>\n",
              "      <th>50%</th>\n",
              "      <td>0.000000</td>\n",
              "      <td>29.000000</td>\n",
              "      <td>70.350000</td>\n",
              "      <td>1397.475000</td>\n",
              "    </tr>\n",
              "    <tr>\n",
              "      <th>75%</th>\n",
              "      <td>0.000000</td>\n",
              "      <td>55.000000</td>\n",
              "      <td>89.850000</td>\n",
              "      <td>3794.737500</td>\n",
              "    </tr>\n",
              "    <tr>\n",
              "      <th>max</th>\n",
              "      <td>1.000000</td>\n",
              "      <td>72.000000</td>\n",
              "      <td>118.750000</td>\n",
              "      <td>8684.800000</td>\n",
              "    </tr>\n",
              "  </tbody>\n",
              "</table>\n",
              "</div>"
            ],
            "text/plain": [
              "       SeniorCitizen       tenure  MonthlyCharges  TotalCharges\n",
              "count    7043.000000  7043.000000     7043.000000   7032.000000\n",
              "mean        0.162147    32.371149       64.761692   2283.300441\n",
              "std         0.368612    24.559481       30.090047   2266.771362\n",
              "min         0.000000     0.000000       18.250000     18.800000\n",
              "25%         0.000000     9.000000       35.500000    401.450000\n",
              "50%         0.000000    29.000000       70.350000   1397.475000\n",
              "75%         0.000000    55.000000       89.850000   3794.737500\n",
              "max         1.000000    72.000000      118.750000   8684.800000"
            ]
          },
          "execution_count": 7,
          "metadata": {},
          "output_type": "execute_result"
        }
      ],
      "source": [
        "# show statictical dataset\n",
        "data.describe()"
      ]
    },
    {
      "cell_type": "markdown",
      "metadata": {
        "id": "Zs5bwseoSZIf"
      },
      "source": [
        "results from the statistical numeric dataset:\n",
        "\n",
        "1. the total of citizen who is using telco company product is 7043\n",
        "\n",
        "2. the average number of months based on customers who have stayed with the company is 32 months, with the longest number of months being 72 months.\n",
        "\n",
        "3. the average amount charged to customers every month is USD 64.76, with a minimum amount of USD 18.25, and a maximum amount of USD 118.75\n",
        "\n",
        "4. the average total charged of each customers every month is USD 2283.3, with a minimum amount of USD 18.8, and a maximum amount of USD 8684.8"
      ]
    },
    {
      "cell_type": "markdown",
      "metadata": {
        "id": "pfbPx0rk5Qd0"
      },
      "source": [
        "## 3.6 Convert feature churn into numerical data"
      ]
    },
    {
      "cell_type": "code",
      "execution_count": 8,
      "metadata": {
        "id": "Y-U6FvU_5OQ6"
      },
      "outputs": [],
      "source": [
        "# Modeling cannot train categorical data so data labels need to be converted to numeric data\n",
        "data['Churn'].replace(to_replace='Yes', value=1, inplace=True)\n",
        "data['Churn'].replace(to_replace='No',  value=0, inplace=True)"
      ]
    },
    {
      "cell_type": "code",
      "execution_count": 9,
      "metadata": {},
      "outputs": [
        {
          "data": {
            "text/html": [
              "<div>\n",
              "<style scoped>\n",
              "    .dataframe tbody tr th:only-of-type {\n",
              "        vertical-align: middle;\n",
              "    }\n",
              "\n",
              "    .dataframe tbody tr th {\n",
              "        vertical-align: top;\n",
              "    }\n",
              "\n",
              "    .dataframe thead th {\n",
              "        text-align: right;\n",
              "    }\n",
              "</style>\n",
              "<table border=\"1\" class=\"dataframe\">\n",
              "  <thead>\n",
              "    <tr style=\"text-align: right;\">\n",
              "      <th></th>\n",
              "      <th>customerID</th>\n",
              "      <th>gender</th>\n",
              "      <th>SeniorCitizen</th>\n",
              "      <th>Partner</th>\n",
              "      <th>Dependents</th>\n",
              "      <th>tenure</th>\n",
              "      <th>PhoneService</th>\n",
              "      <th>MultipleLines</th>\n",
              "      <th>InternetService</th>\n",
              "      <th>OnlineSecurity</th>\n",
              "      <th>...</th>\n",
              "      <th>DeviceProtection</th>\n",
              "      <th>TechSupport</th>\n",
              "      <th>StreamingTV</th>\n",
              "      <th>StreamingMovies</th>\n",
              "      <th>Contract</th>\n",
              "      <th>PaperlessBilling</th>\n",
              "      <th>PaymentMethod</th>\n",
              "      <th>MonthlyCharges</th>\n",
              "      <th>TotalCharges</th>\n",
              "      <th>Churn</th>\n",
              "    </tr>\n",
              "  </thead>\n",
              "  <tbody>\n",
              "    <tr>\n",
              "      <th>0</th>\n",
              "      <td>7590-VHVEG</td>\n",
              "      <td>Female</td>\n",
              "      <td>0</td>\n",
              "      <td>Yes</td>\n",
              "      <td>No</td>\n",
              "      <td>1</td>\n",
              "      <td>No</td>\n",
              "      <td>No phone service</td>\n",
              "      <td>DSL</td>\n",
              "      <td>No</td>\n",
              "      <td>...</td>\n",
              "      <td>No</td>\n",
              "      <td>No</td>\n",
              "      <td>No</td>\n",
              "      <td>No</td>\n",
              "      <td>Month-to-month</td>\n",
              "      <td>Yes</td>\n",
              "      <td>Electronic check</td>\n",
              "      <td>29.85</td>\n",
              "      <td>29.85</td>\n",
              "      <td>0</td>\n",
              "    </tr>\n",
              "    <tr>\n",
              "      <th>1</th>\n",
              "      <td>5575-GNVDE</td>\n",
              "      <td>Male</td>\n",
              "      <td>0</td>\n",
              "      <td>No</td>\n",
              "      <td>No</td>\n",
              "      <td>34</td>\n",
              "      <td>Yes</td>\n",
              "      <td>No</td>\n",
              "      <td>DSL</td>\n",
              "      <td>Yes</td>\n",
              "      <td>...</td>\n",
              "      <td>Yes</td>\n",
              "      <td>No</td>\n",
              "      <td>No</td>\n",
              "      <td>No</td>\n",
              "      <td>One year</td>\n",
              "      <td>No</td>\n",
              "      <td>Mailed check</td>\n",
              "      <td>56.95</td>\n",
              "      <td>1889.50</td>\n",
              "      <td>0</td>\n",
              "    </tr>\n",
              "    <tr>\n",
              "      <th>2</th>\n",
              "      <td>3668-QPYBK</td>\n",
              "      <td>Male</td>\n",
              "      <td>0</td>\n",
              "      <td>No</td>\n",
              "      <td>No</td>\n",
              "      <td>2</td>\n",
              "      <td>Yes</td>\n",
              "      <td>No</td>\n",
              "      <td>DSL</td>\n",
              "      <td>Yes</td>\n",
              "      <td>...</td>\n",
              "      <td>No</td>\n",
              "      <td>No</td>\n",
              "      <td>No</td>\n",
              "      <td>No</td>\n",
              "      <td>Month-to-month</td>\n",
              "      <td>Yes</td>\n",
              "      <td>Mailed check</td>\n",
              "      <td>53.85</td>\n",
              "      <td>108.15</td>\n",
              "      <td>1</td>\n",
              "    </tr>\n",
              "    <tr>\n",
              "      <th>3</th>\n",
              "      <td>7795-CFOCW</td>\n",
              "      <td>Male</td>\n",
              "      <td>0</td>\n",
              "      <td>No</td>\n",
              "      <td>No</td>\n",
              "      <td>45</td>\n",
              "      <td>No</td>\n",
              "      <td>No phone service</td>\n",
              "      <td>DSL</td>\n",
              "      <td>Yes</td>\n",
              "      <td>...</td>\n",
              "      <td>Yes</td>\n",
              "      <td>Yes</td>\n",
              "      <td>No</td>\n",
              "      <td>No</td>\n",
              "      <td>One year</td>\n",
              "      <td>No</td>\n",
              "      <td>Bank transfer (automatic)</td>\n",
              "      <td>42.30</td>\n",
              "      <td>1840.75</td>\n",
              "      <td>0</td>\n",
              "    </tr>\n",
              "    <tr>\n",
              "      <th>4</th>\n",
              "      <td>9237-HQITU</td>\n",
              "      <td>Female</td>\n",
              "      <td>0</td>\n",
              "      <td>No</td>\n",
              "      <td>No</td>\n",
              "      <td>2</td>\n",
              "      <td>Yes</td>\n",
              "      <td>No</td>\n",
              "      <td>Fiber optic</td>\n",
              "      <td>No</td>\n",
              "      <td>...</td>\n",
              "      <td>No</td>\n",
              "      <td>No</td>\n",
              "      <td>No</td>\n",
              "      <td>No</td>\n",
              "      <td>Month-to-month</td>\n",
              "      <td>Yes</td>\n",
              "      <td>Electronic check</td>\n",
              "      <td>70.70</td>\n",
              "      <td>151.65</td>\n",
              "      <td>1</td>\n",
              "    </tr>\n",
              "    <tr>\n",
              "      <th>...</th>\n",
              "      <td>...</td>\n",
              "      <td>...</td>\n",
              "      <td>...</td>\n",
              "      <td>...</td>\n",
              "      <td>...</td>\n",
              "      <td>...</td>\n",
              "      <td>...</td>\n",
              "      <td>...</td>\n",
              "      <td>...</td>\n",
              "      <td>...</td>\n",
              "      <td>...</td>\n",
              "      <td>...</td>\n",
              "      <td>...</td>\n",
              "      <td>...</td>\n",
              "      <td>...</td>\n",
              "      <td>...</td>\n",
              "      <td>...</td>\n",
              "      <td>...</td>\n",
              "      <td>...</td>\n",
              "      <td>...</td>\n",
              "      <td>...</td>\n",
              "    </tr>\n",
              "    <tr>\n",
              "      <th>7038</th>\n",
              "      <td>6840-RESVB</td>\n",
              "      <td>Male</td>\n",
              "      <td>0</td>\n",
              "      <td>Yes</td>\n",
              "      <td>Yes</td>\n",
              "      <td>24</td>\n",
              "      <td>Yes</td>\n",
              "      <td>Yes</td>\n",
              "      <td>DSL</td>\n",
              "      <td>Yes</td>\n",
              "      <td>...</td>\n",
              "      <td>Yes</td>\n",
              "      <td>Yes</td>\n",
              "      <td>Yes</td>\n",
              "      <td>Yes</td>\n",
              "      <td>One year</td>\n",
              "      <td>Yes</td>\n",
              "      <td>Mailed check</td>\n",
              "      <td>84.80</td>\n",
              "      <td>1990.50</td>\n",
              "      <td>0</td>\n",
              "    </tr>\n",
              "    <tr>\n",
              "      <th>7039</th>\n",
              "      <td>2234-XADUH</td>\n",
              "      <td>Female</td>\n",
              "      <td>0</td>\n",
              "      <td>Yes</td>\n",
              "      <td>Yes</td>\n",
              "      <td>72</td>\n",
              "      <td>Yes</td>\n",
              "      <td>Yes</td>\n",
              "      <td>Fiber optic</td>\n",
              "      <td>No</td>\n",
              "      <td>...</td>\n",
              "      <td>Yes</td>\n",
              "      <td>No</td>\n",
              "      <td>Yes</td>\n",
              "      <td>Yes</td>\n",
              "      <td>One year</td>\n",
              "      <td>Yes</td>\n",
              "      <td>Credit card (automatic)</td>\n",
              "      <td>103.20</td>\n",
              "      <td>7362.90</td>\n",
              "      <td>0</td>\n",
              "    </tr>\n",
              "    <tr>\n",
              "      <th>7040</th>\n",
              "      <td>4801-JZAZL</td>\n",
              "      <td>Female</td>\n",
              "      <td>0</td>\n",
              "      <td>Yes</td>\n",
              "      <td>Yes</td>\n",
              "      <td>11</td>\n",
              "      <td>No</td>\n",
              "      <td>No phone service</td>\n",
              "      <td>DSL</td>\n",
              "      <td>Yes</td>\n",
              "      <td>...</td>\n",
              "      <td>No</td>\n",
              "      <td>No</td>\n",
              "      <td>No</td>\n",
              "      <td>No</td>\n",
              "      <td>Month-to-month</td>\n",
              "      <td>Yes</td>\n",
              "      <td>Electronic check</td>\n",
              "      <td>29.60</td>\n",
              "      <td>346.45</td>\n",
              "      <td>0</td>\n",
              "    </tr>\n",
              "    <tr>\n",
              "      <th>7041</th>\n",
              "      <td>8361-LTMKD</td>\n",
              "      <td>Male</td>\n",
              "      <td>1</td>\n",
              "      <td>Yes</td>\n",
              "      <td>No</td>\n",
              "      <td>4</td>\n",
              "      <td>Yes</td>\n",
              "      <td>Yes</td>\n",
              "      <td>Fiber optic</td>\n",
              "      <td>No</td>\n",
              "      <td>...</td>\n",
              "      <td>No</td>\n",
              "      <td>No</td>\n",
              "      <td>No</td>\n",
              "      <td>No</td>\n",
              "      <td>Month-to-month</td>\n",
              "      <td>Yes</td>\n",
              "      <td>Mailed check</td>\n",
              "      <td>74.40</td>\n",
              "      <td>306.60</td>\n",
              "      <td>1</td>\n",
              "    </tr>\n",
              "    <tr>\n",
              "      <th>7042</th>\n",
              "      <td>3186-AJIEK</td>\n",
              "      <td>Male</td>\n",
              "      <td>0</td>\n",
              "      <td>No</td>\n",
              "      <td>No</td>\n",
              "      <td>66</td>\n",
              "      <td>Yes</td>\n",
              "      <td>No</td>\n",
              "      <td>Fiber optic</td>\n",
              "      <td>Yes</td>\n",
              "      <td>...</td>\n",
              "      <td>Yes</td>\n",
              "      <td>Yes</td>\n",
              "      <td>Yes</td>\n",
              "      <td>Yes</td>\n",
              "      <td>Two year</td>\n",
              "      <td>Yes</td>\n",
              "      <td>Bank transfer (automatic)</td>\n",
              "      <td>105.65</td>\n",
              "      <td>6844.50</td>\n",
              "      <td>0</td>\n",
              "    </tr>\n",
              "  </tbody>\n",
              "</table>\n",
              "<p>7043 rows × 21 columns</p>\n",
              "</div>"
            ],
            "text/plain": [
              "      customerID  gender  SeniorCitizen Partner Dependents  tenure  \\\n",
              "0     7590-VHVEG  Female              0     Yes         No       1   \n",
              "1     5575-GNVDE    Male              0      No         No      34   \n",
              "2     3668-QPYBK    Male              0      No         No       2   \n",
              "3     7795-CFOCW    Male              0      No         No      45   \n",
              "4     9237-HQITU  Female              0      No         No       2   \n",
              "...          ...     ...            ...     ...        ...     ...   \n",
              "7038  6840-RESVB    Male              0     Yes        Yes      24   \n",
              "7039  2234-XADUH  Female              0     Yes        Yes      72   \n",
              "7040  4801-JZAZL  Female              0     Yes        Yes      11   \n",
              "7041  8361-LTMKD    Male              1     Yes         No       4   \n",
              "7042  3186-AJIEK    Male              0      No         No      66   \n",
              "\n",
              "     PhoneService     MultipleLines InternetService OnlineSecurity  ...  \\\n",
              "0              No  No phone service             DSL             No  ...   \n",
              "1             Yes                No             DSL            Yes  ...   \n",
              "2             Yes                No             DSL            Yes  ...   \n",
              "3              No  No phone service             DSL            Yes  ...   \n",
              "4             Yes                No     Fiber optic             No  ...   \n",
              "...           ...               ...             ...            ...  ...   \n",
              "7038          Yes               Yes             DSL            Yes  ...   \n",
              "7039          Yes               Yes     Fiber optic             No  ...   \n",
              "7040           No  No phone service             DSL            Yes  ...   \n",
              "7041          Yes               Yes     Fiber optic             No  ...   \n",
              "7042          Yes                No     Fiber optic            Yes  ...   \n",
              "\n",
              "     DeviceProtection TechSupport StreamingTV StreamingMovies        Contract  \\\n",
              "0                  No          No          No              No  Month-to-month   \n",
              "1                 Yes          No          No              No        One year   \n",
              "2                  No          No          No              No  Month-to-month   \n",
              "3                 Yes         Yes          No              No        One year   \n",
              "4                  No          No          No              No  Month-to-month   \n",
              "...               ...         ...         ...             ...             ...   \n",
              "7038              Yes         Yes         Yes             Yes        One year   \n",
              "7039              Yes          No         Yes             Yes        One year   \n",
              "7040               No          No          No              No  Month-to-month   \n",
              "7041               No          No          No              No  Month-to-month   \n",
              "7042              Yes         Yes         Yes             Yes        Two year   \n",
              "\n",
              "     PaperlessBilling              PaymentMethod MonthlyCharges  TotalCharges  \\\n",
              "0                 Yes           Electronic check          29.85         29.85   \n",
              "1                  No               Mailed check          56.95       1889.50   \n",
              "2                 Yes               Mailed check          53.85        108.15   \n",
              "3                  No  Bank transfer (automatic)          42.30       1840.75   \n",
              "4                 Yes           Electronic check          70.70        151.65   \n",
              "...               ...                        ...            ...           ...   \n",
              "7038              Yes               Mailed check          84.80       1990.50   \n",
              "7039              Yes    Credit card (automatic)         103.20       7362.90   \n",
              "7040              Yes           Electronic check          29.60        346.45   \n",
              "7041              Yes               Mailed check          74.40        306.60   \n",
              "7042              Yes  Bank transfer (automatic)         105.65       6844.50   \n",
              "\n",
              "      Churn  \n",
              "0         0  \n",
              "1         0  \n",
              "2         1  \n",
              "3         0  \n",
              "4         1  \n",
              "...     ...  \n",
              "7038      0  \n",
              "7039      0  \n",
              "7040      0  \n",
              "7041      1  \n",
              "7042      0  \n",
              "\n",
              "[7043 rows x 21 columns]"
            ]
          },
          "execution_count": 9,
          "metadata": {},
          "output_type": "execute_result"
        }
      ],
      "source": [
        "data"
      ]
    },
    {
      "cell_type": "markdown",
      "metadata": {
        "id": "hnQ4Wkb4SZIg"
      },
      "source": [
        "# 4 - Exploratory Data Analyt (EDA)"
      ]
    },
    {
      "cell_type": "markdown",
      "metadata": {
        "id": "XEfM4F0TSZIg"
      },
      "source": [
        "## 4.1 Gender Comparing in Customer"
      ]
    },
    {
      "cell_type": "code",
      "execution_count": 10,
      "metadata": {
        "colab": {
          "base_uri": "https://localhost:8080/",
          "height": 373
        },
        "id": "7OjGhsuFSZIg",
        "outputId": "c25a8ab9-480f-490e-f344-50b8efdce8d0"
      },
      "outputs": [
        {
          "data": {
            "image/png": "[encoded data removed]",
            "text/plain": [
              "<Figure size 600x600 with 1 Axes>"
            ]
          },
          "metadata": {},
          "output_type": "display_data"
        }
      ],
      "source": [
        "# total male and female in visualization\n",
        "data['gender'].value_counts().plot(kind='pie', figsize=(6,6), autopct='%.2f')\n",
        "plt.title('Gender Comparison Percentage')\n",
        "plt.show()"
      ]
    },
    {
      "cell_type": "markdown",
      "metadata": {
        "id": "Nm1M8FNqSZIg"
      },
      "source": [
        "we can see, the total number of customers by gender is almost equal with a difference of 0.48 percent."
      ]
    },
    {
      "cell_type": "markdown",
      "metadata": {
        "id": "gqI9FX-QSZIh"
      },
      "source": [
        "## 4.2 Average tenure of customers"
      ]
    },
    {
      "cell_type": "code",
      "execution_count": 11,
      "metadata": {
        "colab": {
          "base_uri": "https://localhost:8080/"
        },
        "id": "IrIONq1XSZIh",
        "outputId": "4fcd60bb-13ff-4d51-c7be-4a8ce0031ba3"
      },
      "outputs": [
        {
          "data": {
            "text/plain": [
              "17.979133226324237"
            ]
          },
          "execution_count": 11,
          "metadata": {},
          "output_type": "execute_result"
        }
      ],
      "source": [
        "# view the average tenure of customers churn\n",
        "data[data['Churn'] == 1]['tenure'].mean()"
      ]
    },
    {
      "cell_type": "code",
      "execution_count": 12,
      "metadata": {
        "colab": {
          "base_uri": "https://localhost:8080/"
        },
        "id": "0a7ffykUSZIh",
        "outputId": "a138bff5-ee10-4c27-9886-346b7fdc409f"
      },
      "outputs": [
        {
          "data": {
            "text/plain": [
              "37.56996521066873"
            ]
          },
          "execution_count": 12,
          "metadata": {},
          "output_type": "execute_result"
        }
      ],
      "source": [
        "# view the average tenure of staying customers\n",
        "data[data['Churn'] == 0]['tenure'].mean()"
      ]
    },
    {
      "cell_type": "markdown",
      "metadata": {
        "id": "pM_SOw2rSZIh"
      },
      "source": [
        "The average length of time of customers leaves a Telco company is 17.9 months, and the average longevity of customers from Telco companies is 37.5 months"
      ]
    },
    {
      "cell_type": "markdown",
      "metadata": {
        "id": "yRPHxdffSZIh"
      },
      "source": [
        "## 4.3 The average monthly charges of customers churn"
      ]
    },
    {
      "cell_type": "code",
      "execution_count": 13,
      "metadata": {
        "colab": {
          "base_uri": "https://localhost:8080/"
        },
        "id": "KMgbeF7LSZIi",
        "outputId": "e282743d-cecb-4a46-e49c-858f53070290"
      },
      "outputs": [
        {
          "data": {
            "text/plain": [
              "74.44133226324237"
            ]
          },
          "execution_count": 13,
          "metadata": {},
          "output_type": "execute_result"
        }
      ],
      "source": [
        "# view the average MonthlyCharges of customers churn\n",
        "data[data['Churn'] == 1]['MonthlyCharges'].mean()"
      ]
    },
    {
      "cell_type": "code",
      "execution_count": 14,
      "metadata": {
        "colab": {
          "base_uri": "https://localhost:8080/"
        },
        "id": "_RpL6QruSZIi",
        "outputId": "2d28596d-bb82-4ddc-be68-db67a46a667c"
      },
      "outputs": [
        {
          "data": {
            "text/plain": [
              "61.26512369540008"
            ]
          },
          "execution_count": 14,
          "metadata": {},
          "output_type": "execute_result"
        }
      ],
      "source": [
        "# view the average MonthlyCharges of staying customers\n",
        "data[data['Churn'] == 0]['MonthlyCharges'].mean()"
      ]
    },
    {
      "cell_type": "markdown",
      "metadata": {
        "id": "2WzIATf9SZIi"
      },
      "source": [
        "average monthly cost of each leaving customer is USD 74.4, and the average monthly cost of each staying customer is USD 61.2, Maybe one of the causes of leaving customers is because the monthly charges are more expensive when compared to customers who don't leave.\n"
      ]
    },
    {
      "cell_type": "markdown",
      "metadata": {
        "id": "ZxQMTXoXSZIi"
      },
      "source": [
        "## 4.4 Average of total charges customers churn"
      ]
    },
    {
      "cell_type": "code",
      "execution_count": 15,
      "metadata": {
        "colab": {
          "base_uri": "https://localhost:8080/"
        },
        "id": "n4Z4LROESZIi",
        "outputId": "ced21fe9-56e3-4f67-a53b-e9c01bd66d4b"
      },
      "outputs": [
        {
          "data": {
            "text/plain": [
              "1531.7960941680042"
            ]
          },
          "execution_count": 15,
          "metadata": {},
          "output_type": "execute_result"
        }
      ],
      "source": [
        "# view the average TotalCharges of customers churn\n",
        "data[data['Churn'] == 1]['TotalCharges'].mean()"
      ]
    },
    {
      "cell_type": "code",
      "execution_count": 16,
      "metadata": {
        "colab": {
          "base_uri": "https://localhost:8080/"
        },
        "id": "2Yy3D4T4SZIj",
        "outputId": "a8050e41-ed1f-4b13-8570-0a421253a787"
      },
      "outputs": [
        {
          "data": {
            "text/plain": [
              "2555.344141003293"
            ]
          },
          "execution_count": 16,
          "metadata": {},
          "output_type": "execute_result"
        }
      ],
      "source": [
        "# view the average TotalCharges of staying customers\n",
        "data[data['Churn'] == 0]['TotalCharges'].mean()"
      ]
    },
    {
      "cell_type": "markdown",
      "metadata": {
        "id": "ztd59NGtSZIj"
      },
      "source": [
        "the average of total charges of each leaving customer is USD 1531.7, and the average of total charges for each staying customer is USD 2555.3, although the average total cost paid by surviving customers is higher than leaving customers, they are loyal to the company.\n"
      ]
    },
    {
      "cell_type": "markdown",
      "metadata": {
        "id": "Jhc2c8tcSZIj"
      },
      "source": [
        "## 4.5 Check total target by percentage "
      ]
    },
    {
      "cell_type": "code",
      "execution_count": 17,
      "metadata": {
        "colab": {
          "base_uri": "https://localhost:8080/",
          "height": 373
        },
        "id": "P9afAf1sSZIj",
        "outputId": "22e57e0d-d795-4028-e37c-38f5fad68eda"
      },
      "outputs": [
        {
          "data": {
            "image/png": "[encoded data removed]",
            "text/plain": [
              "<Figure size 600x600 with 1 Axes>"
            ]
          },
          "metadata": {},
          "output_type": "display_data"
        }
      ],
      "source": [
        "# total male and female in visualization\n",
        "data['Churn'].value_counts().plot(kind='pie', figsize=(6,6), autopct='%.2f')\n",
        "plt.title('Customer Churn Percentage')\n",
        "plt.show()"
      ]
    },
    {
      "cell_type": "markdown",
      "metadata": {
        "id": "BLpRu4UDSZIk"
      },
      "source": [
        "the number of labels on the target has unequal number, or imbalanced data is detected. Data labeled 'Yes' or 1 is only 26.54% of the total data, so in the preprocessing step i used to handle imbalance data."
      ]
    },
    {
      "cell_type": "markdown",
      "metadata": {
        "id": "cIs5Irm7SZIk"
      },
      "source": [
        "## 4.6 number of users using tech support services based on customer type (staying or leaving)"
      ]
    },
    {
      "cell_type": "code",
      "execution_count": 18,
      "metadata": {
        "colab": {
          "base_uri": "https://localhost:8080/",
          "height": 350
        },
        "id": "llWH94ljSZIk",
        "outputId": "f1dad074-82b0-4402-8f11-68eb4a54a46c"
      },
      "outputs": [
        {
          "data": {
            "image/png": "[encoded data removed]",
            "text/plain": [
              "<Figure size 800x500 with 1 Axes>"
            ]
          },
          "metadata": {},
          "output_type": "display_data"
        }
      ],
      "source": [
        "# Create plots\n",
        "\n",
        "plt.figure(figsize=(8, 5))\n",
        "\n",
        "# plt.subplot(1,2,1)\n",
        "sns.countplot(x=data['Churn'],hue=data['TechSupport'])\n",
        "plt.title('countplot Churn grouped by TechSupport')\n",
        "\n",
        "plt.show()"
      ]
    },
    {
      "cell_type": "markdown",
      "metadata": {
        "id": "ZksJA5FeSZIl"
      },
      "source": [
        "of the two types of customers above, the number of customers who do not use tech support services is always more than those who use tech support services to help solve their problems. based on personal judgment that the customer who left was desperate with the existing problem, but was reluctant to contact the tech support service. Because it can be seen that the number of customers who stayed mostly used tech support services."
      ]
    },
    {
      "cell_type": "markdown",
      "metadata": {
        "id": "j9xUhPgNSZIl"
      },
      "source": [
        "## 4.7 Check missing values"
      ]
    },
    {
      "cell_type": "code",
      "execution_count": 19,
      "metadata": {
        "colab": {
          "base_uri": "https://localhost:8080/"
        },
        "id": "Yc7RDWCSSZIl",
        "outputId": "a023846a-37bf-4e03-a235-1743a2a4f071"
      },
      "outputs": [
        {
          "name": "stdout",
          "output_type": "stream",
          "text": [
            "                  Num  Pct\n",
            "customerID          0  0.0\n",
            "gender              0  0.0\n",
            "SeniorCitizen       0  0.0\n",
            "Partner             0  0.0\n",
            "Dependents          0  0.0\n",
            "tenure              0  0.0\n",
            "PhoneService        0  0.0\n",
            "MultipleLines       0  0.0\n",
            "InternetService     0  0.0\n",
            "OnlineSecurity      0  0.0\n",
            "OnlineBackup        0  0.0\n",
            "DeviceProtection    0  0.0\n",
            "TechSupport         0  0.0\n",
            "StreamingTV         0  0.0\n",
            "StreamingMovies     0  0.0\n",
            "Contract            0  0.0\n",
            "PaperlessBilling    0  0.0\n",
            "PaymentMethod       0  0.0\n",
            "MonthlyCharges      0  0.0\n",
            "TotalCharges       11  0.2\n",
            "Churn               0  0.0\n"
          ]
        }
      ],
      "source": [
        "# finding missing values in each columns\n",
        "missing = data.isnull().sum()\n",
        "\n",
        "# finding the percentage of missing values\n",
        "missing_pct = round(data.isnull().sum()/len(data) * 100, 1)\n",
        "\n",
        "data_missing = pd.concat([missing, missing_pct], axis=1)\n",
        "data_missing.columns = [\"Num\", \"Pct\"]\n",
        "print(data_missing)\n"
      ]
    },
    {
      "cell_type": "markdown",
      "metadata": {
        "id": "eeY2slLcSZIm"
      },
      "source": [
        "from the dataset above, there is missing values in each columns, so i'm going to handle the missing values in preprocessing step."
      ]
    },
    {
      "cell_type": "markdown",
      "metadata": {
        "id": "S1j_UIDnSZIm"
      },
      "source": [
        "# 5 - Data Preprocessing"
      ]
    },
    {
      "cell_type": "markdown",
      "metadata": {
        "id": "70Yr9ZCJSZIp"
      },
      "source": [
        "## 5.1 Feature Selection"
      ]
    },
    {
      "cell_type": "code",
      "execution_count": 20,
      "metadata": {
        "colab": {
          "base_uri": "https://localhost:8080/",
          "height": 644
        },
        "id": "U3HvMj9VSZIp",
        "outputId": "e51976fd-17b7-4a23-8a6f-6fc6c39e90b0"
      },
      "outputs": [
        {
          "data": {
            "text/html": [
              "<div>\n",
              "<style scoped>\n",
              "    .dataframe tbody tr th:only-of-type {\n",
              "        vertical-align: middle;\n",
              "    }\n",
              "\n",
              "    .dataframe tbody tr th {\n",
              "        vertical-align: top;\n",
              "    }\n",
              "\n",
              "    .dataframe thead th {\n",
              "        text-align: right;\n",
              "    }\n",
              "</style>\n",
              "<table border=\"1\" class=\"dataframe\">\n",
              "  <thead>\n",
              "    <tr style=\"text-align: right;\">\n",
              "      <th></th>\n",
              "      <th>customerID</th>\n",
              "      <th>gender</th>\n",
              "      <th>SeniorCitizen</th>\n",
              "      <th>Partner</th>\n",
              "      <th>Dependents</th>\n",
              "      <th>tenure</th>\n",
              "      <th>PhoneService</th>\n",
              "      <th>MultipleLines</th>\n",
              "      <th>InternetService</th>\n",
              "      <th>OnlineSecurity</th>\n",
              "      <th>...</th>\n",
              "      <th>DeviceProtection</th>\n",
              "      <th>TechSupport</th>\n",
              "      <th>StreamingTV</th>\n",
              "      <th>StreamingMovies</th>\n",
              "      <th>Contract</th>\n",
              "      <th>PaperlessBilling</th>\n",
              "      <th>PaymentMethod</th>\n",
              "      <th>MonthlyCharges</th>\n",
              "      <th>TotalCharges</th>\n",
              "      <th>Churn</th>\n",
              "    </tr>\n",
              "  </thead>\n",
              "  <tbody>\n",
              "    <tr>\n",
              "      <th>0</th>\n",
              "      <td>7590-VHVEG</td>\n",
              "      <td>Female</td>\n",
              "      <td>0</td>\n",
              "      <td>Yes</td>\n",
              "      <td>No</td>\n",
              "      <td>1</td>\n",
              "      <td>No</td>\n",
              "      <td>No phone service</td>\n",
              "      <td>DSL</td>\n",
              "      <td>No</td>\n",
              "      <td>...</td>\n",
              "      <td>No</td>\n",
              "      <td>No</td>\n",
              "      <td>No</td>\n",
              "      <td>No</td>\n",
              "      <td>Month-to-month</td>\n",
              "      <td>Yes</td>\n",
              "      <td>Electronic check</td>\n",
              "      <td>29.85</td>\n",
              "      <td>29.85</td>\n",
              "      <td>0</td>\n",
              "    </tr>\n",
              "    <tr>\n",
              "      <th>1</th>\n",
              "      <td>5575-GNVDE</td>\n",
              "      <td>Male</td>\n",
              "      <td>0</td>\n",
              "      <td>No</td>\n",
              "      <td>No</td>\n",
              "      <td>34</td>\n",
              "      <td>Yes</td>\n",
              "      <td>No</td>\n",
              "      <td>DSL</td>\n",
              "      <td>Yes</td>\n",
              "      <td>...</td>\n",
              "      <td>Yes</td>\n",
              "      <td>No</td>\n",
              "      <td>No</td>\n",
              "      <td>No</td>\n",
              "      <td>One year</td>\n",
              "      <td>No</td>\n",
              "      <td>Mailed check</td>\n",
              "      <td>56.95</td>\n",
              "      <td>1889.50</td>\n",
              "      <td>0</td>\n",
              "    </tr>\n",
              "    <tr>\n",
              "      <th>2</th>\n",
              "      <td>3668-QPYBK</td>\n",
              "      <td>Male</td>\n",
              "      <td>0</td>\n",
              "      <td>No</td>\n",
              "      <td>No</td>\n",
              "      <td>2</td>\n",
              "      <td>Yes</td>\n",
              "      <td>No</td>\n",
              "      <td>DSL</td>\n",
              "      <td>Yes</td>\n",
              "      <td>...</td>\n",
              "      <td>No</td>\n",
              "      <td>No</td>\n",
              "      <td>No</td>\n",
              "      <td>No</td>\n",
              "      <td>Month-to-month</td>\n",
              "      <td>Yes</td>\n",
              "      <td>Mailed check</td>\n",
              "      <td>53.85</td>\n",
              "      <td>108.15</td>\n",
              "      <td>1</td>\n",
              "    </tr>\n",
              "    <tr>\n",
              "      <th>3</th>\n",
              "      <td>7795-CFOCW</td>\n",
              "      <td>Male</td>\n",
              "      <td>0</td>\n",
              "      <td>No</td>\n",
              "      <td>No</td>\n",
              "      <td>45</td>\n",
              "      <td>No</td>\n",
              "      <td>No phone service</td>\n",
              "      <td>DSL</td>\n",
              "      <td>Yes</td>\n",
              "      <td>...</td>\n",
              "      <td>Yes</td>\n",
              "      <td>Yes</td>\n",
              "      <td>No</td>\n",
              "      <td>No</td>\n",
              "      <td>One year</td>\n",
              "      <td>No</td>\n",
              "      <td>Bank transfer (automatic)</td>\n",
              "      <td>42.30</td>\n",
              "      <td>1840.75</td>\n",
              "      <td>0</td>\n",
              "    </tr>\n",
              "    <tr>\n",
              "      <th>4</th>\n",
              "      <td>9237-HQITU</td>\n",
              "      <td>Female</td>\n",
              "      <td>0</td>\n",
              "      <td>No</td>\n",
              "      <td>No</td>\n",
              "      <td>2</td>\n",
              "      <td>Yes</td>\n",
              "      <td>No</td>\n",
              "      <td>Fiber optic</td>\n",
              "      <td>No</td>\n",
              "      <td>...</td>\n",
              "      <td>No</td>\n",
              "      <td>No</td>\n",
              "      <td>No</td>\n",
              "      <td>No</td>\n",
              "      <td>Month-to-month</td>\n",
              "      <td>Yes</td>\n",
              "      <td>Electronic check</td>\n",
              "      <td>70.70</td>\n",
              "      <td>151.65</td>\n",
              "      <td>1</td>\n",
              "    </tr>\n",
              "    <tr>\n",
              "      <th>...</th>\n",
              "      <td>...</td>\n",
              "      <td>...</td>\n",
              "      <td>...</td>\n",
              "      <td>...</td>\n",
              "      <td>...</td>\n",
              "      <td>...</td>\n",
              "      <td>...</td>\n",
              "      <td>...</td>\n",
              "      <td>...</td>\n",
              "      <td>...</td>\n",
              "      <td>...</td>\n",
              "      <td>...</td>\n",
              "      <td>...</td>\n",
              "      <td>...</td>\n",
              "      <td>...</td>\n",
              "      <td>...</td>\n",
              "      <td>...</td>\n",
              "      <td>...</td>\n",
              "      <td>...</td>\n",
              "      <td>...</td>\n",
              "      <td>...</td>\n",
              "    </tr>\n",
              "    <tr>\n",
              "      <th>7038</th>\n",
              "      <td>6840-RESVB</td>\n",
              "      <td>Male</td>\n",
              "      <td>0</td>\n",
              "      <td>Yes</td>\n",
              "      <td>Yes</td>\n",
              "      <td>24</td>\n",
              "      <td>Yes</td>\n",
              "      <td>Yes</td>\n",
              "      <td>DSL</td>\n",
              "      <td>Yes</td>\n",
              "      <td>...</td>\n",
              "      <td>Yes</td>\n",
              "      <td>Yes</td>\n",
              "      <td>Yes</td>\n",
              "      <td>Yes</td>\n",
              "      <td>One year</td>\n",
              "      <td>Yes</td>\n",
              "      <td>Mailed check</td>\n",
              "      <td>84.80</td>\n",
              "      <td>1990.50</td>\n",
              "      <td>0</td>\n",
              "    </tr>\n",
              "    <tr>\n",
              "      <th>7039</th>\n",
              "      <td>2234-XADUH</td>\n",
              "      <td>Female</td>\n",
              "      <td>0</td>\n",
              "      <td>Yes</td>\n",
              "      <td>Yes</td>\n",
              "      <td>72</td>\n",
              "      <td>Yes</td>\n",
              "      <td>Yes</td>\n",
              "      <td>Fiber optic</td>\n",
              "      <td>No</td>\n",
              "      <td>...</td>\n",
              "      <td>Yes</td>\n",
              "      <td>No</td>\n",
              "      <td>Yes</td>\n",
              "      <td>Yes</td>\n",
              "      <td>One year</td>\n",
              "      <td>Yes</td>\n",
              "      <td>Credit card (automatic)</td>\n",
              "      <td>103.20</td>\n",
              "      <td>7362.90</td>\n",
              "      <td>0</td>\n",
              "    </tr>\n",
              "    <tr>\n",
              "      <th>7040</th>\n",
              "      <td>4801-JZAZL</td>\n",
              "      <td>Female</td>\n",
              "      <td>0</td>\n",
              "      <td>Yes</td>\n",
              "      <td>Yes</td>\n",
              "      <td>11</td>\n",
              "      <td>No</td>\n",
              "      <td>No phone service</td>\n",
              "      <td>DSL</td>\n",
              "      <td>Yes</td>\n",
              "      <td>...</td>\n",
              "      <td>No</td>\n",
              "      <td>No</td>\n",
              "      <td>No</td>\n",
              "      <td>No</td>\n",
              "      <td>Month-to-month</td>\n",
              "      <td>Yes</td>\n",
              "      <td>Electronic check</td>\n",
              "      <td>29.60</td>\n",
              "      <td>346.45</td>\n",
              "      <td>0</td>\n",
              "    </tr>\n",
              "    <tr>\n",
              "      <th>7041</th>\n",
              "      <td>8361-LTMKD</td>\n",
              "      <td>Male</td>\n",
              "      <td>1</td>\n",
              "      <td>Yes</td>\n",
              "      <td>No</td>\n",
              "      <td>4</td>\n",
              "      <td>Yes</td>\n",
              "      <td>Yes</td>\n",
              "      <td>Fiber optic</td>\n",
              "      <td>No</td>\n",
              "      <td>...</td>\n",
              "      <td>No</td>\n",
              "      <td>No</td>\n",
              "      <td>No</td>\n",
              "      <td>No</td>\n",
              "      <td>Month-to-month</td>\n",
              "      <td>Yes</td>\n",
              "      <td>Mailed check</td>\n",
              "      <td>74.40</td>\n",
              "      <td>306.60</td>\n",
              "      <td>1</td>\n",
              "    </tr>\n",
              "    <tr>\n",
              "      <th>7042</th>\n",
              "      <td>3186-AJIEK</td>\n",
              "      <td>Male</td>\n",
              "      <td>0</td>\n",
              "      <td>No</td>\n",
              "      <td>No</td>\n",
              "      <td>66</td>\n",
              "      <td>Yes</td>\n",
              "      <td>No</td>\n",
              "      <td>Fiber optic</td>\n",
              "      <td>Yes</td>\n",
              "      <td>...</td>\n",
              "      <td>Yes</td>\n",
              "      <td>Yes</td>\n",
              "      <td>Yes</td>\n",
              "      <td>Yes</td>\n",
              "      <td>Two year</td>\n",
              "      <td>Yes</td>\n",
              "      <td>Bank transfer (automatic)</td>\n",
              "      <td>105.65</td>\n",
              "      <td>6844.50</td>\n",
              "      <td>0</td>\n",
              "    </tr>\n",
              "  </tbody>\n",
              "</table>\n",
              "<p>7043 rows × 21 columns</p>\n",
              "</div>"
            ],
            "text/plain": [
              "      customerID  gender  SeniorCitizen Partner Dependents  tenure  \\\n",
              "0     7590-VHVEG  Female              0     Yes         No       1   \n",
              "1     5575-GNVDE    Male              0      No         No      34   \n",
              "2     3668-QPYBK    Male              0      No         No       2   \n",
              "3     7795-CFOCW    Male              0      No         No      45   \n",
              "4     9237-HQITU  Female              0      No         No       2   \n",
              "...          ...     ...            ...     ...        ...     ...   \n",
              "7038  6840-RESVB    Male              0     Yes        Yes      24   \n",
              "7039  2234-XADUH  Female              0     Yes        Yes      72   \n",
              "7040  4801-JZAZL  Female              0     Yes        Yes      11   \n",
              "7041  8361-LTMKD    Male              1     Yes         No       4   \n",
              "7042  3186-AJIEK    Male              0      No         No      66   \n",
              "\n",
              "     PhoneService     MultipleLines InternetService OnlineSecurity  ...  \\\n",
              "0              No  No phone service             DSL             No  ...   \n",
              "1             Yes                No             DSL            Yes  ...   \n",
              "2             Yes                No             DSL            Yes  ...   \n",
              "3              No  No phone service             DSL            Yes  ...   \n",
              "4             Yes                No     Fiber optic             No  ...   \n",
              "...           ...               ...             ...            ...  ...   \n",
              "7038          Yes               Yes             DSL            Yes  ...   \n",
              "7039          Yes               Yes     Fiber optic             No  ...   \n",
              "7040           No  No phone service             DSL            Yes  ...   \n",
              "7041          Yes               Yes     Fiber optic             No  ...   \n",
              "7042          Yes                No     Fiber optic            Yes  ...   \n",
              "\n",
              "     DeviceProtection TechSupport StreamingTV StreamingMovies        Contract  \\\n",
              "0                  No          No          No              No  Month-to-month   \n",
              "1                 Yes          No          No              No        One year   \n",
              "2                  No          No          No              No  Month-to-month   \n",
              "3                 Yes         Yes          No              No        One year   \n",
              "4                  No          No          No              No  Month-to-month   \n",
              "...               ...         ...         ...             ...             ...   \n",
              "7038              Yes         Yes         Yes             Yes        One year   \n",
              "7039              Yes          No         Yes             Yes        One year   \n",
              "7040               No          No          No              No  Month-to-month   \n",
              "7041               No          No          No              No  Month-to-month   \n",
              "7042              Yes         Yes         Yes             Yes        Two year   \n",
              "\n",
              "     PaperlessBilling              PaymentMethod MonthlyCharges  TotalCharges  \\\n",
              "0                 Yes           Electronic check          29.85         29.85   \n",
              "1                  No               Mailed check          56.95       1889.50   \n",
              "2                 Yes               Mailed check          53.85        108.15   \n",
              "3                  No  Bank transfer (automatic)          42.30       1840.75   \n",
              "4                 Yes           Electronic check          70.70        151.65   \n",
              "...               ...                        ...            ...           ...   \n",
              "7038              Yes               Mailed check          84.80       1990.50   \n",
              "7039              Yes    Credit card (automatic)         103.20       7362.90   \n",
              "7040              Yes           Electronic check          29.60        346.45   \n",
              "7041              Yes               Mailed check          74.40        306.60   \n",
              "7042              Yes  Bank transfer (automatic)         105.65       6844.50   \n",
              "\n",
              "      Churn  \n",
              "0         0  \n",
              "1         0  \n",
              "2         1  \n",
              "3         0  \n",
              "4         1  \n",
              "...     ...  \n",
              "7038      0  \n",
              "7039      0  \n",
              "7040      0  \n",
              "7041      1  \n",
              "7042      0  \n",
              "\n",
              "[7043 rows x 21 columns]"
            ]
          },
          "execution_count": 20,
          "metadata": {},
          "output_type": "execute_result"
        }
      ],
      "source": [
        "# Display X_train\n",
        "\n",
        "data"
      ]
    },
    {
      "cell_type": "markdown",
      "metadata": {
        "id": "Gei3XmsgSZIp"
      },
      "source": [
        "from the the personal judgement column `customerID` is useless because our focus on this project is customer churn, and every customer have difference customer id, if still keep the customer id column it will cause cardinality and that is not good for the data."
      ]
    },
    {
      "cell_type": "code",
      "execution_count": 21,
      "metadata": {
        "id": "goaXLdMlSZIp"
      },
      "outputs": [],
      "source": [
        "# Drop column yang tidak digunakan \n",
        "data.drop(['customerID'],axis=1, inplace=True)\n"
      ]
    },
    {
      "cell_type": "markdown",
      "metadata": {
        "id": "sSQFmBxxSZIm"
      },
      "source": [
        "## 5.1 Get Data for Model Inference"
      ]
    },
    {
      "cell_type": "code",
      "execution_count": 22,
      "metadata": {
        "colab": {
          "base_uri": "https://localhost:8080/",
          "height": 644
        },
        "id": "C03h6ftGSZIm",
        "outputId": "00de6623-b990-41ac-9b1d-8b779be61031"
      },
      "outputs": [
        {
          "data": {
            "text/html": [
              "<div>\n",
              "<style scoped>\n",
              "    .dataframe tbody tr th:only-of-type {\n",
              "        vertical-align: middle;\n",
              "    }\n",
              "\n",
              "    .dataframe tbody tr th {\n",
              "        vertical-align: top;\n",
              "    }\n",
              "\n",
              "    .dataframe thead th {\n",
              "        text-align: right;\n",
              "    }\n",
              "</style>\n",
              "<table border=\"1\" class=\"dataframe\">\n",
              "  <thead>\n",
              "    <tr style=\"text-align: right;\">\n",
              "      <th></th>\n",
              "      <th>gender</th>\n",
              "      <th>SeniorCitizen</th>\n",
              "      <th>Partner</th>\n",
              "      <th>Dependents</th>\n",
              "      <th>tenure</th>\n",
              "      <th>PhoneService</th>\n",
              "      <th>MultipleLines</th>\n",
              "      <th>InternetService</th>\n",
              "      <th>OnlineSecurity</th>\n",
              "      <th>OnlineBackup</th>\n",
              "      <th>DeviceProtection</th>\n",
              "      <th>TechSupport</th>\n",
              "      <th>StreamingTV</th>\n",
              "      <th>StreamingMovies</th>\n",
              "      <th>Contract</th>\n",
              "      <th>PaperlessBilling</th>\n",
              "      <th>PaymentMethod</th>\n",
              "      <th>MonthlyCharges</th>\n",
              "      <th>TotalCharges</th>\n",
              "      <th>Churn</th>\n",
              "    </tr>\n",
              "  </thead>\n",
              "  <tbody>\n",
              "    <tr>\n",
              "      <th>4243</th>\n",
              "      <td>Female</td>\n",
              "      <td>0</td>\n",
              "      <td>No</td>\n",
              "      <td>Yes</td>\n",
              "      <td>40</td>\n",
              "      <td>Yes</td>\n",
              "      <td>No</td>\n",
              "      <td>DSL</td>\n",
              "      <td>Yes</td>\n",
              "      <td>No</td>\n",
              "      <td>No</td>\n",
              "      <td>Yes</td>\n",
              "      <td>Yes</td>\n",
              "      <td>No</td>\n",
              "      <td>Month-to-month</td>\n",
              "      <td>Yes</td>\n",
              "      <td>Credit card (automatic)</td>\n",
              "      <td>64.10</td>\n",
              "      <td>2460.35</td>\n",
              "      <td>0</td>\n",
              "    </tr>\n",
              "    <tr>\n",
              "      <th>6141</th>\n",
              "      <td>Male</td>\n",
              "      <td>1</td>\n",
              "      <td>Yes</td>\n",
              "      <td>No</td>\n",
              "      <td>52</td>\n",
              "      <td>Yes</td>\n",
              "      <td>Yes</td>\n",
              "      <td>Fiber optic</td>\n",
              "      <td>Yes</td>\n",
              "      <td>No</td>\n",
              "      <td>Yes</td>\n",
              "      <td>No</td>\n",
              "      <td>Yes</td>\n",
              "      <td>Yes</td>\n",
              "      <td>Month-to-month</td>\n",
              "      <td>Yes</td>\n",
              "      <td>Electronic check</td>\n",
              "      <td>104.20</td>\n",
              "      <td>5568.35</td>\n",
              "      <td>1</td>\n",
              "    </tr>\n",
              "    <tr>\n",
              "      <th>5825</th>\n",
              "      <td>Male</td>\n",
              "      <td>1</td>\n",
              "      <td>Yes</td>\n",
              "      <td>No</td>\n",
              "      <td>1</td>\n",
              "      <td>Yes</td>\n",
              "      <td>No</td>\n",
              "      <td>Fiber optic</td>\n",
              "      <td>No</td>\n",
              "      <td>No</td>\n",
              "      <td>No</td>\n",
              "      <td>No</td>\n",
              "      <td>No</td>\n",
              "      <td>No</td>\n",
              "      <td>Month-to-month</td>\n",
              "      <td>Yes</td>\n",
              "      <td>Electronic check</td>\n",
              "      <td>70.30</td>\n",
              "      <td>70.30</td>\n",
              "      <td>1</td>\n",
              "    </tr>\n",
              "    <tr>\n",
              "      <th>3677</th>\n",
              "      <td>Female</td>\n",
              "      <td>0</td>\n",
              "      <td>No</td>\n",
              "      <td>No</td>\n",
              "      <td>1</td>\n",
              "      <td>No</td>\n",
              "      <td>No phone service</td>\n",
              "      <td>DSL</td>\n",
              "      <td>No</td>\n",
              "      <td>No</td>\n",
              "      <td>No</td>\n",
              "      <td>Yes</td>\n",
              "      <td>No</td>\n",
              "      <td>No</td>\n",
              "      <td>Month-to-month</td>\n",
              "      <td>No</td>\n",
              "      <td>Mailed check</td>\n",
              "      <td>30.55</td>\n",
              "      <td>30.55</td>\n",
              "      <td>0</td>\n",
              "    </tr>\n",
              "    <tr>\n",
              "      <th>2117</th>\n",
              "      <td>Female</td>\n",
              "      <td>0</td>\n",
              "      <td>Yes</td>\n",
              "      <td>Yes</td>\n",
              "      <td>72</td>\n",
              "      <td>No</td>\n",
              "      <td>No phone service</td>\n",
              "      <td>DSL</td>\n",
              "      <td>Yes</td>\n",
              "      <td>Yes</td>\n",
              "      <td>Yes</td>\n",
              "      <td>Yes</td>\n",
              "      <td>Yes</td>\n",
              "      <td>Yes</td>\n",
              "      <td>Two year</td>\n",
              "      <td>No</td>\n",
              "      <td>Bank transfer (automatic)</td>\n",
              "      <td>64.45</td>\n",
              "      <td>4528.00</td>\n",
              "      <td>0</td>\n",
              "    </tr>\n",
              "    <tr>\n",
              "      <th>...</th>\n",
              "      <td>...</td>\n",
              "      <td>...</td>\n",
              "      <td>...</td>\n",
              "      <td>...</td>\n",
              "      <td>...</td>\n",
              "      <td>...</td>\n",
              "      <td>...</td>\n",
              "      <td>...</td>\n",
              "      <td>...</td>\n",
              "      <td>...</td>\n",
              "      <td>...</td>\n",
              "      <td>...</td>\n",
              "      <td>...</td>\n",
              "      <td>...</td>\n",
              "      <td>...</td>\n",
              "      <td>...</td>\n",
              "      <td>...</td>\n",
              "      <td>...</td>\n",
              "      <td>...</td>\n",
              "      <td>...</td>\n",
              "    </tr>\n",
              "    <tr>\n",
              "      <th>5292</th>\n",
              "      <td>Male</td>\n",
              "      <td>0</td>\n",
              "      <td>No</td>\n",
              "      <td>No</td>\n",
              "      <td>46</td>\n",
              "      <td>No</td>\n",
              "      <td>No phone service</td>\n",
              "      <td>DSL</td>\n",
              "      <td>No</td>\n",
              "      <td>No</td>\n",
              "      <td>Yes</td>\n",
              "      <td>Yes</td>\n",
              "      <td>No</td>\n",
              "      <td>No</td>\n",
              "      <td>One year</td>\n",
              "      <td>No</td>\n",
              "      <td>Credit card (automatic)</td>\n",
              "      <td>33.70</td>\n",
              "      <td>1537.85</td>\n",
              "      <td>0</td>\n",
              "    </tr>\n",
              "    <tr>\n",
              "      <th>3359</th>\n",
              "      <td>Male</td>\n",
              "      <td>0</td>\n",
              "      <td>No</td>\n",
              "      <td>No</td>\n",
              "      <td>21</td>\n",
              "      <td>Yes</td>\n",
              "      <td>No</td>\n",
              "      <td>No</td>\n",
              "      <td>No internet service</td>\n",
              "      <td>No internet service</td>\n",
              "      <td>No internet service</td>\n",
              "      <td>No internet service</td>\n",
              "      <td>No internet service</td>\n",
              "      <td>No internet service</td>\n",
              "      <td>Month-to-month</td>\n",
              "      <td>Yes</td>\n",
              "      <td>Mailed check</td>\n",
              "      <td>19.95</td>\n",
              "      <td>416.40</td>\n",
              "      <td>0</td>\n",
              "    </tr>\n",
              "    <tr>\n",
              "      <th>4797</th>\n",
              "      <td>Male</td>\n",
              "      <td>0</td>\n",
              "      <td>Yes</td>\n",
              "      <td>Yes</td>\n",
              "      <td>72</td>\n",
              "      <td>Yes</td>\n",
              "      <td>Yes</td>\n",
              "      <td>Fiber optic</td>\n",
              "      <td>Yes</td>\n",
              "      <td>Yes</td>\n",
              "      <td>Yes</td>\n",
              "      <td>Yes</td>\n",
              "      <td>Yes</td>\n",
              "      <td>Yes</td>\n",
              "      <td>Two year</td>\n",
              "      <td>Yes</td>\n",
              "      <td>Credit card (automatic)</td>\n",
              "      <td>114.05</td>\n",
              "      <td>8289.20</td>\n",
              "      <td>0</td>\n",
              "    </tr>\n",
              "    <tr>\n",
              "      <th>5182</th>\n",
              "      <td>Male</td>\n",
              "      <td>0</td>\n",
              "      <td>No</td>\n",
              "      <td>No</td>\n",
              "      <td>12</td>\n",
              "      <td>Yes</td>\n",
              "      <td>Yes</td>\n",
              "      <td>No</td>\n",
              "      <td>No internet service</td>\n",
              "      <td>No internet service</td>\n",
              "      <td>No internet service</td>\n",
              "      <td>No internet service</td>\n",
              "      <td>No internet service</td>\n",
              "      <td>No internet service</td>\n",
              "      <td>One year</td>\n",
              "      <td>No</td>\n",
              "      <td>Credit card (automatic)</td>\n",
              "      <td>24.95</td>\n",
              "      <td>280.40</td>\n",
              "      <td>0</td>\n",
              "    </tr>\n",
              "    <tr>\n",
              "      <th>2475</th>\n",
              "      <td>Female</td>\n",
              "      <td>0</td>\n",
              "      <td>No</td>\n",
              "      <td>No</td>\n",
              "      <td>53</td>\n",
              "      <td>Yes</td>\n",
              "      <td>No</td>\n",
              "      <td>Fiber optic</td>\n",
              "      <td>Yes</td>\n",
              "      <td>Yes</td>\n",
              "      <td>Yes</td>\n",
              "      <td>Yes</td>\n",
              "      <td>No</td>\n",
              "      <td>Yes</td>\n",
              "      <td>Two year</td>\n",
              "      <td>No</td>\n",
              "      <td>Mailed check</td>\n",
              "      <td>99.50</td>\n",
              "      <td>5424.25</td>\n",
              "      <td>0</td>\n",
              "    </tr>\n",
              "  </tbody>\n",
              "</table>\n",
              "<p>100 rows × 20 columns</p>\n",
              "</div>"
            ],
            "text/plain": [
              "      gender  SeniorCitizen Partner Dependents  tenure PhoneService  \\\n",
              "4243  Female              0      No        Yes      40          Yes   \n",
              "6141    Male              1     Yes         No      52          Yes   \n",
              "5825    Male              1     Yes         No       1          Yes   \n",
              "3677  Female              0      No         No       1           No   \n",
              "2117  Female              0     Yes        Yes      72           No   \n",
              "...      ...            ...     ...        ...     ...          ...   \n",
              "5292    Male              0      No         No      46           No   \n",
              "3359    Male              0      No         No      21          Yes   \n",
              "4797    Male              0     Yes        Yes      72          Yes   \n",
              "5182    Male              0      No         No      12          Yes   \n",
              "2475  Female              0      No         No      53          Yes   \n",
              "\n",
              "         MultipleLines InternetService       OnlineSecurity  \\\n",
              "4243                No             DSL                  Yes   \n",
              "6141               Yes     Fiber optic                  Yes   \n",
              "5825                No     Fiber optic                   No   \n",
              "3677  No phone service             DSL                   No   \n",
              "2117  No phone service             DSL                  Yes   \n",
              "...                ...             ...                  ...   \n",
              "5292  No phone service             DSL                   No   \n",
              "3359                No              No  No internet service   \n",
              "4797               Yes     Fiber optic                  Yes   \n",
              "5182               Yes              No  No internet service   \n",
              "2475                No     Fiber optic                  Yes   \n",
              "\n",
              "             OnlineBackup     DeviceProtection          TechSupport  \\\n",
              "4243                   No                   No                  Yes   \n",
              "6141                   No                  Yes                   No   \n",
              "5825                   No                   No                   No   \n",
              "3677                   No                   No                  Yes   \n",
              "2117                  Yes                  Yes                  Yes   \n",
              "...                   ...                  ...                  ...   \n",
              "5292                   No                  Yes                  Yes   \n",
              "3359  No internet service  No internet service  No internet service   \n",
              "4797                  Yes                  Yes                  Yes   \n",
              "5182  No internet service  No internet service  No internet service   \n",
              "2475                  Yes                  Yes                  Yes   \n",
              "\n",
              "              StreamingTV      StreamingMovies        Contract  \\\n",
              "4243                  Yes                   No  Month-to-month   \n",
              "6141                  Yes                  Yes  Month-to-month   \n",
              "5825                   No                   No  Month-to-month   \n",
              "3677                   No                   No  Month-to-month   \n",
              "2117                  Yes                  Yes        Two year   \n",
              "...                   ...                  ...             ...   \n",
              "5292                   No                   No        One year   \n",
              "3359  No internet service  No internet service  Month-to-month   \n",
              "4797                  Yes                  Yes        Two year   \n",
              "5182  No internet service  No internet service        One year   \n",
              "2475                   No                  Yes        Two year   \n",
              "\n",
              "     PaperlessBilling              PaymentMethod  MonthlyCharges  \\\n",
              "4243              Yes    Credit card (automatic)           64.10   \n",
              "6141              Yes           Electronic check          104.20   \n",
              "5825              Yes           Electronic check           70.30   \n",
              "3677               No               Mailed check           30.55   \n",
              "2117               No  Bank transfer (automatic)           64.45   \n",
              "...               ...                        ...             ...   \n",
              "5292               No    Credit card (automatic)           33.70   \n",
              "3359              Yes               Mailed check           19.95   \n",
              "4797              Yes    Credit card (automatic)          114.05   \n",
              "5182               No    Credit card (automatic)           24.95   \n",
              "2475               No               Mailed check           99.50   \n",
              "\n",
              "      TotalCharges  Churn  \n",
              "4243       2460.35      0  \n",
              "6141       5568.35      1  \n",
              "5825         70.30      1  \n",
              "3677         30.55      0  \n",
              "2117       4528.00      0  \n",
              "...            ...    ...  \n",
              "5292       1537.85      0  \n",
              "3359        416.40      0  \n",
              "4797       8289.20      0  \n",
              "5182        280.40      0  \n",
              "2475       5424.25      0  \n",
              "\n",
              "[100 rows x 20 columns]"
            ]
          },
          "execution_count": 22,
          "metadata": {},
          "output_type": "execute_result"
        }
      ],
      "source": [
        "# Get Data for Model Inference\n",
        "\n",
        "data_inf = data.sample(100, random_state=28)\n",
        "data_inf"
      ]
    },
    {
      "cell_type": "code",
      "execution_count": 23,
      "metadata": {
        "id": "a741YvWBSZIm"
      },
      "outputs": [],
      "source": [
        "# Remove Inference Set from Dataset\n",
        "\n",
        "data_train_test = data.drop(data_inf.index)"
      ]
    },
    {
      "cell_type": "code",
      "execution_count": 24,
      "metadata": {
        "id": "_1GqkDm-SZIm"
      },
      "outputs": [],
      "source": [
        "# Reset Index\n",
        "\n",
        "data_train_test.reset_index(drop=True, inplace=True)\n",
        "data_inf.reset_index(drop=True, inplace=True)"
      ]
    },
    {
      "cell_type": "markdown",
      "metadata": {
        "id": "Ql4NqDYuSZIn"
      },
      "source": [
        "## 5.2 Splitting between `X` and `y`"
      ]
    },
    {
      "cell_type": "code",
      "execution_count": 25,
      "metadata": {
        "id": "1Ztz-EBHSZIn"
      },
      "outputs": [],
      "source": [
        "# Splitting between `X` and `y`\n",
        "\n",
        "X = data_train_test.drop('Churn', axis=1)\n",
        "y = data_train_test['Churn']"
      ]
    },
    {
      "cell_type": "markdown",
      "metadata": {
        "id": "M4rDSVJXECa4"
      },
      "source": [
        "## 5.3 Splitting between Train-set, Val-set, and Test-set\n"
      ]
    },
    {
      "cell_type": "code",
      "execution_count": 26,
      "metadata": {
        "colab": {
          "base_uri": "https://localhost:8080/"
        },
        "id": "O_gz9UfAEf2M",
        "outputId": "ee4e8a0f-6caf-4275-f61f-cdd7d19b24d3"
      },
      "outputs": [
        {
          "name": "stdout",
          "output_type": "stream",
          "text": [
            "Train Size :  (4443, 19)\n",
            "Val Size :  (1111, 19)\n",
            "Test Size :  (1389, 19)\n"
          ]
        }
      ],
      "source": [
        "# split data train dan test\n",
        "X_train, X_test, y_train, y_test = train_test_split(X, y, test_size=0.2, random_state=28)\n",
        "\n",
        "# split data train dan data val\n",
        "X_train, X_val, y_train, y_val = train_test_split(X_train, y_train, train_size=0.8, random_state=28)\n",
        "\n",
        "print('Train Size : ', X_train.shape)\n",
        "print('Val Size : ', X_val.shape)\n",
        "print('Test Size : ', X_test.shape)"
      ]
    },
    {
      "cell_type": "markdown",
      "metadata": {
        "id": "Gcea-Yb8SZIn"
      },
      "source": [
        "we can see the result of splitting data above. Data Train consist of 5015 rows and 20 columns, data Val consist of 886 rows and 20 columns, and data Test consist of 1042 rows and 20 columns."
      ]
    },
    {
      "cell_type": "markdown",
      "metadata": {
        "id": "UHMN_ogLSZIn"
      },
      "source": [
        "## 5.4 Handling Missing Values"
      ]
    },
    {
      "cell_type": "code",
      "execution_count": 27,
      "metadata": {
        "colab": {
          "base_uri": "https://localhost:8080/"
        },
        "id": "U5cZZdGVSZIn",
        "outputId": "3014478b-8fb5-4de8-ee0a-21a88d40fbd0"
      },
      "outputs": [
        {
          "data": {
            "text/plain": [
              "gender              0\n",
              "SeniorCitizen       0\n",
              "Partner             0\n",
              "Dependents          0\n",
              "tenure              0\n",
              "PhoneService        0\n",
              "MultipleLines       0\n",
              "InternetService     0\n",
              "OnlineSecurity      0\n",
              "OnlineBackup        0\n",
              "DeviceProtection    0\n",
              "TechSupport         0\n",
              "StreamingTV         0\n",
              "StreamingMovies     0\n",
              "Contract            0\n",
              "PaperlessBilling    0\n",
              "PaymentMethod       0\n",
              "MonthlyCharges      0\n",
              "TotalCharges        6\n",
              "dtype: int64"
            ]
          },
          "execution_count": 27,
          "metadata": {},
          "output_type": "execute_result"
        }
      ],
      "source": [
        "# Check Missing Values on X_train\n",
        "\n",
        "X_train.isnull().sum()"
      ]
    },
    {
      "cell_type": "code",
      "execution_count": 28,
      "metadata": {
        "colab": {
          "base_uri": "https://localhost:8080/"
        },
        "id": "LLdn35r9SZIn",
        "outputId": "a2741d16-ecd4-46c9-b142-4ef0c55df1a1"
      },
      "outputs": [
        {
          "data": {
            "text/plain": [
              "gender              0\n",
              "SeniorCitizen       0\n",
              "Partner             0\n",
              "Dependents          0\n",
              "tenure              0\n",
              "PhoneService        0\n",
              "MultipleLines       0\n",
              "InternetService     0\n",
              "OnlineSecurity      0\n",
              "OnlineBackup        0\n",
              "DeviceProtection    0\n",
              "TechSupport         0\n",
              "StreamingTV         0\n",
              "StreamingMovies     0\n",
              "Contract            0\n",
              "PaperlessBilling    0\n",
              "PaymentMethod       0\n",
              "MonthlyCharges      0\n",
              "TotalCharges        3\n",
              "dtype: int64"
            ]
          },
          "execution_count": 28,
          "metadata": {},
          "output_type": "execute_result"
        }
      ],
      "source": [
        "# Check Missing Values on X_train\n",
        "\n",
        "X_val.isnull().sum()"
      ]
    },
    {
      "cell_type": "code",
      "execution_count": 29,
      "metadata": {
        "colab": {
          "base_uri": "https://localhost:8080/"
        },
        "id": "KgoHJ3tpSZIo",
        "outputId": "804daf13-8c8a-4361-e61d-fef114383203"
      },
      "outputs": [
        {
          "data": {
            "text/plain": [
              "gender              0\n",
              "SeniorCitizen       0\n",
              "Partner             0\n",
              "Dependents          0\n",
              "tenure              0\n",
              "PhoneService        0\n",
              "MultipleLines       0\n",
              "InternetService     0\n",
              "OnlineSecurity      0\n",
              "OnlineBackup        0\n",
              "DeviceProtection    0\n",
              "TechSupport         0\n",
              "StreamingTV         0\n",
              "StreamingMovies     0\n",
              "Contract            0\n",
              "PaperlessBilling    0\n",
              "PaymentMethod       0\n",
              "MonthlyCharges      0\n",
              "TotalCharges        2\n",
              "dtype: int64"
            ]
          },
          "execution_count": 29,
          "metadata": {},
          "output_type": "execute_result"
        }
      ],
      "source": [
        "# Check Missing Values on X_test\n",
        "\n",
        "X_test.isnull().sum()"
      ]
    },
    {
      "cell_type": "code",
      "execution_count": 30,
      "metadata": {
        "id": "G0jIfDg1SZIo"
      },
      "outputs": [],
      "source": [
        "# replace missing value TotalCharges\n",
        "X_train['TotalCharges'].fillna(X_train['TotalCharges'].median(), inplace=True)\n",
        "X_val['TotalCharges'].fillna(X_val['TotalCharges'].median(), inplace=True)\n",
        "X_test['TotalCharges'].fillna(X_test['TotalCharges'].median(), inplace=True)"
      ]
    },
    {
      "cell_type": "code",
      "execution_count": 31,
      "metadata": {
        "colab": {
          "base_uri": "https://localhost:8080/"
        },
        "id": "VpTxHwNmSZIo",
        "outputId": "65f4b03a-9f99-4d62-91ec-70293b400e27"
      },
      "outputs": [
        {
          "data": {
            "text/plain": [
              "gender              0\n",
              "SeniorCitizen       0\n",
              "Partner             0\n",
              "Dependents          0\n",
              "tenure              0\n",
              "PhoneService        0\n",
              "MultipleLines       0\n",
              "InternetService     0\n",
              "OnlineSecurity      0\n",
              "OnlineBackup        0\n",
              "DeviceProtection    0\n",
              "TechSupport         0\n",
              "StreamingTV         0\n",
              "StreamingMovies     0\n",
              "Contract            0\n",
              "PaperlessBilling    0\n",
              "PaymentMethod       0\n",
              "MonthlyCharges      0\n",
              "TotalCharges        0\n",
              "dtype: int64"
            ]
          },
          "execution_count": 31,
          "metadata": {},
          "output_type": "execute_result"
        }
      ],
      "source": [
        "# Check Missing Values after handling\n",
        "\n",
        "X_train.isnull().sum()"
      ]
    },
    {
      "cell_type": "markdown",
      "metadata": {
        "id": "7OIbWbKiSZIo"
      },
      "source": [
        "## 5.5 Handling Outlier"
      ]
    },
    {
      "cell_type": "markdown",
      "metadata": {
        "id": "rzgWGes3SZIo"
      },
      "source": [
        "first of all, i'll check the distribution of the data, if outliers are found, only the data train will be handled, therefore it will only be checked on the X-train."
      ]
    },
    {
      "cell_type": "code",
      "execution_count": 32,
      "metadata": {
        "colab": {
          "base_uri": "https://localhost:8080/",
          "height": 0
        },
        "id": "zsZzA3GjSZIo",
        "outputId": "2e85d3d2-2063-4f1e-9929-f911da7938ca"
      },
      "outputs": [
        {
          "data": {
            "image/png": "[encoded data removed]",
            "text/plain": [
              "<Figure size 1500x1000 with 4 Axes>"
            ]
          },
          "metadata": {},
          "output_type": "display_data"
        }
      ],
      "source": [
        "# definisikan kolom numerik\n",
        "cols = ['SeniorCitizen', 'tenure', 'MonthlyCharges', 'TotalCharges']\n",
        "\n",
        "# definisikan besar figsize\n",
        "plt.figure(figsize=(15,10))\n",
        "\n",
        "# buat looping untuk boxplot kolom\n",
        "for i, col in enumerate(cols):\n",
        "    if X_train[col].dtype != 'object':\n",
        "        ax = plt.subplot(2, 2, i+1)\n",
        "        sns.boxplot(y=X_train[col])\n",
        "        plt.xlabel(col)\n",
        "        \n",
        "plt.show()"
      ]
    },
    {
      "cell_type": "markdown",
      "metadata": {
        "id": "8pYMzAvySZIp"
      },
      "source": [
        "From the boxplot above, we can see there is no outliers in the data X_train, so there is no need to handle outliers. The Senior citizen feature is not an outlier, but the data is a feature that belongs to a category but in numerical form."
      ]
    },
    {
      "cell_type": "markdown",
      "metadata": {
        "id": "KIIvEAsZSZIp"
      },
      "source": [
        "## 5.7 Get Numerical Columns and Categorical Columns"
      ]
    },
    {
      "cell_type": "code",
      "execution_count": 33,
      "metadata": {
        "colab": {
          "base_uri": "https://localhost:8080/"
        },
        "id": "ZezpSfZVSZIp",
        "outputId": "29a26496-ea17-4dd7-933d-7d16f9eb5e49"
      },
      "outputs": [
        {
          "name": "stdout",
          "output_type": "stream",
          "text": [
            "Numerical Columns :  ['SeniorCitizen', 'tenure', 'MonthlyCharges', 'TotalCharges']\n",
            "Categorical Columns :  ['gender', 'Partner', 'Dependents', 'PhoneService', 'MultipleLines', 'InternetService', 'OnlineSecurity', 'OnlineBackup', 'DeviceProtection', 'TechSupport', 'StreamingTV', 'StreamingMovies', 'Contract', 'PaperlessBilling', 'PaymentMethod']\n"
          ]
        }
      ],
      "source": [
        "# Get Numerical Columns and Categorical Columns\n",
        "\n",
        "num_columns = X_train.select_dtypes(include=np.number).columns.tolist()\n",
        "cat_columns = X_train.select_dtypes(include=['object']).columns.tolist()\n",
        "\n",
        "print('Numerical Columns : ', num_columns)\n",
        "print('Categorical Columns : ', cat_columns)"
      ]
    },
    {
      "cell_type": "code",
      "execution_count": 34,
      "metadata": {
        "id": "Su6FQRLaSZIq"
      },
      "outputs": [],
      "source": [
        "# for X-train numeric and categoric\n",
        "X_train_num = X_train[num_columns]\n",
        "X_train_cat = X_train[cat_columns]\n",
        "\n",
        "# for X-validation numeric and categoric\n",
        "X_val_num = X_val[num_columns]\n",
        "X_val_cat = X_val[cat_columns]\n",
        "\n",
        "# untuk X-test numeric and categoric\n",
        "X_test_num = X_test[num_columns]\n",
        "X_test_cat = X_test[cat_columns]"
      ]
    },
    {
      "cell_type": "markdown",
      "metadata": {
        "id": "IoFrH2qASZIq"
      },
      "source": [
        "## 5.8 Handling imbalace data with scaling and encoding"
      ]
    },
    {
      "cell_type": "markdown",
      "metadata": {
        "id": "BilOKWy4SZIq"
      },
      "source": [
        "Because the handling of data imbalance is only done on the X-train, so for the X-val and X-test only scaling is done and not SMOTENC. The reason using SMOTENC for handling imbalance dataset because SMOTE-NC for dataset containing numerical and categorical features."
      ]
    },
    {
      "cell_type": "code",
      "execution_count": 35,
      "metadata": {
        "id": "scir_dzlSZIq"
      },
      "outputs": [],
      "source": [
        "# define scaler\n",
        "scaler = StandardScaler()"
      ]
    },
    {
      "cell_type": "code",
      "execution_count": 36,
      "metadata": {
        "id": "mKZPo5y5SZIq"
      },
      "outputs": [],
      "source": [
        "# x-train num scaling\n",
        "scaler.fit(X_train_num)\n",
        "X_train_imbalanced_num = scaler.transform(X_train_num)\n",
        "# X-val num scaling\n",
        "X_val_scaled = scaler.transform(X_val_num)\n",
        "# X-test num scaling\n",
        "X_test_scaled = scaler.transform(X_test_num)"
      ]
    },
    {
      "cell_type": "code",
      "execution_count": 37,
      "metadata": {
        "colab": {
          "base_uri": "https://localhost:8080/",
          "height": 357
        },
        "id": "0_z_h0eHSZIr",
        "outputId": "71f74dca-7f1e-4950-f023-e06d3b3de7bc"
      },
      "outputs": [
        {
          "data": {
            "text/html": [
              "<div>\n",
              "<style scoped>\n",
              "    .dataframe tbody tr th:only-of-type {\n",
              "        vertical-align: middle;\n",
              "    }\n",
              "\n",
              "    .dataframe tbody tr th {\n",
              "        vertical-align: top;\n",
              "    }\n",
              "\n",
              "    .dataframe thead tr th {\n",
              "        text-align: left;\n",
              "    }\n",
              "</style>\n",
              "<table border=\"1\" class=\"dataframe\">\n",
              "  <thead>\n",
              "    <tr>\n",
              "      <th></th>\n",
              "      <th>SeniorCitizen</th>\n",
              "      <th>tenure</th>\n",
              "      <th>MonthlyCharges</th>\n",
              "      <th>TotalCharges</th>\n",
              "      <th>gender</th>\n",
              "      <th>Partner</th>\n",
              "      <th>Dependents</th>\n",
              "      <th>PhoneService</th>\n",
              "      <th>MultipleLines</th>\n",
              "      <th>InternetService</th>\n",
              "      <th>OnlineSecurity</th>\n",
              "      <th>OnlineBackup</th>\n",
              "      <th>DeviceProtection</th>\n",
              "      <th>TechSupport</th>\n",
              "      <th>StreamingTV</th>\n",
              "      <th>StreamingMovies</th>\n",
              "      <th>Contract</th>\n",
              "      <th>PaperlessBilling</th>\n",
              "      <th>PaymentMethod</th>\n",
              "    </tr>\n",
              "  </thead>\n",
              "  <tbody>\n",
              "    <tr>\n",
              "      <th>0</th>\n",
              "      <td>-0.445582</td>\n",
              "      <td>-0.384683</td>\n",
              "      <td>-0.371263</td>\n",
              "      <td>-0.476545</td>\n",
              "      <td>Female</td>\n",
              "      <td>Yes</td>\n",
              "      <td>No</td>\n",
              "      <td>Yes</td>\n",
              "      <td>No</td>\n",
              "      <td>DSL</td>\n",
              "      <td>No</td>\n",
              "      <td>No</td>\n",
              "      <td>Yes</td>\n",
              "      <td>Yes</td>\n",
              "      <td>No</td>\n",
              "      <td>No</td>\n",
              "      <td>Month-to-month</td>\n",
              "      <td>No</td>\n",
              "      <td>Electronic check</td>\n",
              "    </tr>\n",
              "    <tr>\n",
              "      <th>1</th>\n",
              "      <td>-0.445582</td>\n",
              "      <td>-1.286346</td>\n",
              "      <td>-0.716282</td>\n",
              "      <td>-0.99757</td>\n",
              "      <td>Female</td>\n",
              "      <td>No</td>\n",
              "      <td>No</td>\n",
              "      <td>Yes</td>\n",
              "      <td>No</td>\n",
              "      <td>DSL</td>\n",
              "      <td>No</td>\n",
              "      <td>No</td>\n",
              "      <td>No</td>\n",
              "      <td>No</td>\n",
              "      <td>No</td>\n",
              "      <td>No</td>\n",
              "      <td>Month-to-month</td>\n",
              "      <td>No</td>\n",
              "      <td>Credit card (automatic)</td>\n",
              "    </tr>\n",
              "    <tr>\n",
              "      <th>2</th>\n",
              "      <td>2.244256</td>\n",
              "      <td>-1.286346</td>\n",
              "      <td>0.303702</td>\n",
              "      <td>-0.984098</td>\n",
              "      <td>Male</td>\n",
              "      <td>No</td>\n",
              "      <td>No</td>\n",
              "      <td>Yes</td>\n",
              "      <td>Yes</td>\n",
              "      <td>Fiber optic</td>\n",
              "      <td>No</td>\n",
              "      <td>No</td>\n",
              "      <td>No</td>\n",
              "      <td>No</td>\n",
              "      <td>No</td>\n",
              "      <td>No</td>\n",
              "      <td>Month-to-month</td>\n",
              "      <td>Yes</td>\n",
              "      <td>Electronic check</td>\n",
              "    </tr>\n",
              "    <tr>\n",
              "      <th>3</th>\n",
              "      <td>-0.445582</td>\n",
              "      <td>-0.384683</td>\n",
              "      <td>0.461138</td>\n",
              "      <td>-0.227802</td>\n",
              "      <td>Female</td>\n",
              "      <td>No</td>\n",
              "      <td>No</td>\n",
              "      <td>Yes</td>\n",
              "      <td>No</td>\n",
              "      <td>Fiber optic</td>\n",
              "      <td>No</td>\n",
              "      <td>Yes</td>\n",
              "      <td>No</td>\n",
              "      <td>Yes</td>\n",
              "      <td>No</td>\n",
              "      <td>No</td>\n",
              "      <td>Month-to-month</td>\n",
              "      <td>Yes</td>\n",
              "      <td>Mailed check</td>\n",
              "    </tr>\n",
              "    <tr>\n",
              "      <th>4</th>\n",
              "      <td>-0.445582</td>\n",
              "      <td>0.598951</td>\n",
              "      <td>-1.500113</td>\n",
              "      <td>-0.598594</td>\n",
              "      <td>Female</td>\n",
              "      <td>No</td>\n",
              "      <td>No</td>\n",
              "      <td>Yes</td>\n",
              "      <td>No</td>\n",
              "      <td>No</td>\n",
              "      <td>No internet service</td>\n",
              "      <td>No internet service</td>\n",
              "      <td>No internet service</td>\n",
              "      <td>No internet service</td>\n",
              "      <td>No internet service</td>\n",
              "      <td>No internet service</td>\n",
              "      <td>Two year</td>\n",
              "      <td>Yes</td>\n",
              "      <td>Mailed check</td>\n",
              "    </tr>\n",
              "  </tbody>\n",
              "</table>\n",
              "</div>"
            ],
            "text/plain": [
              "  SeniorCitizen    tenure MonthlyCharges TotalCharges  gender Partner  \\\n",
              "0     -0.445582 -0.384683      -0.371263    -0.476545  Female     Yes   \n",
              "1     -0.445582 -1.286346      -0.716282     -0.99757  Female      No   \n",
              "2      2.244256 -1.286346       0.303702    -0.984098    Male      No   \n",
              "3     -0.445582 -0.384683       0.461138    -0.227802  Female      No   \n",
              "4     -0.445582  0.598951      -1.500113    -0.598594  Female      No   \n",
              "\n",
              "  Dependents PhoneService MultipleLines InternetService       OnlineSecurity  \\\n",
              "0         No          Yes            No             DSL                   No   \n",
              "1         No          Yes            No             DSL                   No   \n",
              "2         No          Yes           Yes     Fiber optic                   No   \n",
              "3         No          Yes            No     Fiber optic                   No   \n",
              "4         No          Yes            No              No  No internet service   \n",
              "\n",
              "          OnlineBackup     DeviceProtection          TechSupport  \\\n",
              "0                   No                  Yes                  Yes   \n",
              "1                   No                   No                   No   \n",
              "2                   No                   No                   No   \n",
              "3                  Yes                   No                  Yes   \n",
              "4  No internet service  No internet service  No internet service   \n",
              "\n",
              "           StreamingTV      StreamingMovies        Contract PaperlessBilling  \\\n",
              "0                   No                   No  Month-to-month               No   \n",
              "1                   No                   No  Month-to-month               No   \n",
              "2                   No                   No  Month-to-month              Yes   \n",
              "3                   No                   No  Month-to-month              Yes   \n",
              "4  No internet service  No internet service        Two year              Yes   \n",
              "\n",
              "             PaymentMethod  \n",
              "0         Electronic check  \n",
              "1  Credit card (automatic)  \n",
              "2         Electronic check  \n",
              "3             Mailed check  \n",
              "4             Mailed check  "
            ]
          },
          "execution_count": 37,
          "metadata": {},
          "output_type": "execute_result"
        }
      ],
      "source": [
        "# concate between numeric data scaled and categorical data before encoding\n",
        "X_train_imbalanced_new = np.concatenate([X_train_imbalanced_num, X_train_cat], axis=1)\n",
        "\n",
        "# Display X-train final in dataframe\n",
        "X_train_imbalanced_new_df = pd.DataFrame(X_train_imbalanced_new, columns=[num_columns + cat_columns])\n",
        "X_train_imbalanced_new_df.head(5)"
      ]
    },
    {
      "cell_type": "code",
      "execution_count": 38,
      "metadata": {
        "colab": {
          "base_uri": "https://localhost:8080/"
        },
        "id": "rjJopI6BSZIr",
        "outputId": "a24125c7-32e6-4d49-b945-5e22594a4e34"
      },
      "outputs": [
        {
          "data": {
            "text/plain": [
              "0    3261\n",
              "1    3261\n",
              "Name: Churn, dtype: int64"
            ]
          },
          "execution_count": 38,
          "metadata": {},
          "output_type": "execute_result"
        }
      ],
      "source": [
        "# definisikan smotenc dan kolom categori\n",
        "smotenc = SMOTENC([4,5,6,7,8,9,10,11,12,13,14,15,16,17,18], random_state = 23)\n",
        "# doing SMOTENC methods for data train\n",
        "X_train_balanced, y_train_balanced = smotenc.fit_resample(X_train_imbalanced_new, y_train)\n",
        "# showing the total target\n",
        "y_train_balanced.value_counts()"
      ]
    },
    {
      "cell_type": "markdown",
      "metadata": {
        "id": "Y1D7u9qvSZIr"
      },
      "source": [
        "After successfully handling balance, separate the numeric and category columns again for endcoding to the category."
      ]
    },
    {
      "cell_type": "code",
      "execution_count": 39,
      "metadata": {
        "id": "c7fE3g9TSZIr"
      },
      "outputs": [],
      "source": [
        "# convert data balanced to dataframe\n",
        "X_train_balanced_df = pd.DataFrame(X_train_balanced, columns=[num_columns + cat_columns])\n",
        "\n",
        "# for X-train-balanced\n",
        "X_train_balance_num = X_train_balanced_df[num_columns]\n",
        "X_train_balance_cat = X_train_balanced_df[cat_columns]"
      ]
    },
    {
      "cell_type": "markdown",
      "metadata": {
        "id": "I9y6EISRSZIr"
      },
      "source": [
        "Encoding the category data"
      ]
    },
    {
      "cell_type": "code",
      "execution_count": 40,
      "metadata": {
        "id": "kXw0X6ISSZIr"
      },
      "outputs": [],
      "source": [
        "# define encoder\n",
        "encoder = OrdinalEncoder()"
      ]
    },
    {
      "cell_type": "code",
      "execution_count": 41,
      "metadata": {
        "id": "VcndiJW1SZIs"
      },
      "outputs": [],
      "source": [
        "# x-train cat encoding\n",
        "encoder.fit(X_train_balance_cat)\n",
        "\n",
        "X_train_balance_encoded = encoder.transform(X_train_balance_cat)\n",
        "# X-val num encode\n",
        "X_val_encoded = encoder.transform(X_val_cat)\n",
        "# X-test num encode\n",
        "X_test_encoded = encoder.transform(X_test_cat)"
      ]
    },
    {
      "cell_type": "markdown",
      "metadata": {
        "id": "dunSWmxT7AXE"
      },
      "source": [
        "After scaling and encoding, the numeric and categorical data will be combined again and made into a data frame."
      ]
    },
    {
      "cell_type": "code",
      "execution_count": 42,
      "metadata": {
        "id": "YGpNNWeT6-NA"
      },
      "outputs": [],
      "source": [
        "# concate X-train final\n",
        "X_train_final = np.concatenate([X_train_balance_num, X_train_balance_encoded], axis=1)\n",
        "# concate X-val final\n",
        "X_val_final = np.concatenate([X_val_scaled, X_val_encoded], axis=1)\n",
        "# concate X-test final\n",
        "X_test_final = np.concatenate([X_test_scaled, X_test_encoded], axis=1)"
      ]
    },
    {
      "cell_type": "code",
      "execution_count": 43,
      "metadata": {
        "colab": {
          "base_uri": "https://localhost:8080/",
          "height": 488
        },
        "id": "ovQYNCRP7UTO",
        "outputId": "ec96a0b5-2964-45c5-877d-66f6480909fa"
      },
      "outputs": [
        {
          "data": {
            "text/html": [
              "<div>\n",
              "<style scoped>\n",
              "    .dataframe tbody tr th:only-of-type {\n",
              "        vertical-align: middle;\n",
              "    }\n",
              "\n",
              "    .dataframe tbody tr th {\n",
              "        vertical-align: top;\n",
              "    }\n",
              "\n",
              "    .dataframe thead tr th {\n",
              "        text-align: left;\n",
              "    }\n",
              "</style>\n",
              "<table border=\"1\" class=\"dataframe\">\n",
              "  <thead>\n",
              "    <tr>\n",
              "      <th></th>\n",
              "      <th>SeniorCitizen</th>\n",
              "      <th>tenure</th>\n",
              "      <th>MonthlyCharges</th>\n",
              "      <th>TotalCharges</th>\n",
              "      <th>gender</th>\n",
              "      <th>Partner</th>\n",
              "      <th>Dependents</th>\n",
              "      <th>PhoneService</th>\n",
              "      <th>MultipleLines</th>\n",
              "      <th>InternetService</th>\n",
              "      <th>OnlineSecurity</th>\n",
              "      <th>OnlineBackup</th>\n",
              "      <th>DeviceProtection</th>\n",
              "      <th>TechSupport</th>\n",
              "      <th>StreamingTV</th>\n",
              "      <th>StreamingMovies</th>\n",
              "      <th>Contract</th>\n",
              "      <th>PaperlessBilling</th>\n",
              "      <th>PaymentMethod</th>\n",
              "    </tr>\n",
              "  </thead>\n",
              "  <tbody>\n",
              "    <tr>\n",
              "      <th>0</th>\n",
              "      <td>-0.445582</td>\n",
              "      <td>-0.384683</td>\n",
              "      <td>-0.371263</td>\n",
              "      <td>-0.476545</td>\n",
              "      <td>0.0</td>\n",
              "      <td>1.0</td>\n",
              "      <td>0.0</td>\n",
              "      <td>1.0</td>\n",
              "      <td>0.0</td>\n",
              "      <td>0.0</td>\n",
              "      <td>0.0</td>\n",
              "      <td>0.0</td>\n",
              "      <td>2.0</td>\n",
              "      <td>2.0</td>\n",
              "      <td>0.0</td>\n",
              "      <td>0.0</td>\n",
              "      <td>0.0</td>\n",
              "      <td>0.0</td>\n",
              "      <td>2.0</td>\n",
              "    </tr>\n",
              "    <tr>\n",
              "      <th>1</th>\n",
              "      <td>-0.445582</td>\n",
              "      <td>-1.286346</td>\n",
              "      <td>-0.716282</td>\n",
              "      <td>-0.99757</td>\n",
              "      <td>0.0</td>\n",
              "      <td>0.0</td>\n",
              "      <td>0.0</td>\n",
              "      <td>1.0</td>\n",
              "      <td>0.0</td>\n",
              "      <td>0.0</td>\n",
              "      <td>0.0</td>\n",
              "      <td>0.0</td>\n",
              "      <td>0.0</td>\n",
              "      <td>0.0</td>\n",
              "      <td>0.0</td>\n",
              "      <td>0.0</td>\n",
              "      <td>0.0</td>\n",
              "      <td>0.0</td>\n",
              "      <td>1.0</td>\n",
              "    </tr>\n",
              "    <tr>\n",
              "      <th>2</th>\n",
              "      <td>2.244256</td>\n",
              "      <td>-1.286346</td>\n",
              "      <td>0.303702</td>\n",
              "      <td>-0.984098</td>\n",
              "      <td>1.0</td>\n",
              "      <td>0.0</td>\n",
              "      <td>0.0</td>\n",
              "      <td>1.0</td>\n",
              "      <td>2.0</td>\n",
              "      <td>1.0</td>\n",
              "      <td>0.0</td>\n",
              "      <td>0.0</td>\n",
              "      <td>0.0</td>\n",
              "      <td>0.0</td>\n",
              "      <td>0.0</td>\n",
              "      <td>0.0</td>\n",
              "      <td>0.0</td>\n",
              "      <td>1.0</td>\n",
              "      <td>2.0</td>\n",
              "    </tr>\n",
              "    <tr>\n",
              "      <th>3</th>\n",
              "      <td>-0.445582</td>\n",
              "      <td>-0.384683</td>\n",
              "      <td>0.461138</td>\n",
              "      <td>-0.227802</td>\n",
              "      <td>0.0</td>\n",
              "      <td>0.0</td>\n",
              "      <td>0.0</td>\n",
              "      <td>1.0</td>\n",
              "      <td>0.0</td>\n",
              "      <td>1.0</td>\n",
              "      <td>0.0</td>\n",
              "      <td>2.0</td>\n",
              "      <td>0.0</td>\n",
              "      <td>2.0</td>\n",
              "      <td>0.0</td>\n",
              "      <td>0.0</td>\n",
              "      <td>0.0</td>\n",
              "      <td>1.0</td>\n",
              "      <td>3.0</td>\n",
              "    </tr>\n",
              "    <tr>\n",
              "      <th>4</th>\n",
              "      <td>-0.445582</td>\n",
              "      <td>0.598951</td>\n",
              "      <td>-1.500113</td>\n",
              "      <td>-0.598594</td>\n",
              "      <td>0.0</td>\n",
              "      <td>0.0</td>\n",
              "      <td>0.0</td>\n",
              "      <td>1.0</td>\n",
              "      <td>0.0</td>\n",
              "      <td>2.0</td>\n",
              "      <td>1.0</td>\n",
              "      <td>1.0</td>\n",
              "      <td>1.0</td>\n",
              "      <td>1.0</td>\n",
              "      <td>1.0</td>\n",
              "      <td>1.0</td>\n",
              "      <td>2.0</td>\n",
              "      <td>1.0</td>\n",
              "      <td>3.0</td>\n",
              "    </tr>\n",
              "    <tr>\n",
              "      <th>...</th>\n",
              "      <td>...</td>\n",
              "      <td>...</td>\n",
              "      <td>...</td>\n",
              "      <td>...</td>\n",
              "      <td>...</td>\n",
              "      <td>...</td>\n",
              "      <td>...</td>\n",
              "      <td>...</td>\n",
              "      <td>...</td>\n",
              "      <td>...</td>\n",
              "      <td>...</td>\n",
              "      <td>...</td>\n",
              "      <td>...</td>\n",
              "      <td>...</td>\n",
              "      <td>...</td>\n",
              "      <td>...</td>\n",
              "      <td>...</td>\n",
              "      <td>...</td>\n",
              "      <td>...</td>\n",
              "    </tr>\n",
              "    <tr>\n",
              "      <th>6517</th>\n",
              "      <td>-0.445582</td>\n",
              "      <td>-1.286346</td>\n",
              "      <td>0.321556</td>\n",
              "      <td>-0.983862</td>\n",
              "      <td>1.0</td>\n",
              "      <td>0.0</td>\n",
              "      <td>0.0</td>\n",
              "      <td>1.0</td>\n",
              "      <td>2.0</td>\n",
              "      <td>1.0</td>\n",
              "      <td>0.0</td>\n",
              "      <td>0.0</td>\n",
              "      <td>0.0</td>\n",
              "      <td>0.0</td>\n",
              "      <td>0.0</td>\n",
              "      <td>0.0</td>\n",
              "      <td>0.0</td>\n",
              "      <td>1.0</td>\n",
              "      <td>2.0</td>\n",
              "    </tr>\n",
              "    <tr>\n",
              "      <th>6518</th>\n",
              "      <td>-0.445582</td>\n",
              "      <td>-1.218516</td>\n",
              "      <td>-0.503346</td>\n",
              "      <td>-0.958264</td>\n",
              "      <td>0.0</td>\n",
              "      <td>0.0</td>\n",
              "      <td>0.0</td>\n",
              "      <td>1.0</td>\n",
              "      <td>2.0</td>\n",
              "      <td>0.0</td>\n",
              "      <td>0.0</td>\n",
              "      <td>0.0</td>\n",
              "      <td>0.0</td>\n",
              "      <td>0.0</td>\n",
              "      <td>0.0</td>\n",
              "      <td>0.0</td>\n",
              "      <td>0.0</td>\n",
              "      <td>1.0</td>\n",
              "      <td>3.0</td>\n",
              "    </tr>\n",
              "    <tr>\n",
              "      <th>6519</th>\n",
              "      <td>-0.445582</td>\n",
              "      <td>-1.170075</td>\n",
              "      <td>-0.024299</td>\n",
              "      <td>-0.900118</td>\n",
              "      <td>0.0</td>\n",
              "      <td>0.0</td>\n",
              "      <td>0.0</td>\n",
              "      <td>1.0</td>\n",
              "      <td>2.0</td>\n",
              "      <td>0.0</td>\n",
              "      <td>0.0</td>\n",
              "      <td>0.0</td>\n",
              "      <td>0.0</td>\n",
              "      <td>2.0</td>\n",
              "      <td>0.0</td>\n",
              "      <td>2.0</td>\n",
              "      <td>0.0</td>\n",
              "      <td>0.0</td>\n",
              "      <td>2.0</td>\n",
              "    </tr>\n",
              "    <tr>\n",
              "      <th>6520</th>\n",
              "      <td>-0.445582</td>\n",
              "      <td>-1.282864</td>\n",
              "      <td>-1.511339</td>\n",
              "      <td>-1.007497</td>\n",
              "      <td>1.0</td>\n",
              "      <td>0.0</td>\n",
              "      <td>0.0</td>\n",
              "      <td>1.0</td>\n",
              "      <td>0.0</td>\n",
              "      <td>2.0</td>\n",
              "      <td>1.0</td>\n",
              "      <td>1.0</td>\n",
              "      <td>1.0</td>\n",
              "      <td>1.0</td>\n",
              "      <td>1.0</td>\n",
              "      <td>1.0</td>\n",
              "      <td>0.0</td>\n",
              "      <td>1.0</td>\n",
              "      <td>3.0</td>\n",
              "    </tr>\n",
              "    <tr>\n",
              "      <th>6521</th>\n",
              "      <td>-0.445582</td>\n",
              "      <td>-1.16068</td>\n",
              "      <td>1.2177</td>\n",
              "      <td>-0.852392</td>\n",
              "      <td>1.0</td>\n",
              "      <td>0.0</td>\n",
              "      <td>0.0</td>\n",
              "      <td>1.0</td>\n",
              "      <td>2.0</td>\n",
              "      <td>1.0</td>\n",
              "      <td>0.0</td>\n",
              "      <td>0.0</td>\n",
              "      <td>0.0</td>\n",
              "      <td>0.0</td>\n",
              "      <td>2.0</td>\n",
              "      <td>2.0</td>\n",
              "      <td>0.0</td>\n",
              "      <td>1.0</td>\n",
              "      <td>2.0</td>\n",
              "    </tr>\n",
              "  </tbody>\n",
              "</table>\n",
              "<p>6522 rows × 19 columns</p>\n",
              "</div>"
            ],
            "text/plain": [
              "     SeniorCitizen    tenure MonthlyCharges TotalCharges gender Partner  \\\n",
              "0        -0.445582 -0.384683      -0.371263    -0.476545    0.0     1.0   \n",
              "1        -0.445582 -1.286346      -0.716282     -0.99757    0.0     0.0   \n",
              "2         2.244256 -1.286346       0.303702    -0.984098    1.0     0.0   \n",
              "3        -0.445582 -0.384683       0.461138    -0.227802    0.0     0.0   \n",
              "4        -0.445582  0.598951      -1.500113    -0.598594    0.0     0.0   \n",
              "...            ...       ...            ...          ...    ...     ...   \n",
              "6517     -0.445582 -1.286346       0.321556    -0.983862    1.0     0.0   \n",
              "6518     -0.445582 -1.218516      -0.503346    -0.958264    0.0     0.0   \n",
              "6519     -0.445582 -1.170075      -0.024299    -0.900118    0.0     0.0   \n",
              "6520     -0.445582 -1.282864      -1.511339    -1.007497    1.0     0.0   \n",
              "6521     -0.445582  -1.16068         1.2177    -0.852392    1.0     0.0   \n",
              "\n",
              "     Dependents PhoneService MultipleLines InternetService OnlineSecurity  \\\n",
              "0           0.0          1.0           0.0             0.0            0.0   \n",
              "1           0.0          1.0           0.0             0.0            0.0   \n",
              "2           0.0          1.0           2.0             1.0            0.0   \n",
              "3           0.0          1.0           0.0             1.0            0.0   \n",
              "4           0.0          1.0           0.0             2.0            1.0   \n",
              "...         ...          ...           ...             ...            ...   \n",
              "6517        0.0          1.0           2.0             1.0            0.0   \n",
              "6518        0.0          1.0           2.0             0.0            0.0   \n",
              "6519        0.0          1.0           2.0             0.0            0.0   \n",
              "6520        0.0          1.0           0.0             2.0            1.0   \n",
              "6521        0.0          1.0           2.0             1.0            0.0   \n",
              "\n",
              "     OnlineBackup DeviceProtection TechSupport StreamingTV StreamingMovies  \\\n",
              "0             0.0              2.0         2.0         0.0             0.0   \n",
              "1             0.0              0.0         0.0         0.0             0.0   \n",
              "2             0.0              0.0         0.0         0.0             0.0   \n",
              "3             2.0              0.0         2.0         0.0             0.0   \n",
              "4             1.0              1.0         1.0         1.0             1.0   \n",
              "...           ...              ...         ...         ...             ...   \n",
              "6517          0.0              0.0         0.0         0.0             0.0   \n",
              "6518          0.0              0.0         0.0         0.0             0.0   \n",
              "6519          0.0              0.0         2.0         0.0             2.0   \n",
              "6520          1.0              1.0         1.0         1.0             1.0   \n",
              "6521          0.0              0.0         0.0         2.0             2.0   \n",
              "\n",
              "     Contract PaperlessBilling PaymentMethod  \n",
              "0         0.0              0.0           2.0  \n",
              "1         0.0              0.0           1.0  \n",
              "2         0.0              1.0           2.0  \n",
              "3         0.0              1.0           3.0  \n",
              "4         2.0              1.0           3.0  \n",
              "...       ...              ...           ...  \n",
              "6517      0.0              1.0           2.0  \n",
              "6518      0.0              1.0           3.0  \n",
              "6519      0.0              0.0           2.0  \n",
              "6520      0.0              1.0           3.0  \n",
              "6521      0.0              1.0           2.0  \n",
              "\n",
              "[6522 rows x 19 columns]"
            ]
          },
          "execution_count": 43,
          "metadata": {},
          "output_type": "execute_result"
        }
      ],
      "source": [
        "# change X-train, X-val and X-test final into dataframe\n",
        "X_train_final_df = pd.DataFrame(X_train_final, columns=[num_columns + cat_columns])\n",
        "X_val_final_df = pd.DataFrame(X_val_final, columns=[num_columns + cat_columns])\n",
        "X_test_final_df = pd.DataFrame(X_test_final, columns=[num_columns + cat_columns])\n",
        "\n",
        "X_train_final_df"
      ]
    },
    {
      "cell_type": "markdown",
      "metadata": {
        "id": "iTQY0YiBSZIs"
      },
      "source": [
        "Reference for handling imbalance data from the P1W3D3PM Advance feature engineering material \n",
        "\n",
        "source : `https://colab.research.google.com/github/ardhiraka/FSDS_Guidelines/blob/master/p1/v3/w3/P1W3D3PM%20-%20Advance%20Feature%20Engineering.ipynb#scrollTo=VE7xf-P9qoup`\n"
      ]
    },
    {
      "cell_type": "markdown",
      "metadata": {
        "id": "BUdoUzoq7p4M"
      },
      "source": [
        "# 6 - Creating Model"
      ]
    },
    {
      "cell_type": "markdown",
      "metadata": {
        "id": "caNGS1hvFf96"
      },
      "source": [
        "## 6.1 Input Pipeline"
      ]
    },
    {
      "cell_type": "code",
      "execution_count": 44,
      "metadata": {
        "id": "x-HqSz4ABZW3"
      },
      "outputs": [],
      "source": [
        "# Create training dataset\n",
        "#train_dataset = tf.data.Dataset.from_tensor_slices((X_train_final, y_train))\n",
        "#train_dataset = train_dataset.batch(64)\n",
        "\n",
        "# Create val dataset\n",
        "#val_dataset = tf.data.Dataset.from_tensor_slices((X_val_final, y_val))\n",
        "#val_dataset = val_dataset.batch(64)\n",
        "\n",
        "# Create test dataset\n",
        "#test_dataset = tf.data.Dataset.from_tensor_slices((X_test_final, y_test))\n",
        "#test_dataset = test_dataset.batch(64)"
      ]
    },
    {
      "cell_type": "markdown",
      "metadata": {
        "id": "TQ_Nsvi3CwVO"
      },
      "source": [
        "Previously, the data was in the form of numpy arrays and when I wanted to create a pipeline (changed to tensor) an error occurred. Therefore changing the data type so that X-train, X-val and X-test data can be converted into tensors. ref https://stackoverflow.com/questions/58636087/tensorflow-valueerror-failed-to-convert-a-numpy-array-to-a-tensor-unsupporte"
      ]
    },
    {
      "cell_type": "code",
      "execution_count": 45,
      "metadata": {
        "id": "A6veTk4YCkfd"
      },
      "outputs": [],
      "source": [
        "X_train_final = np.asarray(X_train_final).astype(np.float32)\n",
        "X_val_final = np.asarray(X_val_final).astype(np.float32)\n",
        "X_test_final = np.asarray(X_test_final).astype(np.float32)"
      ]
    },
    {
      "cell_type": "code",
      "execution_count": 46,
      "metadata": {
        "id": "qoByh9yuDQnr"
      },
      "outputs": [
        {
          "name": "stderr",
          "output_type": "stream",
          "text": [
            "2022-12-02 15:53:29.371096: I tensorflow/core/platform/cpu_feature_guard.cc:193] This TensorFlow binary is optimized with oneAPI Deep Neural Network Library (oneDNN) to use the following CPU instructions in performance-critical operations:  AVX2 FMA\n",
            "To enable them in other operations, rebuild TensorFlow with the appropriate compiler flags.\n"
          ]
        }
      ],
      "source": [
        "# Create training dataset\n",
        "train_dataset = tf.data.Dataset.from_tensor_slices((X_train_final, y_train_balanced)).batch(64)\n",
        "\n",
        "# Create val dataset\n",
        "val_dataset = tf.data.Dataset.from_tensor_slices((X_val_final, y_val)).batch(64)\n",
        "\n",
        "# Create test dataset\n",
        "test_dataset = tf.data.Dataset.from_tensor_slices((X_test_final, y_test)).batch(64)"
      ]
    },
    {
      "cell_type": "markdown",
      "metadata": {
        "id": "SD44BoiLFjuz"
      },
      "source": [
        "## 6.2 Sequential API"
      ]
    },
    {
      "cell_type": "markdown",
      "metadata": {
        "id": "iVhTlqYmHWKe"
      },
      "source": [
        "### 6.2.1 Model Definition"
      ]
    },
    {
      "cell_type": "code",
      "execution_count": 47,
      "metadata": {
        "colab": {
          "base_uri": "https://localhost:8080/"
        },
        "id": "KYYW6i4GHthO",
        "outputId": "d44d8a4c-941c-4db2-f773-15b9ec80a244"
      },
      "outputs": [
        {
          "name": "stdout",
          "output_type": "stream",
          "text": [
            "Model: \"sequential\"\n",
            "_________________________________________________________________\n",
            " Layer (type)                Output Shape              Param #   \n",
            "=================================================================\n",
            " dense (Dense)               (None, 4)                 80        \n",
            "                                                                 \n",
            " dense_1 (Dense)             (None, 1)                 5         \n",
            "                                                                 \n",
            "=================================================================\n",
            "Total params: 85\n",
            "Trainable params: 85\n",
            "Non-trainable params: 0\n",
            "_________________________________________________________________\n"
          ]
        }
      ],
      "source": [
        "# Create Sequential API\n",
        "\n",
        "model_seq = Sequential()\n",
        "# Hidden layer 1\n",
        "model_seq.add(Dense(4, activation='relu', input_shape=(19,))) \n",
        "model_seq.add(Dense(1, activation='sigmoid')) # Output layer\n",
        "\n",
        "# Compile\n",
        "model_seq.compile(loss='binary_crossentropy',\n",
        "                  optimizer='Adam',\n",
        "                  metrics=['accuracy'])\n",
        "\n",
        "# summary from model\n",
        "model_seq.summary()"
      ]
    },
    {
      "cell_type": "markdown",
      "metadata": {
        "id": "bxQLOa9hIj6H"
      },
      "source": [
        "For the sequential baseline model, I use one hidden layer with 4 neurons where the hidden layer receives as much as 19 features as input. The activation functions chosen are Relu and Sigmoid because they are the most widely used activation functions. The output of this sequential model is 1 neuron where the neuron will produce the classification results.\n"
      ]
    },
    {
      "cell_type": "code",
      "execution_count": 48,
      "metadata": {
        "colab": {
          "base_uri": "https://localhost:8080/",
          "height": 312
        },
        "id": "GuwHtyGgIvw4",
        "outputId": "d981d9d4-0e40-4f94-9d29-8728c14cb030"
      },
      "outputs": [
        {
          "name": "stdout",
          "output_type": "stream",
          "text": [
            "You must install pydot (`pip install pydot`) and install graphviz (see instructions at https://graphviz.gitlab.io/download/) for plot_model to work.\n"
          ]
        }
      ],
      "source": [
        "# Plot Layers\n",
        "tf.keras.utils.plot_model(model_seq, show_shapes=True)"
      ]
    },
    {
      "cell_type": "markdown",
      "metadata": {
        "id": "7yq_LwF8JW3O"
      },
      "source": [
        "The visual above shows the architectural structure of our model where there is an InputLayer with 19 features which will lead to a hidden layer with 4 neurons and lastly the neurons from the hidden layer will lead to an output layer which contains 1 neuron.\n"
      ]
    },
    {
      "cell_type": "markdown",
      "metadata": {
        "id": "2UwdpL3hHZt9"
      },
      "source": [
        "### 6.2.2 Model Training"
      ]
    },
    {
      "cell_type": "code",
      "execution_count": 49,
      "metadata": {
        "colab": {
          "base_uri": "https://localhost:8080/"
        },
        "id": "0sSp92ScKBtN",
        "outputId": "7ec5968a-679b-49c3-a43e-717164bed816"
      },
      "outputs": [
        {
          "name": "stdout",
          "output_type": "stream",
          "text": [
            "Epoch 1/10\n",
            "102/102 [==============================] - 1s 2ms/step - loss: 0.7309 - accuracy: 0.5115 - val_loss: 0.6583 - val_accuracy: 0.6634\n",
            "Epoch 2/10\n",
            "102/102 [==============================] - 0s 1ms/step - loss: 0.6451 - accuracy: 0.6708 - val_loss: 0.6260 - val_accuracy: 0.7030\n",
            "Epoch 3/10\n",
            "102/102 [==============================] - 0s 1ms/step - loss: 0.6033 - accuracy: 0.7130 - val_loss: 0.6081 - val_accuracy: 0.6985\n",
            "Epoch 4/10\n",
            "102/102 [==============================] - 0s 1ms/step - loss: 0.5705 - accuracy: 0.7366 - val_loss: 0.5921 - val_accuracy: 0.7093\n",
            "Epoch 5/10\n",
            "102/102 [==============================] - 0s 1ms/step - loss: 0.5454 - accuracy: 0.7485 - val_loss: 0.5758 - val_accuracy: 0.7354\n",
            "Epoch 6/10\n",
            "102/102 [==============================] - 0s 4ms/step - loss: 0.5269 - accuracy: 0.7545 - val_loss: 0.5622 - val_accuracy: 0.7435\n",
            "Epoch 7/10\n",
            "102/102 [==============================] - 0s 1ms/step - loss: 0.5139 - accuracy: 0.7616 - val_loss: 0.5523 - val_accuracy: 0.7462\n",
            "Epoch 8/10\n",
            "102/102 [==============================] - 0s 1ms/step - loss: 0.5047 - accuracy: 0.7657 - val_loss: 0.5458 - val_accuracy: 0.7480\n",
            "Epoch 9/10\n",
            "102/102 [==============================] - 0s 1ms/step - loss: 0.4985 - accuracy: 0.7695 - val_loss: 0.5413 - val_accuracy: 0.7480\n",
            "Epoch 10/10\n",
            "102/102 [==============================] - 0s 1ms/step - loss: 0.4943 - accuracy: 0.7694 - val_loss: 0.5382 - val_accuracy: 0.7471\n"
          ]
        }
      ],
      "source": [
        "# Train the model\n",
        "\n",
        "history_seq = model_seq.fit(train_dataset, validation_data=(val_dataset), epochs=10)"
      ]
    },
    {
      "cell_type": "markdown",
      "metadata": {
        "id": "p_6R2z9YHcdh"
      },
      "source": [
        "### 6.2.3 Model Evaluation"
      ]
    },
    {
      "cell_type": "code",
      "execution_count": 50,
      "metadata": {
        "colab": {
          "base_uri": "https://localhost:8080/",
          "height": 363
        },
        "id": "lTi31pCCL_lg",
        "outputId": "8c3fe82b-eb73-4f53-c857-84a2abf7a006"
      },
      "outputs": [
        {
          "data": {
            "text/html": [
              "<div>\n",
              "<style scoped>\n",
              "    .dataframe tbody tr th:only-of-type {\n",
              "        vertical-align: middle;\n",
              "    }\n",
              "\n",
              "    .dataframe tbody tr th {\n",
              "        vertical-align: top;\n",
              "    }\n",
              "\n",
              "    .dataframe thead th {\n",
              "        text-align: right;\n",
              "    }\n",
              "</style>\n",
              "<table border=\"1\" class=\"dataframe\">\n",
              "  <thead>\n",
              "    <tr style=\"text-align: right;\">\n",
              "      <th></th>\n",
              "      <th>loss</th>\n",
              "      <th>accuracy</th>\n",
              "      <th>val_loss</th>\n",
              "      <th>val_accuracy</th>\n",
              "    </tr>\n",
              "  </thead>\n",
              "  <tbody>\n",
              "    <tr>\n",
              "      <th>0</th>\n",
              "      <td>0.730870</td>\n",
              "      <td>0.511500</td>\n",
              "      <td>0.658343</td>\n",
              "      <td>0.663366</td>\n",
              "    </tr>\n",
              "    <tr>\n",
              "      <th>1</th>\n",
              "      <td>0.645070</td>\n",
              "      <td>0.670807</td>\n",
              "      <td>0.625992</td>\n",
              "      <td>0.702970</td>\n",
              "    </tr>\n",
              "    <tr>\n",
              "      <th>2</th>\n",
              "      <td>0.603268</td>\n",
              "      <td>0.712972</td>\n",
              "      <td>0.608107</td>\n",
              "      <td>0.698470</td>\n",
              "    </tr>\n",
              "    <tr>\n",
              "      <th>3</th>\n",
              "      <td>0.570501</td>\n",
              "      <td>0.736584</td>\n",
              "      <td>0.592060</td>\n",
              "      <td>0.709271</td>\n",
              "    </tr>\n",
              "    <tr>\n",
              "      <th>4</th>\n",
              "      <td>0.545424</td>\n",
              "      <td>0.748543</td>\n",
              "      <td>0.575762</td>\n",
              "      <td>0.735374</td>\n",
              "    </tr>\n",
              "    <tr>\n",
              "      <th>5</th>\n",
              "      <td>0.526912</td>\n",
              "      <td>0.754523</td>\n",
              "      <td>0.562195</td>\n",
              "      <td>0.743474</td>\n",
              "    </tr>\n",
              "    <tr>\n",
              "      <th>6</th>\n",
              "      <td>0.513872</td>\n",
              "      <td>0.761576</td>\n",
              "      <td>0.552287</td>\n",
              "      <td>0.746175</td>\n",
              "    </tr>\n",
              "    <tr>\n",
              "      <th>7</th>\n",
              "      <td>0.504691</td>\n",
              "      <td>0.765716</td>\n",
              "      <td>0.545785</td>\n",
              "      <td>0.747975</td>\n",
              "    </tr>\n",
              "    <tr>\n",
              "      <th>8</th>\n",
              "      <td>0.498537</td>\n",
              "      <td>0.769549</td>\n",
              "      <td>0.541332</td>\n",
              "      <td>0.747975</td>\n",
              "    </tr>\n",
              "    <tr>\n",
              "      <th>9</th>\n",
              "      <td>0.494269</td>\n",
              "      <td>0.769396</td>\n",
              "      <td>0.538186</td>\n",
              "      <td>0.747075</td>\n",
              "    </tr>\n",
              "  </tbody>\n",
              "</table>\n",
              "</div>"
            ],
            "text/plain": [
              "       loss  accuracy  val_loss  val_accuracy\n",
              "0  0.730870  0.511500  0.658343      0.663366\n",
              "1  0.645070  0.670807  0.625992      0.702970\n",
              "2  0.603268  0.712972  0.608107      0.698470\n",
              "3  0.570501  0.736584  0.592060      0.709271\n",
              "4  0.545424  0.748543  0.575762      0.735374\n",
              "5  0.526912  0.754523  0.562195      0.743474\n",
              "6  0.513872  0.761576  0.552287      0.746175\n",
              "7  0.504691  0.765716  0.545785      0.747975\n",
              "8  0.498537  0.769549  0.541332      0.747975\n",
              "9  0.494269  0.769396  0.538186      0.747075"
            ]
          },
          "execution_count": 50,
          "metadata": {},
          "output_type": "execute_result"
        }
      ],
      "source": [
        "# Create DataFrame\n",
        "\n",
        "history_seq_df = pd.DataFrame(history_seq.history)\n",
        "history_seq_df"
      ]
    },
    {
      "cell_type": "code",
      "execution_count": 51,
      "metadata": {
        "colab": {
          "base_uri": "https://localhost:8080/",
          "height": 283
        },
        "id": "7EEg4D4PMDjm",
        "outputId": "08173fe2-b745-48af-aeda-afbccd26fa9f"
      },
      "outputs": [
        {
          "data": {
            "text/plain": [
              "<AxesSubplot: >"
            ]
          },
          "execution_count": 51,
          "metadata": {},
          "output_type": "execute_result"
        },
        {
          "data": {
            "image/png": "[encoded data removed]",
            "text/plain": [
              "<Figure size 640x480 with 1 Axes>"
            ]
          },
          "metadata": {},
          "output_type": "display_data"
        }
      ],
      "source": [
        "# Plot between accuracy and val_accuracy\n",
        "\n",
        "history_seq_df[['accuracy', 'val_accuracy']].plot()"
      ]
    },
    {
      "cell_type": "code",
      "execution_count": 52,
      "metadata": {
        "colab": {
          "base_uri": "https://localhost:8080/",
          "height": 283
        },
        "id": "z93w0lgrMHFk",
        "outputId": "26d898c7-b578-4fab-da82-c5a65cb15347"
      },
      "outputs": [
        {
          "data": {
            "text/plain": [
              "<AxesSubplot: >"
            ]
          },
          "execution_count": 52,
          "metadata": {},
          "output_type": "execute_result"
        },
        {
          "data": {
            "image/png": "[encoded data removed]",
            "text/plain": [
              "<Figure size 640x480 with 1 Axes>"
            ]
          },
          "metadata": {},
          "output_type": "display_data"
        }
      ],
      "source": [
        "# Plot between loss and val_loss\n",
        "\n",
        "history_seq_df[['loss', 'val_loss']].plot()"
      ]
    },
    {
      "cell_type": "code",
      "execution_count": 53,
      "metadata": {
        "colab": {
          "base_uri": "https://localhost:8080/"
        },
        "id": "eD3NeRn-OfI5",
        "outputId": "acf0a238-74c0-4efa-800c-efbbe382c8f7"
      },
      "outputs": [
        {
          "name": "stdout",
          "output_type": "stream",
          "text": [
            "204/204 [==============================] - 0s 742us/step\n",
            "              precision    recall  f1-score   support\n",
            "\n",
            "           0       0.81      0.72      0.76      3261\n",
            "           1       0.75      0.83      0.79      3261\n",
            "\n",
            "    accuracy                           0.78      6522\n",
            "   macro avg       0.78      0.78      0.77      6522\n",
            "weighted avg       0.78      0.78      0.77      6522\n",
            "\n"
          ]
        }
      ],
      "source": [
        "# predict data train\n",
        "y_pred_func = model_seq.predict(X_train_final)\n",
        "# set threshold 0.5\n",
        "y_pred_func = np.where(y_pred_func >= 0.5, 1, 0)\n",
        "# result from classification report\n",
        "print(classification_report(y_train_balanced, y_pred_func))"
      ]
    },
    {
      "cell_type": "code",
      "execution_count": 54,
      "metadata": {
        "colab": {
          "base_uri": "https://localhost:8080/"
        },
        "id": "zApYtxbg9kCf",
        "outputId": "dc299c09-dc2d-41d6-9fff-34115379d56d"
      },
      "outputs": [
        {
          "name": "stdout",
          "output_type": "stream",
          "text": [
            "44/44 [==============================] - 0s 834us/step\n",
            "              precision    recall  f1-score   support\n",
            "\n",
            "           0       0.90      0.75      0.82      1022\n",
            "           1       0.52      0.77      0.63       367\n",
            "\n",
            "    accuracy                           0.76      1389\n",
            "   macro avg       0.71      0.76      0.72      1389\n",
            "weighted avg       0.80      0.76      0.77      1389\n",
            "\n"
          ]
        }
      ],
      "source": [
        "# prediksi data test\n",
        "y_pred_sq_test = model_seq.predict(X_test_final)\n",
        "# set threshodl 0.5\n",
        "y_pred_sq_test = np.where(y_pred_sq_test >= 0.5, 1, 0)\n",
        "# result from classification report\n",
        "print(classification_report(y_test, y_pred_sq_test))"
      ]
    },
    {
      "cell_type": "markdown",
      "metadata": {
        "id": "sil140O6X5sI"
      },
      "source": [
        "Churn is an event where a customer disconnects from our company, therefore our goal is to minimize the churn rate. I think we have to focus more on label 0 where label 0 is someone who doesn't churn and we have to be able to keep these customers from breaking up with the company while being able to find new customers. By focusing on the 0 label, we can better target promos or new features or services to surviving customers so that they stay afloat and don't churn.\n",
        "\n",
        "- From the classification report results, the accuracy between the data train is 76% and the test is 72% with a non-significant difference. The difference only reaches 4% so that it can be said that the model created has good fit with the architecture using the default activation function on each hidden layer.\n",
        "- Precision: So out of 1022 customers who didn't churn, we managed to classify 92% of the customers as really not churn and and wrongly classified the remaining 8% as churn customers even though they shouldn't have.\n",
        "- Recall: So out of 1022 customers who didn't churn, we managed to classify 68% of the customers as really not churn and wrongly classify 32% who should be churn but we think of them as not churn.\n",
        "- Just as a loss graph can change if it is re-run, there is a possibility that there will be a change in the value of the classification report because these results come from the previous train model."
      ]
    },
    {
      "cell_type": "markdown",
      "metadata": {
        "id": "aYuv_MKGFzyN"
      },
      "source": [
        "## 6.3 Functional API"
      ]
    },
    {
      "cell_type": "markdown",
      "metadata": {
        "id": "jMQqjdTeHgQn"
      },
      "source": [
        "### 6.3.1 Model Definition"
      ]
    },
    {
      "cell_type": "code",
      "execution_count": 55,
      "metadata": {
        "colab": {
          "base_uri": "https://localhost:8080/"
        },
        "id": "dCt29DZsKMm2",
        "outputId": "0177abdd-fa06-4a0f-dbe0-4e72cd22539c"
      },
      "outputs": [
        {
          "name": "stdout",
          "output_type": "stream",
          "text": [
            "Model: \"model\"\n",
            "_________________________________________________________________\n",
            " Layer (type)                Output Shape              Param #   \n",
            "=================================================================\n",
            " input_1 (InputLayer)        [(None, 19)]              0         \n",
            "                                                                 \n",
            " dense_2 (Dense)             (None, 4)                 80        \n",
            "                                                                 \n",
            " dense_3 (Dense)             (None, 1)                 5         \n",
            "                                                                 \n",
            "=================================================================\n",
            "Total params: 85\n",
            "Trainable params: 85\n",
            "Non-trainable params: 0\n",
            "_________________________________________________________________\n"
          ]
        }
      ],
      "source": [
        "input_layer = Input(shape=(19,)) # input layer\n",
        "hidden_layer = Dense(4, activation='relu')(input_layer) # hidden layer 1\n",
        "output_layer = Dense(1, activation='sigmoid')(hidden_layer) # Output layer\n",
        "\n",
        "model_func = Model(inputs=input_layer, outputs=output_layer)\n",
        "\n",
        "# compile model\n",
        "model_func.compile(loss='binary_crossentropy',\n",
        "                  optimizer='Adam',\n",
        "                  metrics=['accuracy'])\n",
        "\n",
        "model_func.summary()"
      ]
    },
    {
      "cell_type": "markdown",
      "metadata": {
        "id": "smY0DJdxKbhf"
      },
      "source": [
        "For the baseline functional model I use the same architecture as the sequential model where I use one hidden layer with 4 neurons where the hidden layer receives as much as 19 features as input and this hidden layer will lead to the output layer. The output of this sequential model is 1 neuron where These neurons will produce classification results. The basemodel architecture above has a total of 85 parameters.\n"
      ]
    },
    {
      "cell_type": "code",
      "execution_count": 56,
      "metadata": {
        "colab": {
          "base_uri": "https://localhost:8080/",
          "height": 312
        },
        "id": "oNvQUQ4WKks0",
        "outputId": "83792fbd-c0fa-4b39-8e59-533f60e3850f"
      },
      "outputs": [
        {
          "name": "stdout",
          "output_type": "stream",
          "text": [
            "You must install pydot (`pip install pydot`) and install graphviz (see instructions at https://graphviz.gitlab.io/download/) for plot_model to work.\n"
          ]
        }
      ],
      "source": [
        "# Plot Layers\n",
        "tf.keras.utils.plot_model(model_func, show_shapes=True)"
      ]
    },
    {
      "cell_type": "markdown",
      "metadata": {
        "id": "SxaMDKkaKpr9"
      },
      "source": [
        "The visual above is the architectural structure of the functional model where there is an InputLayer which is the same as 19 features which will lead to the hidden layer with 4 neurons and lastly the neurons from the hidden layer will lead to the output layer which contains 1 neuron.\n"
      ]
    },
    {
      "cell_type": "markdown",
      "metadata": {
        "id": "HfI7i5EIHjKR"
      },
      "source": [
        "### 6.3.2 Model Training"
      ]
    },
    {
      "cell_type": "code",
      "execution_count": 57,
      "metadata": {
        "colab": {
          "base_uri": "https://localhost:8080/"
        },
        "id": "YJ9waSKRKxYZ",
        "outputId": "46b2b254-a5f3-4fa8-dacd-27ef30c16b1a"
      },
      "outputs": [
        {
          "name": "stdout",
          "output_type": "stream",
          "text": [
            "Epoch 1/10\n",
            "102/102 [==============================] - 1s 2ms/step - loss: 0.7171 - accuracy: 0.5000 - val_loss: 0.6146 - val_accuracy: 0.7291\n",
            "Epoch 2/10\n",
            "102/102 [==============================] - 0s 1ms/step - loss: 0.6749 - accuracy: 0.5000 - val_loss: 0.6013 - val_accuracy: 0.7282\n",
            "Epoch 3/10\n",
            "102/102 [==============================] - 0s 1ms/step - loss: 0.6520 - accuracy: 0.5164 - val_loss: 0.5752 - val_accuracy: 0.7480\n",
            "Epoch 4/10\n",
            "102/102 [==============================] - 0s 1ms/step - loss: 0.6283 - accuracy: 0.6023 - val_loss: 0.5494 - val_accuracy: 0.7597\n",
            "Epoch 5/10\n",
            "102/102 [==============================] - 0s 1ms/step - loss: 0.6080 - accuracy: 0.6858 - val_loss: 0.5298 - val_accuracy: 0.7633\n",
            "Epoch 6/10\n",
            "102/102 [==============================] - 0s 1ms/step - loss: 0.5918 - accuracy: 0.7262 - val_loss: 0.5166 - val_accuracy: 0.7669\n",
            "Epoch 7/10\n",
            "102/102 [==============================] - 0s 1ms/step - loss: 0.5793 - accuracy: 0.7447 - val_loss: 0.5073 - val_accuracy: 0.7624\n",
            "Epoch 8/10\n",
            "102/102 [==============================] - 0s 1ms/step - loss: 0.5694 - accuracy: 0.7579 - val_loss: 0.5007 - val_accuracy: 0.7606\n",
            "Epoch 9/10\n",
            "102/102 [==============================] - 0s 1ms/step - loss: 0.5611 - accuracy: 0.7626 - val_loss: 0.4966 - val_accuracy: 0.7507\n",
            "Epoch 10/10\n",
            "102/102 [==============================] - 0s 1ms/step - loss: 0.5537 - accuracy: 0.7715 - val_loss: 0.4947 - val_accuracy: 0.7516\n"
          ]
        }
      ],
      "source": [
        "# Train the model\n",
        "\n",
        "history_func = model_func.fit(train_dataset, validation_data=(val_dataset), epochs=10)"
      ]
    },
    {
      "cell_type": "markdown",
      "metadata": {
        "id": "LpkCZtWkHmUn"
      },
      "source": [
        "### 6.3.3 Model Evaluation"
      ]
    },
    {
      "cell_type": "code",
      "execution_count": 58,
      "metadata": {
        "colab": {
          "base_uri": "https://localhost:8080/"
        },
        "id": "2OS6eS2kFzJ9",
        "outputId": "bcdcc2bc-9ec8-49c1-c7cf-3688be58a4ab"
      },
      "outputs": [
        {
          "name": "stdout",
          "output_type": "stream",
          "text": [
            "204/204 [==============================] - 0s 969us/step\n",
            "              precision    recall  f1-score   support\n",
            "\n",
            "           0       0.80      0.75      0.77      3261\n",
            "           1       0.76      0.82      0.79      3261\n",
            "\n",
            "    accuracy                           0.78      6522\n",
            "   macro avg       0.78      0.78      0.78      6522\n",
            "weighted avg       0.78      0.78      0.78      6522\n",
            "\n"
          ]
        }
      ],
      "source": [
        "# predict the data train\n",
        "y_pred_func = model_func.predict(X_train_final)\n",
        "# set threshold 0.5\n",
        "y_pred_func = np.where(y_pred_func >= 0.5, 1, 0)\n",
        "# result from classification report\n",
        "print(classification_report(y_train_balanced, y_pred_func))"
      ]
    },
    {
      "cell_type": "code",
      "execution_count": 59,
      "metadata": {
        "colab": {
          "base_uri": "https://localhost:8080/"
        },
        "id": "e7dzcqiI_t7K",
        "outputId": "de299465-d48d-409f-f2a8-6a85a8af12bc"
      },
      "outputs": [
        {
          "name": "stdout",
          "output_type": "stream",
          "text": [
            "44/44 [==============================] - 0s 870us/step\n",
            "              precision    recall  f1-score   support\n",
            "\n",
            "           0       0.90      0.75      0.82      1022\n",
            "           1       0.52      0.77      0.63       367\n",
            "\n",
            "    accuracy                           0.76      1389\n",
            "   macro avg       0.71      0.76      0.72      1389\n",
            "weighted avg       0.80      0.76      0.77      1389\n",
            "\n"
          ]
        }
      ],
      "source": [
        "# predict the data test\n",
        "y_pred_func_test = model_func.predict(X_test_final)\n",
        "# set threshold 0.5\n",
        "y_pred_func_test = np.where(y_pred_sq_test >= 0.5, 1, 0)\n",
        "# result from classification report\n",
        "print(classification_report(y_test, y_pred_func_test))"
      ]
    },
    {
      "cell_type": "markdown",
      "metadata": {
        "id": "Mjw66XNkY7-l"
      },
      "source": [
        "- the architecture used in this model is the same as in the sequential model\n",
        "- From the classification report results had difference between Sequential API and Functional API, the accuracy in Functional API between the data train is 77% and the test is 72% with a non-significant difference. The difference only reaches 5% so that it can be said that the model created has good fit with the architecture using the default activation function on each hidden layer.\n",
        "- For precision and recall at label 0, our functional model is quite good where we get a precision of 0.92 and a recall that is not too large, namely 0.68.\n",
        "- Precision: So out of 1022 customers who didn't churn, we managed to classify 92% of the customers as really not churn and and wrongly classified the remaining 8% as churn customers even though they shouldn't have.\n",
        "- Recall: So out of 1022 customers who didn't churn, we managed to classify 68% of the customers as really not churn and wrongly classify 32% who should be churn but we think of them as not churn.\n"
      ]
    },
    {
      "cell_type": "markdown",
      "metadata": {
        "id": "MyvRaWz9U64y"
      },
      "source": [
        "# 7 - Model Impovement"
      ]
    },
    {
      "cell_type": "markdown",
      "metadata": {
        "id": "S9m69HU3VMJI"
      },
      "source": [
        "After creating the model using the default parameters, model improvement will be carried out to reduce loss and increase the accuracy of the model. The way for hyperparamter tuning is to try changing the weight initialization, activation function, optimizer, adding or removing hidden layers, epochs and so on.\n",
        "\n",
        "Create an architecture from the previous sequential model and add tunning hyperparameters."
      ]
    },
    {
      "cell_type": "markdown",
      "metadata": {
        "id": "AqpZN0DoU_0i"
      },
      "source": [
        "## 7.1 Sequential API"
      ]
    },
    {
      "cell_type": "code",
      "execution_count": 60,
      "metadata": {
        "colab": {
          "base_uri": "https://localhost:8080/"
        },
        "id": "XaYYlCWogAhd",
        "outputId": "d463f0c5-69e7-4432-8963-b0a656fc09d4"
      },
      "outputs": [
        {
          "name": "stdout",
          "output_type": "stream",
          "text": [
            "Epoch 1/30\n",
            "102/102 [==============================] - 1s 2ms/step - loss: 0.6421 - accuracy: 0.6963 - val_loss: 1.1305 - val_accuracy: 0.3951\n",
            "Epoch 2/30\n",
            "102/102 [==============================] - 0s 1ms/step - loss: 0.6377 - accuracy: 0.6864 - val_loss: 0.6896 - val_accuracy: 0.6301\n",
            "Epoch 3/30\n",
            "102/102 [==============================] - 0s 1ms/step - loss: 0.5565 - accuracy: 0.7291 - val_loss: 0.6282 - val_accuracy: 0.6733\n",
            "Epoch 4/30\n",
            "102/102 [==============================] - 0s 1ms/step - loss: 0.5397 - accuracy: 0.7453 - val_loss: 0.5936 - val_accuracy: 0.6913\n",
            "Epoch 5/30\n",
            "102/102 [==============================] - 0s 1ms/step - loss: 0.5216 - accuracy: 0.7573 - val_loss: 0.5749 - val_accuracy: 0.7012\n",
            "Epoch 6/30\n",
            "102/102 [==============================] - 0s 1ms/step - loss: 0.5204 - accuracy: 0.7580 - val_loss: 0.5650 - val_accuracy: 0.7048\n",
            "Epoch 7/30\n",
            "102/102 [==============================] - 0s 1ms/step - loss: 0.5083 - accuracy: 0.7654 - val_loss: 0.5588 - val_accuracy: 0.7102\n",
            "Epoch 8/30\n",
            "102/102 [==============================] - 0s 1ms/step - loss: 0.5084 - accuracy: 0.7584 - val_loss: 0.5505 - val_accuracy: 0.7147\n",
            "Epoch 9/30\n",
            "102/102 [==============================] - 0s 1ms/step - loss: 0.5063 - accuracy: 0.7653 - val_loss: 0.5429 - val_accuracy: 0.7246\n",
            "Epoch 10/30\n",
            "102/102 [==============================] - 0s 1ms/step - loss: 0.5022 - accuracy: 0.7688 - val_loss: 0.5405 - val_accuracy: 0.7255\n",
            "Epoch 11/30\n",
            "102/102 [==============================] - 0s 2ms/step - loss: 0.5004 - accuracy: 0.7660 - val_loss: 0.5349 - val_accuracy: 0.7354\n",
            "Epoch 12/30\n",
            "102/102 [==============================] - 0s 1ms/step - loss: 0.4942 - accuracy: 0.7738 - val_loss: 0.5343 - val_accuracy: 0.7345\n",
            "Epoch 13/30\n",
            "102/102 [==============================] - 0s 1ms/step - loss: 0.4927 - accuracy: 0.7720 - val_loss: 0.5336 - val_accuracy: 0.7399\n",
            "Epoch 14/30\n",
            "102/102 [==============================] - 0s 1ms/step - loss: 0.4936 - accuracy: 0.7689 - val_loss: 0.5292 - val_accuracy: 0.7462\n",
            "Epoch 15/30\n",
            "102/102 [==============================] - 0s 2ms/step - loss: 0.4926 - accuracy: 0.7748 - val_loss: 0.5301 - val_accuracy: 0.7417\n",
            "Epoch 16/30\n",
            "102/102 [==============================] - 0s 1ms/step - loss: 0.4904 - accuracy: 0.7732 - val_loss: 0.5297 - val_accuracy: 0.7489\n",
            "Epoch 17/30\n",
            "102/102 [==============================] - 0s 1ms/step - loss: 0.4902 - accuracy: 0.7748 - val_loss: 0.5290 - val_accuracy: 0.7471\n",
            "Epoch 18/30\n",
            "102/102 [==============================] - 0s 1ms/step - loss: 0.4869 - accuracy: 0.7740 - val_loss: 0.5313 - val_accuracy: 0.7489\n",
            "Epoch 19/30\n",
            "102/102 [==============================] - 0s 1ms/step - loss: 0.4886 - accuracy: 0.7760 - val_loss: 0.5260 - val_accuracy: 0.7507\n",
            "Epoch 20/30\n",
            "102/102 [==============================] - 0s 2ms/step - loss: 0.4873 - accuracy: 0.7718 - val_loss: 0.5304 - val_accuracy: 0.7381\n",
            "Epoch 21/30\n",
            "102/102 [==============================] - 0s 1ms/step - loss: 0.4882 - accuracy: 0.7711 - val_loss: 0.5286 - val_accuracy: 0.7408\n",
            "Epoch 22/30\n",
            "102/102 [==============================] - 0s 1ms/step - loss: 0.4863 - accuracy: 0.7725 - val_loss: 0.5279 - val_accuracy: 0.7480\n",
            "Epoch 23/30\n",
            "102/102 [==============================] - 0s 1ms/step - loss: 0.4875 - accuracy: 0.7752 - val_loss: 0.5255 - val_accuracy: 0.7507\n",
            "Epoch 24/30\n",
            "102/102 [==============================] - 0s 1ms/step - loss: 0.4852 - accuracy: 0.7754 - val_loss: 0.5256 - val_accuracy: 0.7507\n",
            "Epoch 25/30\n",
            "102/102 [==============================] - 0s 1ms/step - loss: 0.4821 - accuracy: 0.7734 - val_loss: 0.5276 - val_accuracy: 0.7507\n",
            "Epoch 26/30\n",
            "102/102 [==============================] - 0s 1ms/step - loss: 0.4866 - accuracy: 0.7718 - val_loss: 0.5237 - val_accuracy: 0.7534\n",
            "Epoch 27/30\n",
            "102/102 [==============================] - 0s 2ms/step - loss: 0.4872 - accuracy: 0.7764 - val_loss: 0.5245 - val_accuracy: 0.7516\n",
            "Epoch 28/30\n",
            "102/102 [==============================] - 0s 1ms/step - loss: 0.4826 - accuracy: 0.7741 - val_loss: 0.5266 - val_accuracy: 0.7525\n",
            "Epoch 29/30\n",
            "102/102 [==============================] - 0s 1ms/step - loss: 0.4858 - accuracy: 0.7743 - val_loss: 0.5234 - val_accuracy: 0.7525\n",
            "Epoch 30/30\n",
            "102/102 [==============================] - 0s 1ms/step - loss: 0.4827 - accuracy: 0.7760 - val_loss: 0.5285 - val_accuracy: 0.7507\n"
          ]
        }
      ],
      "source": [
        "# Create a model architecture\n",
        "# define the improved Sequential model\n",
        "model_imp = tf.keras.models.Sequential()\n",
        "# layer input\n",
        "model_imp.add(tf.keras.layers.Dense(16, input_shape=(19,), kernel_initializer='he_uniform'))\n",
        "model_imp.add(tf.keras.layers.Dropout(rate=0.1))\n",
        "# hidden layer 1\n",
        "model_imp.add(tf.keras.layers.Dense(8, kernel_initializer='he_uniform'))\n",
        "model_imp.add(tf.keras.layers.Dropout(rate=0.2))\n",
        "# output layer\n",
        "model_imp.add(tf.keras.layers.Dense(1, activation='sigmoid'))\n",
        "\n",
        "#compile model\n",
        "model_imp.compile(loss='binary_crossentropy',\n",
        "              optimizer='adam',\n",
        "              metrics=['accuracy'])\n",
        "\n",
        "# training model dengan 30 epoch\n",
        "history_imp = model_imp.fit(train_dataset, \n",
        "                            epochs=30, \n",
        "                            validation_data=(val_dataset),\n",
        "                            verbose=1)"
      ]
    },
    {
      "cell_type": "markdown",
      "metadata": {
        "id": "_RpKDEgyb0s5"
      },
      "source": [
        "In the sequential model above, improvements are made by adding the number of hidden layers and also the number of neurons in the hidden layer.\n",
        "\n"
      ]
    },
    {
      "cell_type": "code",
      "execution_count": 61,
      "metadata": {
        "colab": {
          "base_uri": "https://localhost:8080/",
          "height": 281
        },
        "id": "kbfGEcRtVhxs",
        "outputId": "1e46f64b-659c-4d8a-f237-1369d62d195f"
      },
      "outputs": [
        {
          "data": {
            "image/png": "[encoded data removed]",
            "text/plain": [
              "<Figure size 640x480 with 1 Axes>"
            ]
          },
          "metadata": {},
          "output_type": "display_data"
        }
      ],
      "source": [
        "# transform into dataframe\n",
        "metrics_imp = pd.DataFrame(history_imp.history)\n",
        "# plot loss dan validation loss\n",
        "metrics_imp[['loss', 'val_loss']].plot()\n",
        "plt.title('Comparison of loss and validation loss')\n",
        "plt.show()"
      ]
    },
    {
      "cell_type": "code",
      "execution_count": 62,
      "metadata": {
        "colab": {
          "base_uri": "https://localhost:8080/",
          "height": 281
        },
        "id": "StKNetAfWF8D",
        "outputId": "6c708ec6-2eaa-41b2-ee67-2cc92c60500f"
      },
      "outputs": [
        {
          "data": {
            "image/png": "[encoded data removed]",
            "text/plain": [
              "<Figure size 640x480 with 1 Axes>"
            ]
          },
          "metadata": {},
          "output_type": "display_data"
        }
      ],
      "source": [
        "# plot accuracy dan validation accuracy\n",
        "metrics_imp[['accuracy', 'val_accuracy']].plot()\n",
        "plt.title('Comparison of accuracy dan validation accuracy')\n",
        "plt.show()"
      ]
    },
    {
      "cell_type": "code",
      "execution_count": 63,
      "metadata": {
        "colab": {
          "base_uri": "https://localhost:8080/"
        },
        "id": "ohCS4RoiWVkI",
        "outputId": "990d7eb0-c9c0-4153-9568-7383090ced33"
      },
      "outputs": [
        {
          "name": "stdout",
          "output_type": "stream",
          "text": [
            "204/204 [==============================] - 0s 786us/step\n",
            "              precision    recall  f1-score   support\n",
            "\n",
            "           0       0.83      0.70      0.76      3261\n",
            "           1       0.74      0.85      0.79      3261\n",
            "\n",
            "    accuracy                           0.78      6522\n",
            "   macro avg       0.78      0.78      0.78      6522\n",
            "weighted avg       0.78      0.78      0.78      6522\n",
            "\n"
          ]
        }
      ],
      "source": [
        "# predict data train\n",
        "y_pred_imp = model_imp.predict(X_train_final)\n",
        "# set threshold 0.5\n",
        "y_pred_imp = np.where(y_pred_imp >= 0.5, 1, 0)\n",
        "# result from classification report\n",
        "print(classification_report(y_train_balanced, y_pred_imp))"
      ]
    },
    {
      "cell_type": "code",
      "execution_count": 64,
      "metadata": {
        "colab": {
          "base_uri": "https://localhost:8080/"
        },
        "id": "VYH0fLUrWat5",
        "outputId": "e74cf5dc-c72c-4a52-8d12-177edd761a33"
      },
      "outputs": [
        {
          "name": "stdout",
          "output_type": "stream",
          "text": [
            "44/44 [==============================] - 0s 891us/step\n",
            "              precision    recall  f1-score   support\n",
            "\n",
            "           0       0.92      0.73      0.82      1022\n",
            "           1       0.53      0.83      0.64       367\n",
            "\n",
            "    accuracy                           0.76      1389\n",
            "   macro avg       0.72      0.78      0.73      1389\n",
            "weighted avg       0.82      0.76      0.77      1389\n",
            "\n"
          ]
        }
      ],
      "source": [
        "# predict data train\n",
        "y_pred_imp_test = model_imp.predict(X_test_final)\n",
        "# set threshold 0.5\n",
        "y_pred_imp_test = np.where(y_pred_imp_test >= 0.5, 1, 0)\n",
        "# result from classification report\n",
        "print(classification_report(y_test, y_pred_imp_test))"
      ]
    },
    {
      "cell_type": "markdown",
      "metadata": {
        "id": "eR189Obwct-U"
      },
      "source": [
        "The model has been improvmented with\n",
        "\n",
        "- added kernel initializer (weight) to input and hidden layers using he_uniform. these weights do variance scaling (ref: https://www.tensorflow.org/api_docs/python/tf/keras/initializers/HeUniform)\n",
        "- added a drop out rate whose value increases with each layer\n",
        "- increased the epoch value from 10 to 30\n",
        "- Actually the result of an improved model if it is re-run the value will still change, but here it is done to further stabilize the model in these changes and minimize the occurrence of gradient desent (either vanishing or exploding)\n",
        "- This improvement has also reduced the slightly overfit of the model."
      ]
    },
    {
      "cell_type": "markdown",
      "metadata": {
        "id": "WHhRUBxtVEZK"
      },
      "source": [
        "## 7.2 Functional API"
      ]
    },
    {
      "cell_type": "markdown",
      "metadata": {
        "id": "ztShMGGbWhKr"
      },
      "source": [
        "Make an improvment model from the previous Functional API."
      ]
    },
    {
      "cell_type": "code",
      "execution_count": 65,
      "metadata": {
        "colab": {
          "base_uri": "https://localhost:8080/"
        },
        "id": "Fnv7coDuVCPf",
        "outputId": "3eec4d00-9bde-408e-838d-0ad2a7bdd0b9"
      },
      "outputs": [
        {
          "name": "stdout",
          "output_type": "stream",
          "text": [
            "Epoch 1/30\n",
            "102/102 [==============================] - 1s 3ms/step - loss: 1.0728 - accuracy: 0.6500 - val_loss: 1.9640 - val_accuracy: 0.3636\n",
            "Epoch 2/30\n",
            "102/102 [==============================] - 0s 1ms/step - loss: 0.8565 - accuracy: 0.6392 - val_loss: 1.0028 - val_accuracy: 0.5383\n",
            "Epoch 3/30\n",
            "102/102 [==============================] - 0s 1ms/step - loss: 0.6568 - accuracy: 0.6903 - val_loss: 0.8116 - val_accuracy: 0.6022\n",
            "Epoch 4/30\n",
            "102/102 [==============================] - 0s 1ms/step - loss: 0.5874 - accuracy: 0.7191 - val_loss: 0.7131 - val_accuracy: 0.6454\n",
            "Epoch 5/30\n",
            "102/102 [==============================] - 0s 1ms/step - loss: 0.5613 - accuracy: 0.7372 - val_loss: 0.6838 - val_accuracy: 0.6589\n",
            "Epoch 6/30\n",
            "102/102 [==============================] - 0s 1ms/step - loss: 0.5510 - accuracy: 0.7340 - val_loss: 0.6502 - val_accuracy: 0.6715\n",
            "Epoch 7/30\n",
            "102/102 [==============================] - 0s 1ms/step - loss: 0.5310 - accuracy: 0.7458 - val_loss: 0.6185 - val_accuracy: 0.6850\n",
            "Epoch 8/30\n",
            "102/102 [==============================] - 0s 1ms/step - loss: 0.5311 - accuracy: 0.7462 - val_loss: 0.6047 - val_accuracy: 0.6922\n",
            "Epoch 9/30\n",
            "102/102 [==============================] - 0s 1ms/step - loss: 0.5278 - accuracy: 0.7505 - val_loss: 0.5919 - val_accuracy: 0.6976\n",
            "Epoch 10/30\n",
            "102/102 [==============================] - 0s 1ms/step - loss: 0.5170 - accuracy: 0.7565 - val_loss: 0.5812 - val_accuracy: 0.7021\n",
            "Epoch 11/30\n",
            "102/102 [==============================] - 0s 1ms/step - loss: 0.5135 - accuracy: 0.7553 - val_loss: 0.5692 - val_accuracy: 0.7039\n",
            "Epoch 12/30\n",
            "102/102 [==============================] - 0s 1ms/step - loss: 0.5079 - accuracy: 0.7634 - val_loss: 0.5693 - val_accuracy: 0.7057\n",
            "Epoch 13/30\n",
            "102/102 [==============================] - 0s 1ms/step - loss: 0.5073 - accuracy: 0.7597 - val_loss: 0.5642 - val_accuracy: 0.7075\n",
            "Epoch 14/30\n",
            "102/102 [==============================] - 0s 1ms/step - loss: 0.5056 - accuracy: 0.7611 - val_loss: 0.5524 - val_accuracy: 0.7129\n",
            "Epoch 15/30\n",
            "102/102 [==============================] - 0s 1ms/step - loss: 0.5021 - accuracy: 0.7662 - val_loss: 0.5503 - val_accuracy: 0.7174\n",
            "Epoch 16/30\n",
            "102/102 [==============================] - 0s 1ms/step - loss: 0.4960 - accuracy: 0.7628 - val_loss: 0.5513 - val_accuracy: 0.7165\n",
            "Epoch 17/30\n",
            "102/102 [==============================] - 0s 1ms/step - loss: 0.5029 - accuracy: 0.7651 - val_loss: 0.5441 - val_accuracy: 0.7246\n",
            "Epoch 18/30\n",
            "102/102 [==============================] - 0s 1ms/step - loss: 0.4939 - accuracy: 0.7674 - val_loss: 0.5484 - val_accuracy: 0.7192\n",
            "Epoch 19/30\n",
            "102/102 [==============================] - 0s 1ms/step - loss: 0.5003 - accuracy: 0.7656 - val_loss: 0.5426 - val_accuracy: 0.7255\n",
            "Epoch 20/30\n",
            "102/102 [==============================] - 0s 1ms/step - loss: 0.4958 - accuracy: 0.7625 - val_loss: 0.5385 - val_accuracy: 0.7300\n",
            "Epoch 21/30\n",
            "102/102 [==============================] - 0s 1ms/step - loss: 0.4925 - accuracy: 0.7649 - val_loss: 0.5372 - val_accuracy: 0.7354\n",
            "Epoch 22/30\n",
            "102/102 [==============================] - 0s 1ms/step - loss: 0.4916 - accuracy: 0.7692 - val_loss: 0.5406 - val_accuracy: 0.7363\n",
            "Epoch 23/30\n",
            "102/102 [==============================] - 0s 1ms/step - loss: 0.4897 - accuracy: 0.7680 - val_loss: 0.5358 - val_accuracy: 0.7336\n",
            "Epoch 24/30\n",
            "102/102 [==============================] - 0s 1ms/step - loss: 0.4901 - accuracy: 0.7686 - val_loss: 0.5353 - val_accuracy: 0.7363\n",
            "Epoch 25/30\n",
            "102/102 [==============================] - 0s 1ms/step - loss: 0.4899 - accuracy: 0.7685 - val_loss: 0.5353 - val_accuracy: 0.7372\n",
            "Epoch 26/30\n",
            "102/102 [==============================] - 0s 1ms/step - loss: 0.4895 - accuracy: 0.7705 - val_loss: 0.5324 - val_accuracy: 0.7372\n",
            "Epoch 27/30\n",
            "102/102 [==============================] - 0s 1ms/step - loss: 0.4881 - accuracy: 0.7699 - val_loss: 0.5333 - val_accuracy: 0.7381\n",
            "Epoch 28/30\n",
            "102/102 [==============================] - 0s 1ms/step - loss: 0.4895 - accuracy: 0.7683 - val_loss: 0.5299 - val_accuracy: 0.7372\n",
            "Epoch 29/30\n",
            "102/102 [==============================] - 0s 1ms/step - loss: 0.4864 - accuracy: 0.7752 - val_loss: 0.5308 - val_accuracy: 0.7372\n",
            "Epoch 30/30\n",
            "102/102 [==============================] - 0s 1ms/step - loss: 0.4854 - accuracy: 0.7722 - val_loss: 0.5294 - val_accuracy: 0.7381\n"
          ]
        }
      ],
      "source": [
        "# create model\n",
        "# define input layer\n",
        "input_func = tf.keras.layers.Input(19,)\n",
        "# hidden layer 1\n",
        "hidden_1 = tf.keras.layers.Dense(16, kernel_initializer='he_uniform')(input_func)\n",
        "drop_1 = tf.keras.layers.Dropout(rate=0.1) (hidden_1)\n",
        "# hidden layer 2\n",
        "hidden_2 = tf.keras.layers.Dense(8, kernel_initializer='he_uniform')(drop_1)\n",
        "drop_2 = tf.keras.layers.Dropout(rate=0.1) (hidden_2)\n",
        "# output layer\n",
        "output_func = tf.keras.layers.Dense(1, activation='sigmoid') (drop_2)\n",
        "# define model\n",
        "model_imp_func = tf.keras.Model(inputs=input_func, outputs=output_func)\n",
        "\n",
        "#compile model\n",
        "model_imp_func.compile(loss='binary_crossentropy',\n",
        "              optimizer='adam',\n",
        "              metrics=['accuracy'])\n",
        "\n",
        "# training model with 30 epoch\n",
        "history_imp_func = model_imp_func.fit(train_dataset, \n",
        "                            epochs=30, \n",
        "                            validation_data=(val_dataset),\n",
        "                            verbose=1)"
      ]
    },
    {
      "cell_type": "markdown",
      "metadata": {
        "id": "JCcOq0pXcRMW"
      },
      "source": [
        "In the sequential model above, improvements are made by adding the number of hidden layers and also the number of neurons in the hidden layer. There is also an additional use of the he_uniform initializer."
      ]
    },
    {
      "cell_type": "code",
      "execution_count": 66,
      "metadata": {
        "colab": {
          "base_uri": "https://localhost:8080/",
          "height": 281
        },
        "id": "X69OG2b3W-wL",
        "outputId": "db6c4185-d2ec-4002-82c9-2a3571c28873"
      },
      "outputs": [
        {
          "data": {
            "image/png": "[encoded data removed]",
            "text/plain": [
              "<Figure size 640x480 with 1 Axes>"
            ]
          },
          "metadata": {},
          "output_type": "display_data"
        }
      ],
      "source": [
        "# change into dataframe\n",
        "metrics_imp_func = pd.DataFrame(history_imp_func.history)\n",
        "# plot loss dan validation loss\n",
        "metrics_imp_func[['loss', 'val_loss']].plot()\n",
        "plt.title('Comparing loss and validation loss')\n",
        "plt.show()"
      ]
    },
    {
      "cell_type": "code",
      "execution_count": 67,
      "metadata": {
        "colab": {
          "base_uri": "https://localhost:8080/",
          "height": 281
        },
        "id": "NCfyyG0hXFhE",
        "outputId": "20110f58-adc4-4ab3-8ea9-922699106e06"
      },
      "outputs": [
        {
          "data": {
            "image/png": "[encoded data removed]",
            "text/plain": [
              "<Figure size 640x480 with 1 Axes>"
            ]
          },
          "metadata": {},
          "output_type": "display_data"
        }
      ],
      "source": [
        "# plot accuracy dan validation accuracy\n",
        "metrics_imp_func[['accuracy', 'val_accuracy']].plot()\n",
        "plt.title('Comparing accuracy and validation accuracy')\n",
        "plt.show()"
      ]
    },
    {
      "cell_type": "markdown",
      "metadata": {
        "id": "XfwBd0wahSoI"
      },
      "source": [
        "Improvements have been made to the API functional model:\n",
        "\n",
        "- In this model, the addition of a hidden layer is carried out\n",
        "- Added a kernel initializer that is the same as the sequential model, namely he_uniform\n",
        "- Using epoch = 30"
      ]
    },
    {
      "cell_type": "code",
      "execution_count": 68,
      "metadata": {
        "colab": {
          "base_uri": "https://localhost:8080/"
        },
        "id": "zQJxb77wXKUC",
        "outputId": "7910a8c1-c413-49d0-db1d-9f577032674f"
      },
      "outputs": [
        {
          "name": "stdout",
          "output_type": "stream",
          "text": [
            "204/204 [==============================] - 0s 708us/step\n",
            "              precision    recall  f1-score   support\n",
            "\n",
            "           0       0.83      0.70      0.76      3261\n",
            "           1       0.74      0.85      0.79      3261\n",
            "\n",
            "    accuracy                           0.78      6522\n",
            "   macro avg       0.78      0.78      0.77      6522\n",
            "weighted avg       0.78      0.78      0.77      6522\n",
            "\n"
          ]
        }
      ],
      "source": [
        "# predict data train\n",
        "y_pred_imp_fc = model_imp_func.predict(X_train_final)\n",
        "# set threshold 0.5\n",
        "y_pred_imp_fc = np.where(y_pred_imp_fc >= 0.5, 1, 0)\n",
        "# result from classification report\n",
        "print(classification_report(y_train_balanced, y_pred_imp_fc))"
      ]
    },
    {
      "cell_type": "code",
      "execution_count": 69,
      "metadata": {
        "colab": {
          "base_uri": "https://localhost:8080/"
        },
        "id": "f079a9edXQj1",
        "outputId": "7c636cc3-6198-4e6a-cf6e-a0c6b1b7f4aa"
      },
      "outputs": [
        {
          "name": "stdout",
          "output_type": "stream",
          "text": [
            "44/44 [==============================] - 0s 768us/step\n",
            "              precision    recall  f1-score   support\n",
            "\n",
            "           0       0.92      0.73      0.81      1022\n",
            "           1       0.52      0.83      0.64       367\n",
            "\n",
            "    accuracy                           0.75      1389\n",
            "   macro avg       0.72      0.78      0.73      1389\n",
            "weighted avg       0.82      0.75      0.77      1389\n",
            "\n"
          ]
        }
      ],
      "source": [
        "# predict data train\n",
        "y_pred_imp_fc_test = model_imp_func.predict(X_test_final)\n",
        "# set threshold 0.5\n",
        "y_pred_imp_fc_test = np.where(y_pred_imp_fc_test >= 0.5, 1, 0)\n",
        "# result from classification report\n",
        "print(classification_report(y_test, y_pred_imp_fc_test))"
      ]
    },
    {
      "cell_type": "markdown",
      "metadata": {
        "id": "qZh3x5MgXWkQ"
      },
      "source": [
        "# 8 - Model Saving"
      ]
    },
    {
      "cell_type": "markdown",
      "metadata": {
        "id": "BlKNsa7Erv9w"
      },
      "source": [
        "model saving which is used for model inference and model deployment. The best model chosen is the model that has been improved.\n"
      ]
    },
    {
      "cell_type": "code",
      "execution_count": 70,
      "metadata": {
        "id": "la2_bqoqXYUx"
      },
      "outputs": [],
      "source": [
        "# saving scalar\n",
        "with open('model_scaler.pkl', 'wb') as file_1:\n",
        "    joblib.dump(scaler, file_1)\n",
        "\n",
        "# saving encoder\n",
        "with open('model_encoder.pkl', 'wb') as file_2:\n",
        "    joblib.dump(encoder, file_2)\n",
        "\n",
        "# saving numeric columns\n",
        "with open('list_num_cols.txt', 'w') as file_3:\n",
        "    json.dump(num_columns, file_3)\n",
        "\n",
        "# saving categorical column\n",
        "with open('list_cat_cols.txt', 'w') as file_4:\n",
        "    json.dump(cat_columns, file_4)"
      ]
    },
    {
      "cell_type": "code",
      "execution_count": 71,
      "metadata": {
        "colab": {
          "base_uri": "https://localhost:8080/"
        },
        "id": "nVYqfNHYrPys",
        "outputId": "71289c68-66be-4a44-e932-8308202f8d1b"
      },
      "outputs": [
        {
          "name": "stdout",
          "output_type": "stream",
          "text": [
            "Model: \"model_1\"\n",
            "_________________________________________________________________\n",
            " Layer (type)                Output Shape              Param #   \n",
            "=================================================================\n",
            " input_2 (InputLayer)        [(None, 19)]              0         \n",
            "                                                                 \n",
            " dense_7 (Dense)             (None, 16)                320       \n",
            "                                                                 \n",
            " dropout_2 (Dropout)         (None, 16)                0         \n",
            "                                                                 \n",
            " dense_8 (Dense)             (None, 8)                 136       \n",
            "                                                                 \n",
            " dropout_3 (Dropout)         (None, 8)                 0         \n",
            "                                                                 \n",
            " dense_9 (Dense)             (None, 1)                 9         \n",
            "                                                                 \n",
            "=================================================================\n",
            "Total params: 465\n",
            "Trainable params: 465\n",
            "Non-trainable params: 0\n",
            "_________________________________________________________________\n"
          ]
        }
      ],
      "source": [
        "# Summary of Model Sequential\n",
        "\n",
        "model_imp_func.summary()"
      ]
    },
    {
      "cell_type": "code",
      "execution_count": 72,
      "metadata": {
        "colab": {
          "base_uri": "https://localhost:8080/"
        },
        "id": "UCnZliN3rc3X",
        "outputId": "cc2cbb5a-298d-44b8-e4e5-67ff4f64f057"
      },
      "outputs": [
        {
          "name": "stdout",
          "output_type": "stream",
          "text": [
            "Model: \"model_1\"\n",
            "_________________________________________________________________\n",
            " Layer (type)                Output Shape              Param #   \n",
            "=================================================================\n",
            " input_2 (InputLayer)        [(None, 19)]              0         \n",
            "                                                                 \n",
            " dense_7 (Dense)             (None, 16)                320       \n",
            "                                                                 \n",
            " dropout_2 (Dropout)         (None, 16)                0         \n",
            "                                                                 \n",
            " dense_8 (Dense)             (None, 8)                 136       \n",
            "                                                                 \n",
            " dropout_3 (Dropout)         (None, 8)                 0         \n",
            "                                                                 \n",
            " dense_9 (Dense)             (None, 1)                 9         \n",
            "                                                                 \n",
            "=================================================================\n",
            "Total params: 465\n",
            "Trainable params: 0\n",
            "Non-trainable params: 465\n",
            "_________________________________________________________________\n"
          ]
        }
      ],
      "source": [
        "# Freeze Model\n",
        "\n",
        "model_imp_func.trainable = False\n",
        "model_imp_func.summary()"
      ]
    },
    {
      "cell_type": "code",
      "execution_count": 73,
      "metadata": {
        "id": "sg62Gd4krfVI"
      },
      "outputs": [
        {
          "name": "stderr",
          "output_type": "stream",
          "text": [
            "WARNING:absl:Found untraced functions such as _update_step_xla while saving (showing 1 of 1). These functions will not be directly callable after loading.\n"
          ]
        },
        {
          "name": "stdout",
          "output_type": "stream",
          "text": [
            "INFO:tensorflow:Assets written to: model.final/assets\n"
          ]
        },
        {
          "name": "stderr",
          "output_type": "stream",
          "text": [
            "INFO:tensorflow:Assets written to: model.final/assets\n"
          ]
        }
      ],
      "source": [
        "# Save ANN Model\n",
        "\n",
        "model_imp_func.save('model.final')"
      ]
    },
    {
      "cell_type": "markdown",
      "metadata": {
        "id": "KOUVcfgisW8P"
      },
      "source": [
        "# 9 - Inference"
      ]
    },
    {
      "cell_type": "code",
      "execution_count": 74,
      "metadata": {
        "id": "Rb7e3ROYsZsr"
      },
      "outputs": [],
      "source": [
        "# Load model\n",
        "with open('model_scaler.pkl', 'rb') as file_1:\n",
        "    model_scaler = joblib.load(file_1)\n",
        "\n",
        "with open('model_encoder.pkl', 'rb') as file_2:\n",
        "    model_encoder = joblib.load(file_2)\n",
        "\n",
        "with open('list_num_cols.txt', 'r') as file_3:\n",
        "    list_num_cols = json.load(file_3)\n",
        "\n",
        "with open('list_cat_cols.txt', 'r') as file_4:\n",
        "    list_cat_cols = json.load(file_4)\n",
        "\n",
        "model_ann = load_model('model.final')    "
      ]
    },
    {
      "cell_type": "code",
      "execution_count": 75,
      "metadata": {
        "id": "rIiV3qSeux74"
      },
      "outputs": [],
      "source": [
        "# separates values ​​based on column type\n",
        "data_inf_num = data_inf[num_columns]\n",
        "data_inf_cat = data_inf[cat_columns]\n",
        "\n",
        "#scaling and encoding\n",
        "data_inf_scaled = model_scaler.transform(data_inf_num) \n",
        "data_inf_encoded = model_encoder.transform(data_inf_cat)\n",
        "\n",
        "# Concate Numerical Columns and Categorical Columns\n",
        "data_inf_final = np.concatenate([data_inf_scaled, data_inf_encoded], axis=1)"
      ]
    },
    {
      "cell_type": "code",
      "execution_count": 76,
      "metadata": {
        "colab": {
          "base_uri": "https://localhost:8080/"
        },
        "id": "_9KfNrWTvPxr",
        "outputId": "3ab13d71-b9cb-4355-fdce-4775305340f9"
      },
      "outputs": [
        {
          "name": "stdout",
          "output_type": "stream",
          "text": [
            "4/4 [==============================] - 0s 2ms/step\n"
          ]
        }
      ],
      "source": [
        "# predict data inference\n",
        "y_pred_inf = model_ann.predict(data_inf_final)\n",
        "# set threshold 0.5\n",
        "y_pred_inf = np.where(y_pred_inf >= 0.5, 1, 0)\n"
      ]
    },
    {
      "cell_type": "code",
      "execution_count": 77,
      "metadata": {
        "colab": {
          "base_uri": "https://localhost:8080/",
          "height": 404
        },
        "id": "aaOdVPbwwIY4",
        "outputId": "40d93c14-9ba1-403d-b4a2-f5263c95d3a3"
      },
      "outputs": [
        {
          "data": {
            "text/html": [
              "<div>\n",
              "<style scoped>\n",
              "    .dataframe tbody tr th:only-of-type {\n",
              "        vertical-align: middle;\n",
              "    }\n",
              "\n",
              "    .dataframe tbody tr th {\n",
              "        vertical-align: top;\n",
              "    }\n",
              "\n",
              "    .dataframe thead th {\n",
              "        text-align: right;\n",
              "    }\n",
              "</style>\n",
              "<table border=\"1\" class=\"dataframe\">\n",
              "  <thead>\n",
              "    <tr style=\"text-align: right;\">\n",
              "      <th></th>\n",
              "      <th>gender</th>\n",
              "      <th>SeniorCitizen</th>\n",
              "      <th>Partner</th>\n",
              "      <th>Dependents</th>\n",
              "      <th>tenure</th>\n",
              "      <th>PhoneService</th>\n",
              "      <th>MultipleLines</th>\n",
              "      <th>InternetService</th>\n",
              "      <th>OnlineSecurity</th>\n",
              "      <th>OnlineBackup</th>\n",
              "      <th>...</th>\n",
              "      <th>TechSupport</th>\n",
              "      <th>StreamingTV</th>\n",
              "      <th>StreamingMovies</th>\n",
              "      <th>Contract</th>\n",
              "      <th>PaperlessBilling</th>\n",
              "      <th>PaymentMethod</th>\n",
              "      <th>MonthlyCharges</th>\n",
              "      <th>TotalCharges</th>\n",
              "      <th>Churn</th>\n",
              "      <th>Churn Prediction</th>\n",
              "    </tr>\n",
              "  </thead>\n",
              "  <tbody>\n",
              "    <tr>\n",
              "      <th>0</th>\n",
              "      <td>Female</td>\n",
              "      <td>0</td>\n",
              "      <td>No</td>\n",
              "      <td>Yes</td>\n",
              "      <td>40</td>\n",
              "      <td>Yes</td>\n",
              "      <td>No</td>\n",
              "      <td>DSL</td>\n",
              "      <td>Yes</td>\n",
              "      <td>No</td>\n",
              "      <td>...</td>\n",
              "      <td>Yes</td>\n",
              "      <td>Yes</td>\n",
              "      <td>No</td>\n",
              "      <td>Month-to-month</td>\n",
              "      <td>Yes</td>\n",
              "      <td>Credit card (automatic)</td>\n",
              "      <td>64.10</td>\n",
              "      <td>2460.35</td>\n",
              "      <td>0</td>\n",
              "      <td>0</td>\n",
              "    </tr>\n",
              "    <tr>\n",
              "      <th>1</th>\n",
              "      <td>Male</td>\n",
              "      <td>1</td>\n",
              "      <td>Yes</td>\n",
              "      <td>No</td>\n",
              "      <td>52</td>\n",
              "      <td>Yes</td>\n",
              "      <td>Yes</td>\n",
              "      <td>Fiber optic</td>\n",
              "      <td>Yes</td>\n",
              "      <td>No</td>\n",
              "      <td>...</td>\n",
              "      <td>No</td>\n",
              "      <td>Yes</td>\n",
              "      <td>Yes</td>\n",
              "      <td>Month-to-month</td>\n",
              "      <td>Yes</td>\n",
              "      <td>Electronic check</td>\n",
              "      <td>104.20</td>\n",
              "      <td>5568.35</td>\n",
              "      <td>1</td>\n",
              "      <td>1</td>\n",
              "    </tr>\n",
              "    <tr>\n",
              "      <th>2</th>\n",
              "      <td>Male</td>\n",
              "      <td>1</td>\n",
              "      <td>Yes</td>\n",
              "      <td>No</td>\n",
              "      <td>1</td>\n",
              "      <td>Yes</td>\n",
              "      <td>No</td>\n",
              "      <td>Fiber optic</td>\n",
              "      <td>No</td>\n",
              "      <td>No</td>\n",
              "      <td>...</td>\n",
              "      <td>No</td>\n",
              "      <td>No</td>\n",
              "      <td>No</td>\n",
              "      <td>Month-to-month</td>\n",
              "      <td>Yes</td>\n",
              "      <td>Electronic check</td>\n",
              "      <td>70.30</td>\n",
              "      <td>70.30</td>\n",
              "      <td>1</td>\n",
              "      <td>1</td>\n",
              "    </tr>\n",
              "    <tr>\n",
              "      <th>3</th>\n",
              "      <td>Female</td>\n",
              "      <td>0</td>\n",
              "      <td>No</td>\n",
              "      <td>No</td>\n",
              "      <td>1</td>\n",
              "      <td>No</td>\n",
              "      <td>No phone service</td>\n",
              "      <td>DSL</td>\n",
              "      <td>No</td>\n",
              "      <td>No</td>\n",
              "      <td>...</td>\n",
              "      <td>Yes</td>\n",
              "      <td>No</td>\n",
              "      <td>No</td>\n",
              "      <td>Month-to-month</td>\n",
              "      <td>No</td>\n",
              "      <td>Mailed check</td>\n",
              "      <td>30.55</td>\n",
              "      <td>30.55</td>\n",
              "      <td>0</td>\n",
              "      <td>1</td>\n",
              "    </tr>\n",
              "    <tr>\n",
              "      <th>4</th>\n",
              "      <td>Female</td>\n",
              "      <td>0</td>\n",
              "      <td>Yes</td>\n",
              "      <td>Yes</td>\n",
              "      <td>72</td>\n",
              "      <td>No</td>\n",
              "      <td>No phone service</td>\n",
              "      <td>DSL</td>\n",
              "      <td>Yes</td>\n",
              "      <td>Yes</td>\n",
              "      <td>...</td>\n",
              "      <td>Yes</td>\n",
              "      <td>Yes</td>\n",
              "      <td>Yes</td>\n",
              "      <td>Two year</td>\n",
              "      <td>No</td>\n",
              "      <td>Bank transfer (automatic)</td>\n",
              "      <td>64.45</td>\n",
              "      <td>4528.00</td>\n",
              "      <td>0</td>\n",
              "      <td>0</td>\n",
              "    </tr>\n",
              "  </tbody>\n",
              "</table>\n",
              "<p>5 rows × 21 columns</p>\n",
              "</div>"
            ],
            "text/plain": [
              "   gender  SeniorCitizen Partner Dependents  tenure PhoneService  \\\n",
              "0  Female              0      No        Yes      40          Yes   \n",
              "1    Male              1     Yes         No      52          Yes   \n",
              "2    Male              1     Yes         No       1          Yes   \n",
              "3  Female              0      No         No       1           No   \n",
              "4  Female              0     Yes        Yes      72           No   \n",
              "\n",
              "      MultipleLines InternetService OnlineSecurity OnlineBackup  ...  \\\n",
              "0                No             DSL            Yes           No  ...   \n",
              "1               Yes     Fiber optic            Yes           No  ...   \n",
              "2                No     Fiber optic             No           No  ...   \n",
              "3  No phone service             DSL             No           No  ...   \n",
              "4  No phone service             DSL            Yes          Yes  ...   \n",
              "\n",
              "  TechSupport StreamingTV StreamingMovies        Contract PaperlessBilling  \\\n",
              "0         Yes         Yes              No  Month-to-month              Yes   \n",
              "1          No         Yes             Yes  Month-to-month              Yes   \n",
              "2          No          No              No  Month-to-month              Yes   \n",
              "3         Yes          No              No  Month-to-month               No   \n",
              "4         Yes         Yes             Yes        Two year               No   \n",
              "\n",
              "               PaymentMethod MonthlyCharges  TotalCharges  Churn  \\\n",
              "0    Credit card (automatic)          64.10       2460.35      0   \n",
              "1           Electronic check         104.20       5568.35      1   \n",
              "2           Electronic check          70.30         70.30      1   \n",
              "3               Mailed check          30.55         30.55      0   \n",
              "4  Bank transfer (automatic)          64.45       4528.00      0   \n",
              "\n",
              "   Churn Prediction  \n",
              "0                 0  \n",
              "1                 1  \n",
              "2                 1  \n",
              "3                 1  \n",
              "4                 0  \n",
              "\n",
              "[5 rows x 21 columns]"
            ]
          },
          "execution_count": 77,
          "metadata": {},
          "output_type": "execute_result"
        }
      ],
      "source": [
        "# make the prediction results into a dataframe\n",
        "y_pred_inf_df = pd.DataFrame(y_pred_inf, columns=['Churn Prediction'])\n",
        "\n",
        "# Combine the Inference data with the predicate column\n",
        "data_inf_predic = pd.concat([data_inf, y_pred_inf_df], axis=1)\n",
        "data_inf_predic.head(5)"
      ]
    },
    {
      "cell_type": "code",
      "execution_count": 78,
      "metadata": {
        "colab": {
          "base_uri": "https://localhost:8080/"
        },
        "id": "w-gNvi_4wfiY",
        "outputId": "61edc250-4713-44cd-a291-aafb02d1ce9c"
      },
      "outputs": [
        {
          "data": {
            "text/plain": [
              "0    81\n",
              "1    19\n",
              "Name: Churn, dtype: int64"
            ]
          },
          "execution_count": 78,
          "metadata": {},
          "output_type": "execute_result"
        }
      ],
      "source": [
        "# count actual value of Churn\n",
        "data_inf_predic[\"Churn\"].value_counts()"
      ]
    },
    {
      "cell_type": "code",
      "execution_count": 79,
      "metadata": {
        "colab": {
          "base_uri": "https://localhost:8080/"
        },
        "id": "IdNK8Km4wjT3",
        "outputId": "9b7076f8-3c0f-41d9-e1f1-b014de9dae70"
      },
      "outputs": [
        {
          "data": {
            "text/plain": [
              "0    67\n",
              "1    33\n",
              "Name: Churn Prediction, dtype: int64"
            ]
          },
          "execution_count": 79,
          "metadata": {},
          "output_type": "execute_result"
        }
      ],
      "source": [
        "# show Churn prediction\n",
        "data_inf_predic[\"Churn Prediction\"].value_counts()"
      ]
    },
    {
      "cell_type": "markdown",
      "metadata": {
        "id": "RNBvqFBuwzoh"
      },
      "source": [
        "Results of data inference:\n",
        "\n",
        "- Models that have been saved and loaded for use in model inference have been successfully used.\n",
        "- Of the 100 existing data, there are 24 incorrect data predictions. So the model has succeeded in predicting 76% of the inference data.\n",
        "- This result is in accordance with the results of the functional model test which has been improved because the accuracy of the model is only 76%, so it has the same value."
      ]
    },
    {
      "cell_type": "markdown",
      "metadata": {
        "id": "jCfjch0czUL7"
      },
      "source": [
        "# 10 - Overall Analysis"
      ]
    },
    {
      "cell_type": "markdown",
      "metadata": {
        "id": "h-mcj6omz0BM"
      },
      "source": [
        "In Milestone 1, a Telco Customer Churn dataset is given which will predict whether a customer churns or not. The dataset consists of 7043 rows and 21 columns with categorical and numeric data types. Models created using Artificial Neural Network (ANN) with Sequential and Functional models.\n",
        "\n",
        "**EDA**\n",
        "\n",
        "- The total number of customers by gender is almost equal with a difference of 0.48 percent.\n",
        "- The average length of time of customers leaves a Telco company is 17.9 months, and the average longevity of customers from Telco companies is 37.5 months\n",
        "- average monthly cost of each leaving customer is USD 74.4, and the average monthly cost of each staying customer is USD 61.2, Maybe one of the causes of leaving customers is because the monthly charges are more expensive when compared to customers who don't leave.\n",
        "- the average of total charges of each leaving customer is USD 1531.7, and the average of total charges for each staying customer is USD 2555.3, although the average total cost paid by surviving customers is higher than leaving customers, they are loyal to the company.\n",
        "- Comparison of target labels is known to be balanced, but does not include extrem because labels 1 or yes have a total of 26.54%. So balance data is still considered medium. But the target data balance handling is carried out so that the model made is better.\n",
        "- of the two types of customers, the number of customers who do not use tech support services is always more than those who use tech support services to help solve their problems. based on personal judgment that the customer who left was desperate with the existing problem, but was reluctant to contact the tech support service. Because it can be seen that the number of customers who stayed mostly used tech support services.\n",
        "\n",
        "**Preprosessing** \n",
        "\n",
        "Before the data is entered into the model, data processing is first carried out as in feature selection, namely dropping the CustomerID column because it is considered to have no effect on customer churn or not based on ID or identity. Separate data inference, train, validation and test. Perform cleaning missing values ​​and outliers. Group numeric and categorical data. do the handling of imbalanced data by using SMOTENC then do the scaling and encoding.\n",
        "\n",
        "**Model**\n",
        "\n",
        "There are two models used to classify customer churn this time, namely the sequential model and also the functional model. Both models are formed with the same architecture, namely using 1 hidden layer with 4 neurons and 1 output layer with 1 neuron. Both models produce quite good performance as seen from the graphs of loss and accuracy during training which are quite good and also not overfit. For the classification report, we get the same accuracy for both models, namely 0.74.\n",
        "\n",
        "The sequential and functional models that have been made earlier are tried to be improved by changing the hyperparameters. In the sequential model I didn't add the number of hidden layers, but I added the kernel initializer to he_unform, besides that the number of neurons was also changed to 8 in the hidden layer. I also changed the number of epochs from 10 to 30. The same changes were made to the functional model. But in the functional model I changed the hidden layer to 2. I also changed the number of neurons to 16 in the first hidden layer and in the second hidden layer to 8.\n",
        "\n",
        "**Model Inference**\n",
        "\n",
        "- Models that have been saved and loaded for use in model inference have been successfully used.\n",
        "- Of the 100 existing data, there are 24 incorrect data predictions. So the model has succeeded in predicting 76% of the inference data.\n",
        "- This result is in accordance with the results of the functional model test which has been improved because the accuracy of the model is only 76%, so it has the same value.\n",
        "\n",
        "**suggestion**\n",
        "\n",
        "Overall the model made is quite good and stable, but still needs to be explored to further improve the performance of the model both in terms of accuracy, speed and others. If we want to retain more customers, we should make a discount for new customers (make it 3 months contract), make tech-support access easier, while making our services more reliable, make better deals for yearly and 2 year contracts and have shorter term contracts like 3 or 6 month contracts.\n"
      ]
    }
  ],
  "metadata": {
    "colab": {
      "provenance": []
    },
    "kernelspec": {
      "display_name": "Python 3.9.6 64-bit",
      "language": "python",
      "name": "python3"
    },
    "language_info": {
      "codemirror_mode": {
        "name": "ipython",
        "version": 3
      },
      "file_extension": ".py",
      "mimetype": "text/x-python",
      "name": "python",
      "nbconvert_exporter": "python",
      "pygments_lexer": "ipython3",
      "version": "3.9.6"
    },
    "orig_nbformat": 4,
    "vscode": {
      "interpreter": {
        "hash": "31f2aee4e71d21fbe5cf8b01ff0e069b9275f58929596ceb00d14d90e3e16cd6"
      }
    }
  },
  "nbformat": 4,
  "nbformat_minor": 0
}
